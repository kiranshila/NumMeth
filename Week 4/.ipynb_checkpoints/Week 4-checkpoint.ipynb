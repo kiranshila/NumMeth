{
 "cells": [
  {
   "cell_type": "code",
   "execution_count": 1,
   "metadata": {},
   "outputs": [],
   "source": [
    "using Plots\n",
    "using LinearAlgebra\n",
    "using BenchmarkTools\n",
    "using SparseArrays"
   ]
  },
  {
   "cell_type": "markdown",
   "metadata": {},
   "source": [
    "# Week 4 - Boundary Value Problems and the Finite Difference Method\n",
    "## Kiran Shila - U54532811"
   ]
  },
  {
   "cell_type": "markdown",
   "metadata": {},
   "source": [
    "## Part 1 - Finite Difference Laplace Equation\n",
    "\n",
    "So first we are going to write the function that calculates the \"A\" Matrix that describes the operator on the source vector b\n",
    "\n",
    "For this function, I am going to allow the user to input the \"dirichlet\" conditions for the top and bottom bounds in 1D"
   ]
  },
  {
   "cell_type": "code",
   "execution_count": 2,
   "metadata": {},
   "outputs": [
    {
     "data": {
      "text/plain": [
       "generate1DLaplaceCFD"
      ]
     },
     "execution_count": 2,
     "metadata": {},
     "output_type": "execute_result"
    }
   ],
   "source": [
    "\"\"\"\n",
    "    generate1DLaplaceCFD(length,lowerBound,upperBound)\n",
    "\n",
    "    This function generates the 1D centered finite-difference to solve the laplace equation.\n",
    "\"\"\"\n",
    "function generate1DLaplaceCFD(length::Int64)\n",
    "    mainDiagonal = fill(2,length)\n",
    "    sideDiagonals = fill(-1,length-1)\n",
    "    return SymTridiagonal(mainDiagonal,sideDiagonals)\n",
    "end"
   ]
  },
  {
   "cell_type": "code",
   "execution_count": 3,
   "metadata": {},
   "outputs": [
    {
     "data": {
      "text/plain": [
       "100×100 SymTridiagonal{Int64,Array{Int64,1}}:\n",
       "  2  -1   ⋅   ⋅   ⋅   ⋅   ⋅   ⋅   ⋅  …   ⋅   ⋅   ⋅   ⋅   ⋅   ⋅   ⋅   ⋅   ⋅\n",
       " -1   2  -1   ⋅   ⋅   ⋅   ⋅   ⋅   ⋅      ⋅   ⋅   ⋅   ⋅   ⋅   ⋅   ⋅   ⋅   ⋅\n",
       "  ⋅  -1   2  -1   ⋅   ⋅   ⋅   ⋅   ⋅      ⋅   ⋅   ⋅   ⋅   ⋅   ⋅   ⋅   ⋅   ⋅\n",
       "  ⋅   ⋅  -1   2  -1   ⋅   ⋅   ⋅   ⋅      ⋅   ⋅   ⋅   ⋅   ⋅   ⋅   ⋅   ⋅   ⋅\n",
       "  ⋅   ⋅   ⋅  -1   2  -1   ⋅   ⋅   ⋅      ⋅   ⋅   ⋅   ⋅   ⋅   ⋅   ⋅   ⋅   ⋅\n",
       "  ⋅   ⋅   ⋅   ⋅  -1   2  -1   ⋅   ⋅  …   ⋅   ⋅   ⋅   ⋅   ⋅   ⋅   ⋅   ⋅   ⋅\n",
       "  ⋅   ⋅   ⋅   ⋅   ⋅  -1   2  -1   ⋅      ⋅   ⋅   ⋅   ⋅   ⋅   ⋅   ⋅   ⋅   ⋅\n",
       "  ⋅   ⋅   ⋅   ⋅   ⋅   ⋅  -1   2  -1      ⋅   ⋅   ⋅   ⋅   ⋅   ⋅   ⋅   ⋅   ⋅\n",
       "  ⋅   ⋅   ⋅   ⋅   ⋅   ⋅   ⋅  -1   2      ⋅   ⋅   ⋅   ⋅   ⋅   ⋅   ⋅   ⋅   ⋅\n",
       "  ⋅   ⋅   ⋅   ⋅   ⋅   ⋅   ⋅   ⋅  -1      ⋅   ⋅   ⋅   ⋅   ⋅   ⋅   ⋅   ⋅   ⋅\n",
       "  ⋅   ⋅   ⋅   ⋅   ⋅   ⋅   ⋅   ⋅   ⋅  …   ⋅   ⋅   ⋅   ⋅   ⋅   ⋅   ⋅   ⋅   ⋅\n",
       "  ⋅   ⋅   ⋅   ⋅   ⋅   ⋅   ⋅   ⋅   ⋅      ⋅   ⋅   ⋅   ⋅   ⋅   ⋅   ⋅   ⋅   ⋅\n",
       "  ⋅   ⋅   ⋅   ⋅   ⋅   ⋅   ⋅   ⋅   ⋅      ⋅   ⋅   ⋅   ⋅   ⋅   ⋅   ⋅   ⋅   ⋅\n",
       "  ⋮                   ⋮              ⋱                   ⋮                \n",
       "  ⋅   ⋅   ⋅   ⋅   ⋅   ⋅   ⋅   ⋅   ⋅      ⋅   ⋅   ⋅   ⋅   ⋅   ⋅   ⋅   ⋅   ⋅\n",
       "  ⋅   ⋅   ⋅   ⋅   ⋅   ⋅   ⋅   ⋅   ⋅      ⋅   ⋅   ⋅   ⋅   ⋅   ⋅   ⋅   ⋅   ⋅\n",
       "  ⋅   ⋅   ⋅   ⋅   ⋅   ⋅   ⋅   ⋅   ⋅  …  -1   ⋅   ⋅   ⋅   ⋅   ⋅   ⋅   ⋅   ⋅\n",
       "  ⋅   ⋅   ⋅   ⋅   ⋅   ⋅   ⋅   ⋅   ⋅      2  -1   ⋅   ⋅   ⋅   ⋅   ⋅   ⋅   ⋅\n",
       "  ⋅   ⋅   ⋅   ⋅   ⋅   ⋅   ⋅   ⋅   ⋅     -1   2  -1   ⋅   ⋅   ⋅   ⋅   ⋅   ⋅\n",
       "  ⋅   ⋅   ⋅   ⋅   ⋅   ⋅   ⋅   ⋅   ⋅      ⋅  -1   2  -1   ⋅   ⋅   ⋅   ⋅   ⋅\n",
       "  ⋅   ⋅   ⋅   ⋅   ⋅   ⋅   ⋅   ⋅   ⋅      ⋅   ⋅  -1   2  -1   ⋅   ⋅   ⋅   ⋅\n",
       "  ⋅   ⋅   ⋅   ⋅   ⋅   ⋅   ⋅   ⋅   ⋅  …   ⋅   ⋅   ⋅  -1   2  -1   ⋅   ⋅   ⋅\n",
       "  ⋅   ⋅   ⋅   ⋅   ⋅   ⋅   ⋅   ⋅   ⋅      ⋅   ⋅   ⋅   ⋅  -1   2  -1   ⋅   ⋅\n",
       "  ⋅   ⋅   ⋅   ⋅   ⋅   ⋅   ⋅   ⋅   ⋅      ⋅   ⋅   ⋅   ⋅   ⋅  -1   2  -1   ⋅\n",
       "  ⋅   ⋅   ⋅   ⋅   ⋅   ⋅   ⋅   ⋅   ⋅      ⋅   ⋅   ⋅   ⋅   ⋅   ⋅  -1   2  -1\n",
       "  ⋅   ⋅   ⋅   ⋅   ⋅   ⋅   ⋅   ⋅   ⋅      ⋅   ⋅   ⋅   ⋅   ⋅   ⋅   ⋅  -1   2"
      ]
     },
     "execution_count": 3,
     "metadata": {},
     "output_type": "execute_result"
    }
   ],
   "source": [
    "A = generate1DLaplaceCFD(100)"
   ]
  },
  {
   "cell_type": "markdown",
   "metadata": {},
   "source": [
    "Now we generate the source vector $\\vec{B}$\n",
    "\n",
    "The first entry is the lower bound, 0V and the upper bound is 1V"
   ]
  },
  {
   "cell_type": "code",
   "execution_count": 4,
   "metadata": {},
   "outputs": [
    {
     "data": {
      "text/plain": [
       "100-element Array{Float64,1}:\n",
       " 1.0\n",
       " 0.0\n",
       " 0.0\n",
       " 0.0\n",
       " 0.0\n",
       " 0.0\n",
       " 0.0\n",
       " 0.0\n",
       " 0.0\n",
       " 0.0\n",
       " 0.0\n",
       " 0.0\n",
       " 0.0\n",
       " ⋮  \n",
       " 0.0\n",
       " 0.0\n",
       " 0.0\n",
       " 0.0\n",
       " 0.0\n",
       " 0.0\n",
       " 0.0\n",
       " 0.0\n",
       " 0.0\n",
       " 0.0\n",
       " 0.0\n",
       " 0.0"
      ]
     },
     "execution_count": 4,
     "metadata": {},
     "output_type": "execute_result"
    }
   ],
   "source": [
    "b = [1;zeros(98);0]"
   ]
  },
  {
   "cell_type": "markdown",
   "metadata": {},
   "source": [
    "And solve - I'm using LAPACK's solver, thats why the type of A is SymTridiagonal, there are special solvers for it."
   ]
  },
  {
   "cell_type": "code",
   "execution_count": 5,
   "metadata": {},
   "outputs": [
    {
     "data": {
      "text/plain": [
       "100-element Array{Float64,1}:\n",
       " 0.9900990099009893  \n",
       " 0.9801980198019786  \n",
       " 0.970297029702968   \n",
       " 0.9603960396039576  \n",
       " 0.950495049504947   \n",
       " 0.9405940594059363  \n",
       " 0.9306930693069255  \n",
       " 0.920792079207915   \n",
       " 0.9108910891089045  \n",
       " 0.900990099009894   \n",
       " 0.8910891089108834  \n",
       " 0.8811881188118728  \n",
       " 0.8712871287128622  \n",
       " ⋮                   \n",
       " 0.11881188118811689 \n",
       " 0.1089108910891072  \n",
       " 0.0990099009900975  \n",
       " 0.0891089108910878  \n",
       " 0.07920792079207808 \n",
       " 0.06930693069306836 \n",
       " 0.059405940594058605\n",
       " 0.04950495049504884 \n",
       " 0.039603960396039084\n",
       " 0.029702970297029313\n",
       " 0.019801980198019542\n",
       " 0.009900990099009771"
      ]
     },
     "execution_count": 5,
     "metadata": {},
     "output_type": "execute_result"
    }
   ],
   "source": [
    "x = A\\b"
   ]
  },
  {
   "cell_type": "code",
   "execution_count": 6,
   "metadata": {},
   "outputs": [
    {
     "data": {
      "image/svg+xml": [
       "<?xml version=\"1.0\" encoding=\"utf-8\"?>\n",
       "<svg xmlns=\"http://www.w3.org/2000/svg\" xmlns:xlink=\"http://www.w3.org/1999/xlink\" width=\"600\" height=\"400\" viewBox=\"0 0 2400 1600\">\n",
       "<defs>\n",
       "  <clipPath id=\"clip0100\">\n",
       "    <rect x=\"0\" y=\"0\" width=\"2000\" height=\"2000\"/>\n",
       "  </clipPath>\n",
       "</defs>\n",
       "<defs>\n",
       "  <clipPath id=\"clip0101\">\n",
       "    <rect x=\"0\" y=\"0\" width=\"2400\" height=\"1600\"/>\n",
       "  </clipPath>\n",
       "</defs>\n",
       "<polygon clip-path=\"url(#clip0101)\" points=\"\n",
       "0,1600 2400,1600 2400,0 0,0 \n",
       "  \" fill=\"#ffffff\" fill-rule=\"evenodd\" fill-opacity=\"1\"/>\n",
       "<defs>\n",
       "  <clipPath id=\"clip0102\">\n",
       "    <rect x=\"480\" y=\"0\" width=\"1681\" height=\"1600\"/>\n",
       "  </clipPath>\n",
       "</defs>\n",
       "<polygon clip-path=\"url(#clip0101)\" points=\"\n",
       "251.149,1440.48 2321.26,1440.48 2321.26,47.2441 251.149,47.2441 \n",
       "  \" fill=\"#ffffff\" fill-rule=\"evenodd\" fill-opacity=\"1\"/>\n",
       "<defs>\n",
       "  <clipPath id=\"clip0103\">\n",
       "    <rect x=\"251\" y=\"47\" width=\"2071\" height=\"1394\"/>\n",
       "  </clipPath>\n",
       "</defs>\n",
       "<polyline clip-path=\"url(#clip0103)\" style=\"stroke:#000000; stroke-width:2; stroke-opacity:0.1; fill:none\" points=\"\n",
       "  290.01,1440.48 290.01,47.2441 \n",
       "  \"/>\n",
       "<polyline clip-path=\"url(#clip0103)\" style=\"stroke:#000000; stroke-width:2; stroke-opacity:0.1; fill:none\" points=\"\n",
       "  783.175,1440.48 783.175,47.2441 \n",
       "  \"/>\n",
       "<polyline clip-path=\"url(#clip0103)\" style=\"stroke:#000000; stroke-width:2; stroke-opacity:0.1; fill:none\" points=\"\n",
       "  1276.34,1440.48 1276.34,47.2441 \n",
       "  \"/>\n",
       "<polyline clip-path=\"url(#clip0103)\" style=\"stroke:#000000; stroke-width:2; stroke-opacity:0.1; fill:none\" points=\"\n",
       "  1769.51,1440.48 1769.51,47.2441 \n",
       "  \"/>\n",
       "<polyline clip-path=\"url(#clip0103)\" style=\"stroke:#000000; stroke-width:2; stroke-opacity:0.1; fill:none\" points=\"\n",
       "  2262.67,1440.48 2262.67,47.2441 \n",
       "  \"/>\n",
       "<polyline clip-path=\"url(#clip0103)\" style=\"stroke:#000000; stroke-width:2; stroke-opacity:0.1; fill:none\" points=\"\n",
       "  251.149,1414.33 2321.26,1414.33 \n",
       "  \"/>\n",
       "<polyline clip-path=\"url(#clip0103)\" style=\"stroke:#000000; stroke-width:2; stroke-opacity:0.1; fill:none\" points=\"\n",
       "  251.149,1079.1 2321.26,1079.1 \n",
       "  \"/>\n",
       "<polyline clip-path=\"url(#clip0103)\" style=\"stroke:#000000; stroke-width:2; stroke-opacity:0.1; fill:none\" points=\"\n",
       "  251.149,743.863 2321.26,743.863 \n",
       "  \"/>\n",
       "<polyline clip-path=\"url(#clip0103)\" style=\"stroke:#000000; stroke-width:2; stroke-opacity:0.1; fill:none\" points=\"\n",
       "  251.149,408.631 2321.26,408.631 \n",
       "  \"/>\n",
       "<polyline clip-path=\"url(#clip0103)\" style=\"stroke:#000000; stroke-width:2; stroke-opacity:0.1; fill:none\" points=\"\n",
       "  251.149,73.3988 2321.26,73.3988 \n",
       "  \"/>\n",
       "<polyline clip-path=\"url(#clip0101)\" style=\"stroke:#000000; stroke-width:4; stroke-opacity:1; fill:none\" points=\"\n",
       "  251.149,1440.48 2321.26,1440.48 \n",
       "  \"/>\n",
       "<polyline clip-path=\"url(#clip0101)\" style=\"stroke:#000000; stroke-width:4; stroke-opacity:1; fill:none\" points=\"\n",
       "  251.149,1440.48 251.149,47.2441 \n",
       "  \"/>\n",
       "<polyline clip-path=\"url(#clip0101)\" style=\"stroke:#000000; stroke-width:4; stroke-opacity:1; fill:none\" points=\"\n",
       "  290.01,1440.48 290.01,1419.58 \n",
       "  \"/>\n",
       "<polyline clip-path=\"url(#clip0101)\" style=\"stroke:#000000; stroke-width:4; stroke-opacity:1; fill:none\" points=\"\n",
       "  783.175,1440.48 783.175,1419.58 \n",
       "  \"/>\n",
       "<polyline clip-path=\"url(#clip0101)\" style=\"stroke:#000000; stroke-width:4; stroke-opacity:1; fill:none\" points=\"\n",
       "  1276.34,1440.48 1276.34,1419.58 \n",
       "  \"/>\n",
       "<polyline clip-path=\"url(#clip0101)\" style=\"stroke:#000000; stroke-width:4; stroke-opacity:1; fill:none\" points=\"\n",
       "  1769.51,1440.48 1769.51,1419.58 \n",
       "  \"/>\n",
       "<polyline clip-path=\"url(#clip0101)\" style=\"stroke:#000000; stroke-width:4; stroke-opacity:1; fill:none\" points=\"\n",
       "  2262.67,1440.48 2262.67,1419.58 \n",
       "  \"/>\n",
       "<polyline clip-path=\"url(#clip0101)\" style=\"stroke:#000000; stroke-width:4; stroke-opacity:1; fill:none\" points=\"\n",
       "  251.149,1414.33 282.2,1414.33 \n",
       "  \"/>\n",
       "<polyline clip-path=\"url(#clip0101)\" style=\"stroke:#000000; stroke-width:4; stroke-opacity:1; fill:none\" points=\"\n",
       "  251.149,1079.1 282.2,1079.1 \n",
       "  \"/>\n",
       "<polyline clip-path=\"url(#clip0101)\" style=\"stroke:#000000; stroke-width:4; stroke-opacity:1; fill:none\" points=\"\n",
       "  251.149,743.863 282.2,743.863 \n",
       "  \"/>\n",
       "<polyline clip-path=\"url(#clip0101)\" style=\"stroke:#000000; stroke-width:4; stroke-opacity:1; fill:none\" points=\"\n",
       "  251.149,408.631 282.2,408.631 \n",
       "  \"/>\n",
       "<polyline clip-path=\"url(#clip0101)\" style=\"stroke:#000000; stroke-width:4; stroke-opacity:1; fill:none\" points=\"\n",
       "  251.149,73.3988 282.2,73.3988 \n",
       "  \"/>\n",
       "<g clip-path=\"url(#clip0101)\">\n",
       "<text style=\"fill:#000000; fill-opacity:1; font-family:Arial,Helvetica Neue,Helvetica,sans-serif; font-size:48px; text-anchor:middle;\" transform=\"rotate(0, 290.01, 1494.48)\" x=\"290.01\" y=\"1494.48\">0</text>\n",
       "</g>\n",
       "<g clip-path=\"url(#clip0101)\">\n",
       "<text style=\"fill:#000000; fill-opacity:1; font-family:Arial,Helvetica Neue,Helvetica,sans-serif; font-size:48px; text-anchor:middle;\" transform=\"rotate(0, 783.175, 1494.48)\" x=\"783.175\" y=\"1494.48\">25</text>\n",
       "</g>\n",
       "<g clip-path=\"url(#clip0101)\">\n",
       "<text style=\"fill:#000000; fill-opacity:1; font-family:Arial,Helvetica Neue,Helvetica,sans-serif; font-size:48px; text-anchor:middle;\" transform=\"rotate(0, 1276.34, 1494.48)\" x=\"1276.34\" y=\"1494.48\">50</text>\n",
       "</g>\n",
       "<g clip-path=\"url(#clip0101)\">\n",
       "<text style=\"fill:#000000; fill-opacity:1; font-family:Arial,Helvetica Neue,Helvetica,sans-serif; font-size:48px; text-anchor:middle;\" transform=\"rotate(0, 1769.51, 1494.48)\" x=\"1769.51\" y=\"1494.48\">75</text>\n",
       "</g>\n",
       "<g clip-path=\"url(#clip0101)\">\n",
       "<text style=\"fill:#000000; fill-opacity:1; font-family:Arial,Helvetica Neue,Helvetica,sans-serif; font-size:48px; text-anchor:middle;\" transform=\"rotate(0, 2262.67, 1494.48)\" x=\"2262.67\" y=\"1494.48\">100</text>\n",
       "</g>\n",
       "<g clip-path=\"url(#clip0101)\">\n",
       "<text style=\"fill:#000000; fill-opacity:1; font-family:Arial,Helvetica Neue,Helvetica,sans-serif; font-size:48px; text-anchor:end;\" transform=\"rotate(0, 227.149, 1431.83)\" x=\"227.149\" y=\"1431.83\">0.00</text>\n",
       "</g>\n",
       "<g clip-path=\"url(#clip0101)\">\n",
       "<text style=\"fill:#000000; fill-opacity:1; font-family:Arial,Helvetica Neue,Helvetica,sans-serif; font-size:48px; text-anchor:end;\" transform=\"rotate(0, 227.149, 1096.6)\" x=\"227.149\" y=\"1096.6\">0.25</text>\n",
       "</g>\n",
       "<g clip-path=\"url(#clip0101)\">\n",
       "<text style=\"fill:#000000; fill-opacity:1; font-family:Arial,Helvetica Neue,Helvetica,sans-serif; font-size:48px; text-anchor:end;\" transform=\"rotate(0, 227.149, 761.363)\" x=\"227.149\" y=\"761.363\">0.50</text>\n",
       "</g>\n",
       "<g clip-path=\"url(#clip0101)\">\n",
       "<text style=\"fill:#000000; fill-opacity:1; font-family:Arial,Helvetica Neue,Helvetica,sans-serif; font-size:48px; text-anchor:end;\" transform=\"rotate(0, 227.149, 426.131)\" x=\"227.149\" y=\"426.131\">0.75</text>\n",
       "</g>\n",
       "<g clip-path=\"url(#clip0101)\">\n",
       "<text style=\"fill:#000000; fill-opacity:1; font-family:Arial,Helvetica Neue,Helvetica,sans-serif; font-size:48px; text-anchor:end;\" transform=\"rotate(0, 227.149, 90.8988)\" x=\"227.149\" y=\"90.8988\">1.00</text>\n",
       "</g>\n",
       "<g clip-path=\"url(#clip0101)\">\n",
       "<text style=\"fill:#000000; fill-opacity:1; font-family:Arial,Helvetica Neue,Helvetica,sans-serif; font-size:66px; text-anchor:middle;\" transform=\"rotate(0, 1286.2, 1590.4)\" x=\"1286.2\" y=\"1590.4\">Position</text>\n",
       "</g>\n",
       "<g clip-path=\"url(#clip0101)\">\n",
       "<text style=\"fill:#000000; fill-opacity:1; font-family:Arial,Helvetica Neue,Helvetica,sans-serif; font-size:66px; text-anchor:middle;\" transform=\"rotate(-90, 57.6, 743.863)\" x=\"57.6\" y=\"743.863\">Voltage (V)</text>\n",
       "</g>\n",
       "<polyline clip-path=\"url(#clip0103)\" style=\"stroke:#009af9; stroke-width:4; stroke-opacity:1; fill:none\" points=\"\n",
       "  309.737,86.6754 329.463,99.9519 349.19,113.228 368.916,126.505 388.643,139.781 408.37,153.058 428.096,166.335 447.823,179.611 467.55,192.888 487.276,206.164 \n",
       "  507.003,219.441 526.729,232.717 546.456,245.994 566.183,259.27 585.909,272.547 605.636,285.823 625.362,299.1 645.089,312.376 664.816,325.653 684.542,338.929 \n",
       "  704.269,352.206 723.996,365.482 743.722,378.759 763.449,392.035 783.175,405.312 802.902,418.588 822.629,431.865 842.355,445.142 862.082,458.418 881.808,471.695 \n",
       "  901.535,484.971 921.262,498.248 940.988,511.524 960.715,524.801 980.442,538.077 1000.17,551.354 1019.89,564.63 1039.62,577.907 1059.35,591.183 1079.07,604.46 \n",
       "  1098.8,617.736 1118.53,631.013 1138.25,644.289 1157.98,657.566 1177.71,670.842 1197.43,684.119 1217.16,697.396 1236.89,710.672 1256.61,723.949 1276.34,737.225 \n",
       "  1296.07,750.502 1315.79,763.778 1335.52,777.055 1355.25,790.331 1374.97,803.608 1394.7,816.884 1414.43,830.161 1434.15,843.437 1453.88,856.714 1473.61,869.99 \n",
       "  1493.33,883.267 1513.06,896.543 1532.79,909.82 1552.51,923.096 1572.24,936.373 1591.97,949.649 1611.69,962.926 1631.42,976.203 1651.15,989.479 1670.87,1002.76 \n",
       "  1690.6,1016.03 1710.33,1029.31 1730.05,1042.59 1749.78,1055.86 1769.51,1069.14 1789.23,1082.41 1808.96,1095.69 1828.69,1108.97 1848.41,1122.24 1868.14,1135.52 \n",
       "  1887.87,1148.8 1907.59,1162.07 1927.32,1175.35 1947.05,1188.63 1966.77,1201.9 1986.5,1215.18 2006.23,1228.46 2025.95,1241.73 2045.68,1255.01 2065.41,1268.29 \n",
       "  2085.13,1281.56 2104.86,1294.84 2124.59,1308.12 2144.31,1321.39 2164.04,1334.67 2183.77,1347.95 2203.49,1361.22 2223.22,1374.5 2242.95,1387.77 2262.67,1401.05 \n",
       "  \n",
       "  \"/>\n",
       "</svg>\n"
      ]
     },
     "execution_count": 6,
     "metadata": {},
     "output_type": "execute_result"
    }
   ],
   "source": [
    "plot(x,legend=false,xlabel=\"Position\",ylabel=\"Voltage (V)\")"
   ]
  },
  {
   "cell_type": "markdown",
   "metadata": {},
   "source": [
    "Hey look, it's linear - as it should be.\n",
    "\n",
    "Lets compare the speed when we ramp up the number of points for the different implementations.\n",
    "\n",
    "First as the built-in tridiagonal type"
   ]
  },
  {
   "cell_type": "code",
   "execution_count": 7,
   "metadata": {
    "scrolled": true
   },
   "outputs": [
    {
     "data": {
      "text/plain": [
       "BenchmarkTools.Trial: \n",
       "  memory estimate:  2.67 KiB\n",
       "  allocs estimate:  5\n",
       "  --------------\n",
       "  minimum time:     1.858 μs (0.00% GC)\n",
       "  median time:      2.361 μs (0.00% GC)\n",
       "  mean time:        4.008 μs (32.32% GC)\n",
       "  maximum time:     8.723 ms (99.95% GC)\n",
       "  --------------\n",
       "  samples:          10000\n",
       "  evals/sample:     10"
      ]
     },
     "execution_count": 7,
     "metadata": {},
     "output_type": "execute_result"
    }
   ],
   "source": [
    "numPoints = 100\n",
    "A = generate1DLaplaceCFD(numPoints)\n",
    "b = [0;fill(0,numPoints-2);1]\n",
    "time1 = @benchmark A\\b"
   ]
  },
  {
   "cell_type": "markdown",
   "metadata": {},
   "source": [
    "Now as the generic \"sparse\" matrix"
   ]
  },
  {
   "cell_type": "code",
   "execution_count": 8,
   "metadata": {
    "scrolled": true
   },
   "outputs": [
    {
     "data": {
      "text/plain": [
       "BenchmarkTools.Trial: \n",
       "  memory estimate:  42.36 KiB\n",
       "  allocs estimate:  47\n",
       "  --------------\n",
       "  minimum time:     33.692 μs (0.00% GC)\n",
       "  median time:      38.441 μs (0.00% GC)\n",
       "  mean time:        59.054 μs (22.73% GC)\n",
       "  maximum time:     87.325 ms (97.76% GC)\n",
       "  --------------\n",
       "  samples:          10000\n",
       "  evals/sample:     1"
      ]
     },
     "execution_count": 8,
     "metadata": {},
     "output_type": "execute_result"
    }
   ],
   "source": [
    "numPoints = 100\n",
    "A = sparse(float(generate1DLaplaceCFD(numPoints))) # We need to cast to float as the sparse solver doesn't work for ints\n",
    "b = [0;fill(0,numPoints-2);1.]\n",
    "time2 = @benchmark A\\b"
   ]
  },
  {
   "cell_type": "markdown",
   "metadata": {},
   "source": [
    "And finally as a dense matrix"
   ]
  },
  {
   "cell_type": "code",
   "execution_count": 9,
   "metadata": {},
   "outputs": [
    {
     "data": {
      "text/plain": [
       "BenchmarkTools.Trial: \n",
       "  memory estimate:  79.98 KiB\n",
       "  allocs estimate:  5\n",
       "  --------------\n",
       "  minimum time:     373.907 μs (0.00% GC)\n",
       "  median time:      388.784 μs (0.00% GC)\n",
       "  mean time:        445.805 μs (3.72% GC)\n",
       "  maximum time:     88.690 ms (99.42% GC)\n",
       "  --------------\n",
       "  samples:          10000\n",
       "  evals/sample:     1"
      ]
     },
     "execution_count": 9,
     "metadata": {},
     "output_type": "execute_result"
    }
   ],
   "source": [
    "numPoints = Int64(100)\n",
    "A = Array(generate1DLaplaceCFD(numPoints))\n",
    "b = [0;fill(0,numPoints-2);1]\n",
    "trial3 = @benchmark A\\b"
   ]
  },
  {
   "cell_type": "markdown",
   "metadata": {},
   "source": [
    "So to compare the three"
   ]
  },
  {
   "cell_type": "markdown",
   "metadata": {},
   "source": [
    "<center>\n",
    "\n",
    "|   $\\space$             | SymTridiagonal | SparseCSC |   Dense | \n",
    "|------------------------|:----------------:|:-----------:|:---------:|\n",
    "| RAM Utilization (KiB)  |   2.67         |42.36      |79.98    |\n",
    "| Mean Solving Time (μs) |  4.065         | 64.203    |449.684  |\n",
    "    \n",
    "</center>"
   ]
  },
  {
   "cell_type": "markdown",
   "metadata": {},
   "source": [
    "Now for $10^6$ points"
   ]
  },
  {
   "cell_type": "code",
   "execution_count": 10,
   "metadata": {},
   "outputs": [
    {
     "data": {
      "text/plain": [
       "BenchmarkTools.Trial: \n",
       "  memory estimate:  22.89 MiB\n",
       "  allocs estimate:  8\n",
       "  --------------\n",
       "  minimum time:     21.882 ms (7.61% GC)\n",
       "  median time:      25.423 ms (6.55% GC)\n",
       "  mean time:        25.899 ms (9.17% GC)\n",
       "  maximum time:     115.874 ms (75.67% GC)\n",
       "  --------------\n",
       "  samples:          193\n",
       "  evals/sample:     1"
      ]
     },
     "execution_count": 10,
     "metadata": {},
     "output_type": "execute_result"
    }
   ],
   "source": [
    "numPoints = Int64(1e6)\n",
    "A = generate1DLaplaceCFD(numPoints)\n",
    "b = [0;fill(0,numPoints-2);1]\n",
    "@benchmark A\\b"
   ]
  },
  {
   "cell_type": "markdown",
   "metadata": {},
   "source": [
    "I'm not going to compare to the non-sparse version - it's going to crash my server"
   ]
  },
  {
   "cell_type": "markdown",
   "metadata": {},
   "source": [
    "### Question 1 - Why wasn't conductivity part of the equation?"
   ]
  },
  {
   "cell_type": "markdown",
   "metadata": {},
   "source": [
    "Conductivitiy is linear and not dependent on voltage. Between two points of a given voltage, the voltage gradiant MUST be linear because conductivity is linear. Therefore, solving for the \"diffusion\" of voltage won't be dependent on the conductivity"
   ]
  },
  {
   "cell_type": "markdown",
   "metadata": {},
   "source": [
    "### Question 2 - What would happen if it was?"
   ]
  },
  {
   "cell_type": "markdown",
   "metadata": {},
   "source": [
    "The formulation for $\\vec{B}$ I guess would be more complicated. $\\textbf{A}$ is just the operator, so all other parts of the equation would have to be moved to the $\\vec{B}$ side."
   ]
  },
  {
   "cell_type": "markdown",
   "metadata": {},
   "source": [
    "### Question 3 - What would happen if we looked at a 2D piece of polymer?"
   ]
  },
  {
   "cell_type": "markdown",
   "metadata": {},
   "source": [
    "My guess is that it would look like we took the 1D piece and stretched it out into a surface. This assumes, though, that the boundary voltalge is applied to the edge instead of at a point. This is due to the fact that the boundary is now that edge. Anythings other than the same voltage for the entire edge would yeild some interesting results."
   ]
  },
  {
   "cell_type": "markdown",
   "metadata": {},
   "source": [
    "## Part 2 - Finite Difference Poisson Equation\n",
    "\n",
    "$\\textbf{A}$ is the same here, except we modify our source vector $\\vec{B}$\n",
    "\n",
    "I don't know about this question, because I have some confusion about the $\\vec{B}$ side of the equation. From my understanding, $\\nabla^2\\textbf{V} = \\frac{\\rho}{\\epsilon}$. The problem statement said there was a uniform *current* density of 1 A/m^2 going through the material, but that doesn't give any rise to a charge density. This is due to the fact that under steady state current, the net flux of charge density is zero.\n",
    "\n",
    "Therefore, I am going to assume that there is a $1 \\frac{C}{Fm^2}$ *charge* density on the inner 0.1cm section of wire such that the units are correct, which will probably give nonsense numbers."
   ]
  },
  {
   "cell_type": "code",
   "execution_count": 11,
   "metadata": {
    "scrolled": false
   },
   "outputs": [
    {
     "data": {
      "text/plain": [
       "1000-element Array{Float64,1}:\n",
       "  1.023025071120176 \n",
       "  1.023025071120176 \n",
       "  1.023025071120287 \n",
       "  1.023025071120287 \n",
       "  1.023025071120176 \n",
       "  1.023025071120065 \n",
       "  1.023025071120065 \n",
       "  1.023025071120176 \n",
       "  1.023025071120287 \n",
       "  1.023025071120287 \n",
       "  1.023025071120176 \n",
       "  1.023025071120065 \n",
       "  1.023025071120065 \n",
       "  ⋮                 \n",
       " -3.025071121262688 \n",
       " -3.025071121262683 \n",
       " -3.0250711212626813\n",
       " -3.0250711212626813\n",
       " -3.025071121262683 \n",
       " -3.025071121262683 \n",
       " -3.0250711212626813\n",
       " -3.0250711212626813\n",
       " -3.0250711212626804\n",
       " -3.0250711212626795\n",
       " -3.0250711212626795\n",
       " -3.0250711212626795"
      ]
     },
     "execution_count": 11,
     "metadata": {},
     "output_type": "execute_result"
    }
   ],
   "source": [
    "numPoints = 1000\n",
    "A = generate1DLaplaceCFD(numPoints)\n",
    "b = zeros(Float64,numPoints)\n",
    "\n",
    "# Define the segment that is a 10th of the total length (0.1cm)\n",
    "numPointsSource = numPoints-2\n",
    "regionSize = round(Int,numPointsSource/10)\n",
    "Δx = 1e-2/numPointsSource\n",
    "upperBound = round(Int,(numPoints/2)) + round(Int,(regionSize/2))\n",
    "lowerBound = round(Int,(numPoints/2)) - round(Int,(regionSize/2))\n",
    "\n",
    "# Calculate charge density\n",
    "# I honestly don't know what I am doing here, I just scaled everything such that it isn't insane\n",
    "chargeDensity = (1/((upperBound-lowerBound)) * (4 / numPointsSource))\n",
    "\n",
    "# Fill the b vector with the charge density\n",
    "for i = lowerBound+1:upperBound+1\n",
    "    b[i] = chargeDensity\n",
    "end\n",
    "\n",
    "# Make the boundary 1V\n",
    "b[1] = 1\n",
    "\n",
    "# Solve\n",
    "x = A\\b\n",
    "\n",
    "# Make a simple \"centered finite difference\" function\n",
    "function simpleDiff(x::Array)\n",
    "    outArray = zeros(size(x))\n",
    "    for i = 2:length(x)-1\n",
    "        outArray[i] = (x[i+1] - x[i-1])/2\n",
    "    end\n",
    "    # I'm using \"von-neumman boundries, kinda\"\n",
    "    outArray[1] = outArray[2]\n",
    "    outArray[end] = outArray[end-1]\n",
    "    return outArray\n",
    "end\n",
    "\n",
    "# Current will be the derivative of spacial voltage times conductivity\n",
    "σ = 1000\n",
    "A = simpleDiff(x) * σ"
   ]
  },
  {
   "cell_type": "markdown",
   "metadata": {},
   "source": [
    "And now to profile it - shouldn't be any different."
   ]
  },
  {
   "cell_type": "code",
   "execution_count": 12,
   "metadata": {},
   "outputs": [
    {
     "data": {
      "text/plain": [
       "BenchmarkTools.Trial: \n",
       "  memory estimate:  7.98 KiB\n",
       "  allocs estimate:  4\n",
       "  --------------\n",
       "  minimum time:     2.598 μs (0.00% GC)\n",
       "  median time:      2.725 μs (0.00% GC)\n",
       "  mean time:        4.814 μs (39.28% GC)\n",
       "  maximum time:     9.806 ms (99.92% GC)\n",
       "  --------------\n",
       "  samples:          10000\n",
       "  evals/sample:     9"
      ]
     },
     "execution_count": 12,
     "metadata": {},
     "output_type": "execute_result"
    }
   ],
   "source": [
    "@benchmark A\\b"
   ]
  },
  {
   "cell_type": "code",
   "execution_count": 13,
   "metadata": {
    "scrolled": false
   },
   "outputs": [
    {
     "data": {
      "image/svg+xml": [
       "<?xml version=\"1.0\" encoding=\"utf-8\"?>\n",
       "<svg xmlns=\"http://www.w3.org/2000/svg\" xmlns:xlink=\"http://www.w3.org/1999/xlink\" width=\"600\" height=\"400\" viewBox=\"0 0 2400 1600\">\n",
       "<defs>\n",
       "  <clipPath id=\"clip0300\">\n",
       "    <rect x=\"0\" y=\"0\" width=\"2000\" height=\"2000\"/>\n",
       "  </clipPath>\n",
       "</defs>\n",
       "<defs>\n",
       "  <clipPath id=\"clip0301\">\n",
       "    <rect x=\"0\" y=\"0\" width=\"2400\" height=\"1600\"/>\n",
       "  </clipPath>\n",
       "</defs>\n",
       "<polygon clip-path=\"url(#clip0301)\" points=\"\n",
       "0,1600 2400,1600 2400,0 0,0 \n",
       "  \" fill=\"#ffffff\" fill-rule=\"evenodd\" fill-opacity=\"1\"/>\n",
       "<defs>\n",
       "  <clipPath id=\"clip0302\">\n",
       "    <rect x=\"480\" y=\"0\" width=\"1681\" height=\"1600\"/>\n",
       "  </clipPath>\n",
       "</defs>\n",
       "<polygon clip-path=\"url(#clip0301)\" points=\"\n",
       "224.386,1440.48 2217.01,1440.48 2217.01,47.2441 224.386,47.2441 \n",
       "  \" fill=\"#ffffff\" fill-rule=\"evenodd\" fill-opacity=\"1\"/>\n",
       "<defs>\n",
       "  <clipPath id=\"clip0303\">\n",
       "    <rect x=\"224\" y=\"47\" width=\"1994\" height=\"1394\"/>\n",
       "  </clipPath>\n",
       "</defs>\n",
       "<polyline clip-path=\"url(#clip0303)\" style=\"stroke:#000000; stroke-width:2; stroke-opacity:0.1; fill:none\" points=\"\n",
       "  278.899,1440.48 278.899,47.2441 \n",
       "  \"/>\n",
       "<polyline clip-path=\"url(#clip0303)\" style=\"stroke:#000000; stroke-width:2; stroke-opacity:0.1; fill:none\" points=\"\n",
       "  749.328,1440.48 749.328,47.2441 \n",
       "  \"/>\n",
       "<polyline clip-path=\"url(#clip0303)\" style=\"stroke:#000000; stroke-width:2; stroke-opacity:0.1; fill:none\" points=\"\n",
       "  1219.76,1440.48 1219.76,47.2441 \n",
       "  \"/>\n",
       "<polyline clip-path=\"url(#clip0303)\" style=\"stroke:#000000; stroke-width:2; stroke-opacity:0.1; fill:none\" points=\"\n",
       "  1690.18,1440.48 1690.18,47.2441 \n",
       "  \"/>\n",
       "<polyline clip-path=\"url(#clip0303)\" style=\"stroke:#000000; stroke-width:2; stroke-opacity:0.1; fill:none\" points=\"\n",
       "  2160.61,1440.48 2160.61,47.2441 \n",
       "  \"/>\n",
       "<polyline clip-path=\"url(#clip0303)\" style=\"stroke:#000000; stroke-width:2; stroke-opacity:0.1; fill:none\" points=\"\n",
       "  224.386,1403.75 2217.01,1403.75 \n",
       "  \"/>\n",
       "<polyline clip-path=\"url(#clip0303)\" style=\"stroke:#000000; stroke-width:2; stroke-opacity:0.1; fill:none\" points=\"\n",
       "  224.386,956.964 2217.01,956.964 \n",
       "  \"/>\n",
       "<polyline clip-path=\"url(#clip0303)\" style=\"stroke:#000000; stroke-width:2; stroke-opacity:0.1; fill:none\" points=\"\n",
       "  224.386,510.174 2217.01,510.174 \n",
       "  \"/>\n",
       "<polyline clip-path=\"url(#clip0303)\" style=\"stroke:#000000; stroke-width:2; stroke-opacity:0.1; fill:none\" points=\"\n",
       "  224.386,63.3832 2217.01,63.3832 \n",
       "  \"/>\n",
       "<polyline clip-path=\"url(#clip0301)\" style=\"stroke:#000000; stroke-width:4; stroke-opacity:1; fill:none\" points=\"\n",
       "  224.386,1440.48 2217.01,1440.48 \n",
       "  \"/>\n",
       "<polyline clip-path=\"url(#clip0301)\" style=\"stroke:#000000; stroke-width:4; stroke-opacity:1; fill:none\" points=\"\n",
       "  224.386,1440.48 224.386,47.2441 \n",
       "  \"/>\n",
       "<polyline clip-path=\"url(#clip0301)\" style=\"stroke:#000000; stroke-width:4; stroke-opacity:1; fill:none\" points=\"\n",
       "  278.899,1440.48 278.899,1419.58 \n",
       "  \"/>\n",
       "<polyline clip-path=\"url(#clip0301)\" style=\"stroke:#000000; stroke-width:4; stroke-opacity:1; fill:none\" points=\"\n",
       "  749.328,1440.48 749.328,1419.58 \n",
       "  \"/>\n",
       "<polyline clip-path=\"url(#clip0301)\" style=\"stroke:#000000; stroke-width:4; stroke-opacity:1; fill:none\" points=\"\n",
       "  1219.76,1440.48 1219.76,1419.58 \n",
       "  \"/>\n",
       "<polyline clip-path=\"url(#clip0301)\" style=\"stroke:#000000; stroke-width:4; stroke-opacity:1; fill:none\" points=\"\n",
       "  1690.18,1440.48 1690.18,1419.58 \n",
       "  \"/>\n",
       "<polyline clip-path=\"url(#clip0301)\" style=\"stroke:#000000; stroke-width:4; stroke-opacity:1; fill:none\" points=\"\n",
       "  2160.61,1440.48 2160.61,1419.58 \n",
       "  \"/>\n",
       "<polyline clip-path=\"url(#clip0301)\" style=\"stroke:#000000; stroke-width:4; stroke-opacity:1; fill:none\" points=\"\n",
       "  224.386,1403.75 254.275,1403.75 \n",
       "  \"/>\n",
       "<polyline clip-path=\"url(#clip0301)\" style=\"stroke:#000000; stroke-width:4; stroke-opacity:1; fill:none\" points=\"\n",
       "  224.386,956.964 254.275,956.964 \n",
       "  \"/>\n",
       "<polyline clip-path=\"url(#clip0301)\" style=\"stroke:#000000; stroke-width:4; stroke-opacity:1; fill:none\" points=\"\n",
       "  224.386,510.174 254.275,510.174 \n",
       "  \"/>\n",
       "<polyline clip-path=\"url(#clip0301)\" style=\"stroke:#000000; stroke-width:4; stroke-opacity:1; fill:none\" points=\"\n",
       "  224.386,63.3832 254.275,63.3832 \n",
       "  \"/>\n",
       "<g clip-path=\"url(#clip0301)\">\n",
       "<text style=\"fill:#000000; fill-opacity:1; font-family:Arial,Helvetica Neue,Helvetica,sans-serif; font-size:48px; text-anchor:middle;\" transform=\"rotate(0, 278.899, 1494.48)\" x=\"278.899\" y=\"1494.48\">0</text>\n",
       "</g>\n",
       "<g clip-path=\"url(#clip0301)\">\n",
       "<text style=\"fill:#000000; fill-opacity:1; font-family:Arial,Helvetica Neue,Helvetica,sans-serif; font-size:48px; text-anchor:middle;\" transform=\"rotate(0, 749.328, 1494.48)\" x=\"749.328\" y=\"1494.48\">250</text>\n",
       "</g>\n",
       "<g clip-path=\"url(#clip0301)\">\n",
       "<text style=\"fill:#000000; fill-opacity:1; font-family:Arial,Helvetica Neue,Helvetica,sans-serif; font-size:48px; text-anchor:middle;\" transform=\"rotate(0, 1219.76, 1494.48)\" x=\"1219.76\" y=\"1494.48\">500</text>\n",
       "</g>\n",
       "<g clip-path=\"url(#clip0301)\">\n",
       "<text style=\"fill:#000000; fill-opacity:1; font-family:Arial,Helvetica Neue,Helvetica,sans-serif; font-size:48px; text-anchor:middle;\" transform=\"rotate(0, 1690.18, 1494.48)\" x=\"1690.18\" y=\"1494.48\">750</text>\n",
       "</g>\n",
       "<g clip-path=\"url(#clip0301)\">\n",
       "<text style=\"fill:#000000; fill-opacity:1; font-family:Arial,Helvetica Neue,Helvetica,sans-serif; font-size:48px; text-anchor:middle;\" transform=\"rotate(0, 2160.61, 1494.48)\" x=\"2160.61\" y=\"1494.48\">1000</text>\n",
       "</g>\n",
       "<g clip-path=\"url(#clip0301)\">\n",
       "<text style=\"fill:#000000; fill-opacity:1; font-family:Arial,Helvetica Neue,Helvetica,sans-serif; font-size:48px; text-anchor:end;\" transform=\"rotate(0, 200.386, 1421.25)\" x=\"200.386\" y=\"1421.25\">0.0</text>\n",
       "</g>\n",
       "<g clip-path=\"url(#clip0301)\">\n",
       "<text style=\"fill:#000000; fill-opacity:1; font-family:Arial,Helvetica Neue,Helvetica,sans-serif; font-size:48px; text-anchor:end;\" transform=\"rotate(0, 200.386, 974.464)\" x=\"200.386\" y=\"974.464\">0.5</text>\n",
       "</g>\n",
       "<g clip-path=\"url(#clip0301)\">\n",
       "<text style=\"fill:#000000; fill-opacity:1; font-family:Arial,Helvetica Neue,Helvetica,sans-serif; font-size:48px; text-anchor:end;\" transform=\"rotate(0, 200.386, 527.674)\" x=\"200.386\" y=\"527.674\">1.0</text>\n",
       "</g>\n",
       "<g clip-path=\"url(#clip0301)\">\n",
       "<text style=\"fill:#000000; fill-opacity:1; font-family:Arial,Helvetica Neue,Helvetica,sans-serif; font-size:48px; text-anchor:end;\" transform=\"rotate(0, 200.386, 80.8832)\" x=\"200.386\" y=\"80.8832\">1.5</text>\n",
       "</g>\n",
       "<g clip-path=\"url(#clip0301)\">\n",
       "<text style=\"fill:#000000; fill-opacity:1; font-family:Arial,Helvetica Neue,Helvetica,sans-serif; font-size:66px; text-anchor:middle;\" transform=\"rotate(0, 1220.7, 1590.4)\" x=\"1220.7\" y=\"1590.4\">Position</text>\n",
       "</g>\n",
       "<g clip-path=\"url(#clip0301)\">\n",
       "<text style=\"fill:#000000; fill-opacity:1; font-family:Arial,Helvetica Neue,Helvetica,sans-serif; font-size:66px; text-anchor:middle;\" transform=\"rotate(-90, 57.6, 743.863)\" x=\"57.6\" y=\"743.863\">Voltage (V)</text>\n",
       "</g>\n",
       "<polyline clip-path=\"url(#clip0303)\" style=\"stroke:#009af9; stroke-width:4; stroke-opacity:1; fill:none\" points=\"\n",
       "  280.781,509.259 282.663,508.345 284.545,507.431 286.426,506.517 288.308,505.603 290.19,504.689 292.071,503.775 293.953,502.86 295.835,501.946 297.717,501.032 \n",
       "  299.598,500.118 301.48,499.204 303.362,498.29 305.243,497.375 307.125,496.461 309.007,495.547 310.889,494.633 312.77,493.719 314.652,492.805 316.534,491.891 \n",
       "  318.415,490.976 320.297,490.062 322.179,489.148 324.061,488.234 325.942,487.32 327.824,486.406 329.706,485.491 331.587,484.577 333.469,483.663 335.351,482.749 \n",
       "  337.233,481.835 339.114,480.921 340.996,480.006 342.878,479.092 344.759,478.178 346.641,477.264 348.523,476.35 350.405,475.436 352.286,474.522 354.168,473.607 \n",
       "  356.05,472.693 357.931,471.779 359.813,470.865 361.695,469.951 363.577,469.037 365.458,468.122 367.34,467.208 369.222,466.294 371.103,465.38 372.985,464.466 \n",
       "  374.867,463.552 376.749,462.638 378.63,461.723 380.512,460.809 382.394,459.895 384.275,458.981 386.157,458.067 388.039,457.153 389.921,456.238 391.802,455.324 \n",
       "  393.684,454.41 395.566,453.496 397.447,452.582 399.329,451.668 401.211,450.754 403.092,449.839 404.974,448.925 406.856,448.011 408.738,447.097 410.619,446.183 \n",
       "  412.501,445.269 414.383,444.354 416.264,443.44 418.146,442.526 420.028,441.612 421.91,440.698 423.791,439.784 425.673,438.869 427.555,437.955 429.436,437.041 \n",
       "  431.318,436.127 433.2,435.213 435.082,434.299 436.963,433.385 438.845,432.47 440.727,431.556 442.608,430.642 444.49,429.728 446.372,428.814 448.254,427.9 \n",
       "  450.135,426.985 452.017,426.071 453.899,425.157 455.78,424.243 457.662,423.329 459.544,422.415 461.426,421.501 463.307,420.586 465.189,419.672 467.071,418.758 \n",
       "  468.952,417.844 470.834,416.93 472.716,416.016 474.598,415.101 476.479,414.187 478.361,413.273 480.243,412.359 482.124,411.445 484.006,410.531 485.888,409.616 \n",
       "  487.77,408.702 489.651,407.788 491.533,406.874 493.415,405.96 495.296,405.046 497.178,404.132 499.06,403.217 500.942,402.303 502.823,401.389 504.705,400.475 \n",
       "  506.587,399.561 508.468,398.647 510.35,397.732 512.232,396.818 514.114,395.904 515.995,394.99 517.877,394.076 519.759,393.162 521.64,392.248 523.522,391.333 \n",
       "  525.404,390.419 527.286,389.505 529.167,388.591 531.049,387.677 532.931,386.763 534.812,385.848 536.694,384.934 538.576,384.02 540.458,383.106 542.339,382.192 \n",
       "  544.221,381.278 546.103,380.364 547.984,379.449 549.866,378.535 551.748,377.621 553.63,376.707 555.511,375.793 557.393,374.879 559.275,373.964 561.156,373.05 \n",
       "  563.038,372.136 564.92,371.222 566.802,370.308 568.683,369.394 570.565,368.479 572.447,367.565 574.328,366.651 576.21,365.737 578.092,364.823 579.974,363.909 \n",
       "  581.855,362.995 583.737,362.08 585.619,361.166 587.5,360.252 589.382,359.338 591.264,358.424 593.146,357.51 595.027,356.595 596.909,355.681 598.791,354.767 \n",
       "  600.672,353.853 602.554,352.939 604.436,352.025 606.318,351.111 608.199,350.196 610.081,349.282 611.963,348.368 613.844,347.454 615.726,346.54 617.608,345.626 \n",
       "  619.49,344.711 621.371,343.797 623.253,342.883 625.135,341.969 627.016,341.055 628.898,340.141 630.78,339.227 632.662,338.312 634.543,337.398 636.425,336.484 \n",
       "  638.307,335.57 640.188,334.656 642.07,333.742 643.952,332.827 645.834,331.913 647.715,330.999 649.597,330.085 651.479,329.171 653.36,328.257 655.242,327.342 \n",
       "  657.124,326.428 659.006,325.514 660.887,324.6 662.769,323.686 664.651,322.772 666.532,321.858 668.414,320.943 670.296,320.029 672.178,319.115 674.059,318.201 \n",
       "  675.941,317.287 677.823,316.373 679.704,315.458 681.586,314.544 683.468,313.63 685.35,312.716 687.231,311.802 689.113,310.888 690.995,309.974 692.876,309.059 \n",
       "  694.758,308.145 696.64,307.231 698.522,306.317 700.403,305.403 702.285,304.489 704.167,303.574 706.048,302.66 707.93,301.746 709.812,300.832 711.694,299.918 \n",
       "  713.575,299.004 715.457,298.09 717.339,297.175 719.22,296.261 721.102,295.347 722.984,294.433 724.866,293.519 726.747,292.605 728.629,291.69 730.511,290.776 \n",
       "  732.392,289.862 734.274,288.948 736.156,288.034 738.038,287.12 739.919,286.205 741.801,285.291 743.683,284.377 745.564,283.463 747.446,282.549 749.328,281.635 \n",
       "  751.209,280.721 753.091,279.806 754.973,278.892 756.855,277.978 758.736,277.064 760.618,276.15 762.5,275.236 764.381,274.321 766.263,273.407 768.145,272.493 \n",
       "  770.027,271.579 771.908,270.665 773.79,269.751 775.672,268.837 777.553,267.922 779.435,267.008 781.317,266.094 783.199,265.18 785.08,264.266 786.962,263.352 \n",
       "  788.844,262.437 790.725,261.523 792.607,260.609 794.489,259.695 796.371,258.781 798.252,257.867 800.134,256.953 802.016,256.038 803.897,255.124 805.779,254.21 \n",
       "  807.661,253.296 809.543,252.382 811.424,251.468 813.306,250.553 815.188,249.639 817.069,248.725 818.951,247.811 820.833,246.897 822.715,245.983 824.596,245.068 \n",
       "  826.478,244.154 828.36,243.24 830.241,242.326 832.123,241.412 834.005,240.498 835.887,239.584 837.768,238.669 839.65,237.755 841.532,236.841 843.413,235.927 \n",
       "  845.295,235.013 847.177,234.099 849.059,233.184 850.94,232.27 852.822,231.356 854.704,230.442 856.585,229.528 858.467,228.614 860.349,227.7 862.231,226.785 \n",
       "  864.112,225.871 865.994,224.957 867.876,224.043 869.757,223.129 871.639,222.215 873.521,221.3 875.403,220.386 877.284,219.472 879.166,218.558 881.048,217.644 \n",
       "  882.929,216.73 884.811,215.816 886.693,214.901 888.575,213.987 890.456,213.073 892.338,212.159 894.22,211.245 896.101,210.331 897.983,209.416 899.865,208.502 \n",
       "  901.747,207.588 903.628,206.674 905.51,205.76 907.392,204.846 909.273,203.931 911.155,203.017 913.037,202.103 914.919,201.189 916.8,200.275 918.682,199.361 \n",
       "  920.564,198.447 922.445,197.532 924.327,196.618 926.209,195.704 928.091,194.79 929.972,193.876 931.854,192.962 933.736,192.047 935.617,191.133 937.499,190.219 \n",
       "  939.381,189.305 941.263,188.391 943.144,187.477 945.026,186.563 946.908,185.648 948.789,184.734 950.671,183.82 952.553,182.906 954.435,181.992 956.316,181.078 \n",
       "  958.198,180.163 960.08,179.249 961.961,178.335 963.843,177.421 965.725,176.507 967.607,175.593 969.488,174.679 971.37,173.764 973.252,172.85 975.133,171.936 \n",
       "  977.015,171.022 978.897,170.108 980.779,169.194 982.66,168.279 984.542,167.365 986.424,166.451 988.305,165.537 990.187,164.623 992.069,163.709 993.951,162.794 \n",
       "  995.832,161.88 997.714,160.966 999.596,160.052 1001.48,159.138 1003.36,158.224 1005.24,157.31 1007.12,156.395 1009,155.481 1010.89,154.567 1012.77,153.653 \n",
       "  1014.65,152.739 1016.53,151.825 1018.41,150.91 1020.29,149.996 1022.18,149.082 1024.06,148.168 1025.94,147.254 1027.82,146.34 1029.7,145.426 1031.58,144.511 \n",
       "  1033.47,143.597 1035.35,142.683 1037.23,141.769 1039.11,140.855 1040.99,139.941 1042.88,139.026 1044.76,138.112 1046.64,137.198 1048.52,136.284 1050.4,135.37 \n",
       "  1052.28,134.456 1054.17,133.542 1056.05,132.627 1057.93,131.713 1059.81,130.799 1061.69,129.885 1063.57,128.971 1065.46,128.057 1067.34,127.142 1069.22,126.228 \n",
       "  1071.1,125.314 1072.98,124.4 1074.86,123.486 1076.75,122.572 1078.63,121.657 1080.51,120.743 1082.39,119.829 1084.27,118.915 1086.15,118.001 1088.04,117.087 \n",
       "  1089.92,116.173 1091.8,115.258 1093.68,114.344 1095.56,113.43 1097.44,112.516 1099.33,111.602 1101.21,110.688 1103.09,109.773 1104.97,108.859 1106.85,107.945 \n",
       "  1108.74,107.031 1110.62,106.117 1112.5,105.203 1114.38,104.289 1116.26,103.374 1118.14,102.46 1120.03,101.546 1121.91,100.632 1123.79,99.7177 1125.67,98.8036 \n",
       "  1127.55,97.8894 1129.43,97.0111 1131.32,96.1686 1133.2,95.3619 1135.08,94.591 1136.96,93.8559 1138.84,93.1566 1140.72,92.4932 1142.61,91.8655 1144.49,91.2737 \n",
       "  1146.37,90.7177 1148.25,90.1975 1150.13,89.7131 1152.01,89.2646 1153.9,88.8518 1155.78,88.4749 1157.66,88.1338 1159.54,87.8285 1161.42,87.559 1163.3,87.3253 \n",
       "  1165.19,87.1274 1167.07,86.9654 1168.95,86.8392 1170.83,86.7488 1172.71,86.6942 1174.6,86.6754 1176.48,86.6924 1178.36,86.7452 1180.24,86.8339 1182.12,86.9584 \n",
       "  1184,87.1187 1185.89,87.3148 1187.77,87.5467 1189.65,87.8144 1191.53,88.118 1193.41,88.4574 1195.29,88.8325 1197.18,89.2435 1199.06,89.6903 1200.94,90.173 \n",
       "  1202.82,90.6914 1204.7,91.2457 1206.58,91.8357 1208.47,92.4616 1210.35,93.1233 1212.23,93.8208 1214.11,94.5541 1215.99,95.3233 1217.87,96.1282 1219.76,96.969 \n",
       "  1221.64,97.8456 1223.52,98.758 1225.4,99.7062 1227.28,100.69 1229.16,101.71 1231.05,102.766 1232.93,103.857 1234.81,104.985 1236.69,106.148 1238.57,107.347 \n",
       "  1240.46,108.581 1242.34,109.852 1244.22,111.158 1246.1,112.5 1247.98,113.878 1249.86,115.292 1251.75,116.742 1253.63,118.227 1255.51,119.749 1257.39,121.306 \n",
       "  1259.27,122.898 1261.15,124.527 1263.04,126.192 1264.92,127.892 1266.8,129.628 1268.68,131.4 1270.56,133.208 1272.44,135.051 1274.33,136.931 1276.21,138.846 \n",
       "  1278.09,140.797 1279.97,142.784 1281.85,144.807 1283.73,146.865 1285.62,148.959 1287.5,151.09 1289.38,153.255 1291.26,155.457 1293.14,157.695 1295.02,159.968 \n",
       "  1296.91,162.277 1298.79,164.622 1300.67,167.003 1302.55,169.42 1304.43,171.872 1306.31,174.36 1308.2,176.884 1310.08,179.444 1311.96,182.04 1313.84,184.672 \n",
       "  1315.72,187.339 1317.61,190.042 1319.49,192.745 1321.37,195.448 1323.25,198.152 1325.13,200.855 1327.01,203.558 1328.9,206.261 1330.78,208.964 1332.66,211.667 \n",
       "  1334.54,214.37 1336.42,217.074 1338.3,219.777 1340.19,222.48 1342.07,225.183 1343.95,227.886 1345.83,230.589 1347.71,233.292 1349.59,235.996 1351.48,238.699 \n",
       "  1353.36,241.402 1355.24,244.105 1357.12,246.808 1359,249.511 1360.88,252.214 1362.77,254.918 1364.65,257.621 1366.53,260.324 1368.41,263.027 1370.29,265.73 \n",
       "  1372.17,268.433 1374.06,271.136 1375.94,273.84 1377.82,276.543 1379.7,279.246 1381.58,281.949 1383.47,284.652 1385.35,287.355 1387.23,290.058 1389.11,292.762 \n",
       "  1390.99,295.465 1392.87,298.168 1394.76,300.871 1396.64,303.574 1398.52,306.277 1400.4,308.98 1402.28,311.684 1404.16,314.387 1406.05,317.09 1407.93,319.793 \n",
       "  1409.81,322.496 1411.69,325.199 1413.57,327.903 1415.45,330.606 1417.34,333.309 1419.22,336.012 1421.1,338.715 1422.98,341.418 1424.86,344.121 1426.74,346.825 \n",
       "  1428.63,349.528 1430.51,352.231 1432.39,354.934 1434.27,357.637 1436.15,360.34 1438.03,363.043 1439.92,365.747 1441.8,368.45 1443.68,371.153 1445.56,373.856 \n",
       "  1447.44,376.559 1449.33,379.262 1451.21,381.965 1453.09,384.669 1454.97,387.372 1456.85,390.075 1458.73,392.778 1460.62,395.481 1462.5,398.184 1464.38,400.887 \n",
       "  1466.26,403.591 1468.14,406.294 1470.02,408.997 1471.91,411.7 1473.79,414.403 1475.67,417.106 1477.55,419.809 1479.43,422.513 1481.31,425.216 1483.2,427.919 \n",
       "  1485.08,430.622 1486.96,433.325 1488.84,436.028 1490.72,438.731 1492.6,441.435 1494.49,444.138 1496.37,446.841 1498.25,449.544 1500.13,452.247 1502.01,454.95 \n",
       "  1503.89,457.653 1505.78,460.357 1507.66,463.06 1509.54,465.763 1511.42,468.466 1513.3,471.169 1515.19,473.872 1517.07,476.576 1518.95,479.279 1520.83,481.982 \n",
       "  1522.71,484.685 1524.59,487.388 1526.48,490.091 1528.36,492.794 1530.24,495.498 1532.12,498.201 1534,500.904 1535.88,503.607 1537.77,506.31 1539.65,509.013 \n",
       "  1541.53,511.716 1543.41,514.42 1545.29,517.123 1547.17,519.826 1549.06,522.529 1550.94,525.232 1552.82,527.935 1554.7,530.638 1556.58,533.342 1558.46,536.045 \n",
       "  1560.35,538.748 1562.23,541.451 1564.11,544.154 1565.99,546.857 1567.87,549.56 1569.75,552.264 1571.64,554.967 1573.52,557.67 1575.4,560.373 1577.28,563.076 \n",
       "  1579.16,565.779 1581.05,568.482 1582.93,571.186 1584.81,573.889 1586.69,576.592 1588.57,579.295 1590.45,581.998 1592.34,584.701 1594.22,587.404 1596.1,590.108 \n",
       "  1597.98,592.811 1599.86,595.514 1601.74,598.217 1603.63,600.92 1605.51,603.623 1607.39,606.327 1609.27,609.03 1611.15,611.733 1613.03,614.436 1614.92,617.139 \n",
       "  1616.8,619.842 1618.68,622.545 1620.56,625.249 1622.44,627.952 1624.32,630.655 1626.21,633.358 1628.09,636.061 1629.97,638.764 1631.85,641.467 1633.73,644.171 \n",
       "  1635.61,646.874 1637.5,649.577 1639.38,652.28 1641.26,654.983 1643.14,657.686 1645.02,660.389 1646.91,663.093 1648.79,665.796 1650.67,668.499 1652.55,671.202 \n",
       "  1654.43,673.905 1656.31,676.608 1658.2,679.311 1660.08,682.015 1661.96,684.718 1663.84,687.421 1665.72,690.124 1667.6,692.827 1669.49,695.53 1671.37,698.233 \n",
       "  1673.25,700.937 1675.13,703.64 1677.01,706.343 1678.89,709.046 1680.78,711.749 1682.66,714.452 1684.54,717.155 1686.42,719.859 1688.3,722.562 1690.18,725.265 \n",
       "  1692.07,727.968 1693.95,730.671 1695.83,733.374 1697.71,736.077 1699.59,738.781 1701.47,741.484 1703.36,744.187 1705.24,746.89 1707.12,749.593 1709,752.296 \n",
       "  1710.88,755 1712.77,757.703 1714.65,760.406 1716.53,763.109 1718.41,765.812 1720.29,768.515 1722.17,771.218 1724.06,773.922 1725.94,776.625 1727.82,779.328 \n",
       "  1729.7,782.031 1731.58,784.734 1733.46,787.437 1735.35,790.14 1737.23,792.844 1739.11,795.547 1740.99,798.25 1742.87,800.953 1744.75,803.656 1746.64,806.359 \n",
       "  1748.52,809.062 1750.4,811.766 1752.28,814.469 1754.16,817.172 1756.04,819.875 1757.93,822.578 1759.81,825.281 1761.69,827.984 1763.57,830.688 1765.45,833.391 \n",
       "  1767.33,836.094 1769.22,838.797 1771.1,841.5 1772.98,844.203 1774.86,846.906 1776.74,849.61 1778.63,852.313 1780.51,855.016 1782.39,857.719 1784.27,860.422 \n",
       "  1786.15,863.125 1788.03,865.828 1789.92,868.532 1791.8,871.235 1793.68,873.938 1795.56,876.641 1797.44,879.344 1799.32,882.047 1801.21,884.751 1803.09,887.454 \n",
       "  1804.97,890.157 1806.85,892.86 1808.73,895.563 1810.61,898.266 1812.5,900.969 1814.38,903.673 1816.26,906.376 1818.14,909.079 1820.02,911.782 1821.9,914.485 \n",
       "  1823.79,917.188 1825.67,919.891 1827.55,922.595 1829.43,925.298 1831.31,928.001 1833.19,930.704 1835.08,933.407 1836.96,936.11 1838.84,938.813 1840.72,941.517 \n",
       "  1842.6,944.22 1844.49,946.923 1846.37,949.626 1848.25,952.329 1850.13,955.032 1852.01,957.735 1853.89,960.439 1855.78,963.142 1857.66,965.845 1859.54,968.548 \n",
       "  1861.42,971.251 1863.3,973.954 1865.18,976.657 1867.07,979.361 1868.95,982.064 1870.83,984.767 1872.71,987.47 1874.59,990.173 1876.47,992.876 1878.36,995.579 \n",
       "  1880.24,998.283 1882.12,1000.99 1884,1003.69 1885.88,1006.39 1887.76,1009.1 1889.65,1011.8 1891.53,1014.5 1893.41,1017.2 1895.29,1019.91 1897.17,1022.61 \n",
       "  1899.05,1025.31 1900.94,1028.02 1902.82,1030.72 1904.7,1033.42 1906.58,1036.13 1908.46,1038.83 1910.35,1041.53 1912.23,1044.24 1914.11,1046.94 1915.99,1049.64 \n",
       "  1917.87,1052.35 1919.75,1055.05 1921.64,1057.75 1923.52,1060.45 1925.4,1063.16 1927.28,1065.86 1929.16,1068.56 1931.04,1071.27 1932.93,1073.97 1934.81,1076.67 \n",
       "  1936.69,1079.38 1938.57,1082.08 1940.45,1084.78 1942.33,1087.49 1944.22,1090.19 1946.1,1092.89 1947.98,1095.6 1949.86,1098.3 1951.74,1101 1953.62,1103.71 \n",
       "  1955.51,1106.41 1957.39,1109.11 1959.27,1111.81 1961.15,1114.52 1963.03,1117.22 1964.91,1119.92 1966.8,1122.63 1968.68,1125.33 1970.56,1128.03 1972.44,1130.74 \n",
       "  1974.32,1133.44 1976.2,1136.14 1978.09,1138.85 1979.97,1141.55 1981.85,1144.25 1983.73,1146.96 1985.61,1149.66 1987.5,1152.36 1989.38,1155.07 1991.26,1157.77 \n",
       "  1993.14,1160.47 1995.02,1163.17 1996.9,1165.88 1998.79,1168.58 2000.67,1171.28 2002.55,1173.99 2004.43,1176.69 2006.31,1179.39 2008.19,1182.1 2010.08,1184.8 \n",
       "  2011.96,1187.5 2013.84,1190.21 2015.72,1192.91 2017.6,1195.61 2019.48,1198.32 2021.37,1201.02 2023.25,1203.72 2025.13,1206.42 2027.01,1209.13 2028.89,1211.83 \n",
       "  2030.77,1214.53 2032.66,1217.24 2034.54,1219.94 2036.42,1222.64 2038.3,1225.35 2040.18,1228.05 2042.06,1230.75 2043.95,1233.46 2045.83,1236.16 2047.71,1238.86 \n",
       "  2049.59,1241.57 2051.47,1244.27 2053.36,1246.97 2055.24,1249.68 2057.12,1252.38 2059,1255.08 2060.88,1257.78 2062.76,1260.49 2064.65,1263.19 2066.53,1265.89 \n",
       "  2068.41,1268.6 2070.29,1271.3 2072.17,1274 2074.05,1276.71 2075.94,1279.41 2077.82,1282.11 2079.7,1284.82 2081.58,1287.52 2083.46,1290.22 2085.34,1292.93 \n",
       "  2087.23,1295.63 2089.11,1298.33 2090.99,1301.03 2092.87,1303.74 2094.75,1306.44 2096.63,1309.14 2098.52,1311.85 2100.4,1314.55 2102.28,1317.25 2104.16,1319.96 \n",
       "  2106.04,1322.66 2107.92,1325.36 2109.81,1328.07 2111.69,1330.77 2113.57,1333.47 2115.45,1336.18 2117.33,1338.88 2119.22,1341.58 2121.1,1344.29 2122.98,1346.99 \n",
       "  2124.86,1349.69 2126.74,1352.39 2128.62,1355.1 2130.51,1357.8 2132.39,1360.5 2134.27,1363.21 2136.15,1365.91 2138.03,1368.61 2139.91,1371.32 2141.8,1374.02 \n",
       "  2143.68,1376.72 2145.56,1379.43 2147.44,1382.13 2149.32,1384.83 2151.2,1387.54 2153.09,1390.24 2154.97,1392.94 2156.85,1395.65 2158.73,1398.35 2160.61,1401.05 \n",
       "  \n",
       "  \"/>\n",
       "<polygon clip-path=\"url(#clip0301)\" points=\"\n",
       "224.386,1440.48 2217.01,1440.48 2217.01,47.2441 224.386,47.2441 \n",
       "  \" fill=\"#000000\" fill-rule=\"evenodd\" fill-opacity=\"0\"/>\n",
       "<polyline clip-path=\"url(#clip0303)\" style=\"stroke:#000000; stroke-width:2; stroke-opacity:0.1; fill:none\" points=\"\n",
       "  278.899,1440.48 278.899,47.2441 \n",
       "  \"/>\n",
       "<polyline clip-path=\"url(#clip0303)\" style=\"stroke:#000000; stroke-width:2; stroke-opacity:0.1; fill:none\" points=\"\n",
       "  749.328,1440.48 749.328,47.2441 \n",
       "  \"/>\n",
       "<polyline clip-path=\"url(#clip0303)\" style=\"stroke:#000000; stroke-width:2; stroke-opacity:0.1; fill:none\" points=\"\n",
       "  1219.76,1440.48 1219.76,47.2441 \n",
       "  \"/>\n",
       "<polyline clip-path=\"url(#clip0303)\" style=\"stroke:#000000; stroke-width:2; stroke-opacity:0.1; fill:none\" points=\"\n",
       "  1690.18,1440.48 1690.18,47.2441 \n",
       "  \"/>\n",
       "<polyline clip-path=\"url(#clip0303)\" style=\"stroke:#000000; stroke-width:2; stroke-opacity:0.1; fill:none\" points=\"\n",
       "  2160.61,1440.48 2160.61,47.2441 \n",
       "  \"/>\n",
       "<polyline clip-path=\"url(#clip0303)\" style=\"stroke:#000000; stroke-width:2; stroke-opacity:0.1; fill:none\" points=\"\n",
       "  224.386,1392.91 2217.01,1392.91 \n",
       "  \"/>\n",
       "<polyline clip-path=\"url(#clip0303)\" style=\"stroke:#000000; stroke-width:2; stroke-opacity:0.1; fill:none\" points=\"\n",
       "  224.386,1068.22 2217.01,1068.22 \n",
       "  \"/>\n",
       "<polyline clip-path=\"url(#clip0303)\" style=\"stroke:#000000; stroke-width:2; stroke-opacity:0.1; fill:none\" points=\"\n",
       "  224.386,743.531 2217.01,743.531 \n",
       "  \"/>\n",
       "<polyline clip-path=\"url(#clip0303)\" style=\"stroke:#000000; stroke-width:2; stroke-opacity:0.1; fill:none\" points=\"\n",
       "  224.386,418.841 2217.01,418.841 \n",
       "  \"/>\n",
       "<polyline clip-path=\"url(#clip0303)\" style=\"stroke:#000000; stroke-width:2; stroke-opacity:0.1; fill:none\" points=\"\n",
       "  224.386,94.1514 2217.01,94.1514 \n",
       "  \"/>\n",
       "<polyline clip-path=\"url(#clip0301)\" style=\"stroke:#000000; stroke-width:4; stroke-opacity:1; fill:none\" points=\"\n",
       "  224.386,1440.48 2217.01,1440.48 \n",
       "  \"/>\n",
       "<polyline clip-path=\"url(#clip0301)\" style=\"stroke:#000000; stroke-width:4; stroke-opacity:1; fill:none\" points=\"\n",
       "  2217.01,1440.48 2217.01,47.2441 \n",
       "  \"/>\n",
       "<polyline clip-path=\"url(#clip0301)\" style=\"stroke:#000000; stroke-width:4; stroke-opacity:1; fill:none\" points=\"\n",
       "  278.899,1440.48 278.899,1419.58 \n",
       "  \"/>\n",
       "<polyline clip-path=\"url(#clip0301)\" style=\"stroke:#000000; stroke-width:4; stroke-opacity:1; fill:none\" points=\"\n",
       "  749.328,1440.48 749.328,1419.58 \n",
       "  \"/>\n",
       "<polyline clip-path=\"url(#clip0301)\" style=\"stroke:#000000; stroke-width:4; stroke-opacity:1; fill:none\" points=\"\n",
       "  1219.76,1440.48 1219.76,1419.58 \n",
       "  \"/>\n",
       "<polyline clip-path=\"url(#clip0301)\" style=\"stroke:#000000; stroke-width:4; stroke-opacity:1; fill:none\" points=\"\n",
       "  1690.18,1440.48 1690.18,1419.58 \n",
       "  \"/>\n",
       "<polyline clip-path=\"url(#clip0301)\" style=\"stroke:#000000; stroke-width:4; stroke-opacity:1; fill:none\" points=\"\n",
       "  2160.61,1440.48 2160.61,1419.58 \n",
       "  \"/>\n",
       "<polyline clip-path=\"url(#clip0301)\" style=\"stroke:#000000; stroke-width:4; stroke-opacity:1; fill:none\" points=\"\n",
       "  2217.01,1392.91 2187.12,1392.91 \n",
       "  \"/>\n",
       "<polyline clip-path=\"url(#clip0301)\" style=\"stroke:#000000; stroke-width:4; stroke-opacity:1; fill:none\" points=\"\n",
       "  2217.01,1068.22 2187.12,1068.22 \n",
       "  \"/>\n",
       "<polyline clip-path=\"url(#clip0301)\" style=\"stroke:#000000; stroke-width:4; stroke-opacity:1; fill:none\" points=\"\n",
       "  2217.01,743.531 2187.12,743.531 \n",
       "  \"/>\n",
       "<polyline clip-path=\"url(#clip0301)\" style=\"stroke:#000000; stroke-width:4; stroke-opacity:1; fill:none\" points=\"\n",
       "  2217.01,418.841 2187.12,418.841 \n",
       "  \"/>\n",
       "<polyline clip-path=\"url(#clip0301)\" style=\"stroke:#000000; stroke-width:4; stroke-opacity:1; fill:none\" points=\"\n",
       "  2217.01,94.1514 2187.12,94.1514 \n",
       "  \"/>\n",
       "<g clip-path=\"url(#clip0301)\">\n",
       "<text style=\"fill:#000000; fill-opacity:1; font-family:Arial,Helvetica Neue,Helvetica,sans-serif; font-size:48px; text-anchor:middle;\" transform=\"rotate(0, 278.899, 1494.48)\" x=\"278.899\" y=\"1494.48\">0</text>\n",
       "</g>\n",
       "<g clip-path=\"url(#clip0301)\">\n",
       "<text style=\"fill:#000000; fill-opacity:1; font-family:Arial,Helvetica Neue,Helvetica,sans-serif; font-size:48px; text-anchor:middle;\" transform=\"rotate(0, 749.328, 1494.48)\" x=\"749.328\" y=\"1494.48\">250</text>\n",
       "</g>\n",
       "<g clip-path=\"url(#clip0301)\">\n",
       "<text style=\"fill:#000000; fill-opacity:1; font-family:Arial,Helvetica Neue,Helvetica,sans-serif; font-size:48px; text-anchor:middle;\" transform=\"rotate(0, 1219.76, 1494.48)\" x=\"1219.76\" y=\"1494.48\">500</text>\n",
       "</g>\n",
       "<g clip-path=\"url(#clip0301)\">\n",
       "<text style=\"fill:#000000; fill-opacity:1; font-family:Arial,Helvetica Neue,Helvetica,sans-serif; font-size:48px; text-anchor:middle;\" transform=\"rotate(0, 1690.18, 1494.48)\" x=\"1690.18\" y=\"1494.48\">750</text>\n",
       "</g>\n",
       "<g clip-path=\"url(#clip0301)\">\n",
       "<text style=\"fill:#000000; fill-opacity:1; font-family:Arial,Helvetica Neue,Helvetica,sans-serif; font-size:48px; text-anchor:middle;\" transform=\"rotate(0, 2160.61, 1494.48)\" x=\"2160.61\" y=\"1494.48\">1000</text>\n",
       "</g>\n",
       "<g clip-path=\"url(#clip0301)\">\n",
       "<text style=\"fill:#000000; fill-opacity:1; font-family:Arial,Helvetica Neue,Helvetica,sans-serif; font-size:48px; text-anchor:start;\" transform=\"rotate(0, 2241.01, 1410.41)\" x=\"2241.01\" y=\"1410.41\">-3</text>\n",
       "</g>\n",
       "<g clip-path=\"url(#clip0301)\">\n",
       "<text style=\"fill:#000000; fill-opacity:1; font-family:Arial,Helvetica Neue,Helvetica,sans-serif; font-size:48px; text-anchor:start;\" transform=\"rotate(0, 2241.01, 1085.72)\" x=\"2241.01\" y=\"1085.72\">-2</text>\n",
       "</g>\n",
       "<g clip-path=\"url(#clip0301)\">\n",
       "<text style=\"fill:#000000; fill-opacity:1; font-family:Arial,Helvetica Neue,Helvetica,sans-serif; font-size:48px; text-anchor:start;\" transform=\"rotate(0, 2241.01, 761.031)\" x=\"2241.01\" y=\"761.031\">-1</text>\n",
       "</g>\n",
       "<g clip-path=\"url(#clip0301)\">\n",
       "<text style=\"fill:#000000; fill-opacity:1; font-family:Arial,Helvetica Neue,Helvetica,sans-serif; font-size:48px; text-anchor:start;\" transform=\"rotate(0, 2241.01, 436.341)\" x=\"2241.01\" y=\"436.341\">0</text>\n",
       "</g>\n",
       "<g clip-path=\"url(#clip0301)\">\n",
       "<text style=\"fill:#000000; fill-opacity:1; font-family:Arial,Helvetica Neue,Helvetica,sans-serif; font-size:48px; text-anchor:start;\" transform=\"rotate(0, 2241.01, 111.651)\" x=\"2241.01\" y=\"111.651\">1</text>\n",
       "</g>\n",
       "<polyline clip-path=\"url(#clip0303)\" style=\"stroke:#ff0000; stroke-width:4; stroke-opacity:1; fill:none\" points=\"\n",
       "  280.781,86.6754 282.663,86.6754 284.545,86.6754 286.426,86.6754 288.308,86.6754 290.19,86.6754 292.071,86.6754 293.953,86.6754 295.835,86.6754 297.717,86.6754 \n",
       "  299.598,86.6754 301.48,86.6754 303.362,86.6754 305.243,86.6754 307.125,86.6754 309.007,86.6754 310.889,86.6754 312.77,86.6754 314.652,86.6754 316.534,86.6754 \n",
       "  318.415,86.6754 320.297,86.6754 322.179,86.6754 324.061,86.6754 325.942,86.6754 327.824,86.6754 329.706,86.6754 331.587,86.6754 333.469,86.6754 335.351,86.6754 \n",
       "  337.233,86.6754 339.114,86.6754 340.996,86.6754 342.878,86.6754 344.759,86.6754 346.641,86.6754 348.523,86.6754 350.405,86.6754 352.286,86.6754 354.168,86.6754 \n",
       "  356.05,86.6754 357.931,86.6754 359.813,86.6754 361.695,86.6754 363.577,86.6754 365.458,86.6754 367.34,86.6754 369.222,86.6754 371.103,86.6754 372.985,86.6754 \n",
       "  374.867,86.6754 376.749,86.6754 378.63,86.6754 380.512,86.6754 382.394,86.6754 384.275,86.6754 386.157,86.6754 388.039,86.6754 389.921,86.6754 391.802,86.6754 \n",
       "  393.684,86.6754 395.566,86.6754 397.447,86.6754 399.329,86.6754 401.211,86.6754 403.092,86.6754 404.974,86.6754 406.856,86.6754 408.738,86.6754 410.619,86.6754 \n",
       "  412.501,86.6754 414.383,86.6754 416.264,86.6754 418.146,86.6754 420.028,86.6754 421.91,86.6754 423.791,86.6754 425.673,86.6754 427.555,86.6754 429.436,86.6754 \n",
       "  431.318,86.6754 433.2,86.6754 435.082,86.6754 436.963,86.6754 438.845,86.6754 440.727,86.6754 442.608,86.6754 444.49,86.6754 446.372,86.6754 448.254,86.6754 \n",
       "  450.135,86.6754 452.017,86.6754 453.899,86.6754 455.78,86.6754 457.662,86.6754 459.544,86.6754 461.426,86.6754 463.307,86.6754 465.189,86.6754 467.071,86.6754 \n",
       "  468.952,86.6754 470.834,86.6754 472.716,86.6754 474.598,86.6754 476.479,86.6754 478.361,86.6754 480.243,86.6754 482.124,86.6754 484.006,86.6754 485.888,86.6754 \n",
       "  487.77,86.6754 489.651,86.6754 491.533,86.6754 493.415,86.6754 495.296,86.6754 497.178,86.6754 499.06,86.6754 500.942,86.6754 502.823,86.6754 504.705,86.6754 \n",
       "  506.587,86.6754 508.468,86.6754 510.35,86.6754 512.232,86.6754 514.114,86.6754 515.995,86.6754 517.877,86.6754 519.759,86.6754 521.64,86.6754 523.522,86.6754 \n",
       "  525.404,86.6754 527.286,86.6754 529.167,86.6754 531.049,86.6754 532.931,86.6754 534.812,86.6754 536.694,86.6754 538.576,86.6754 540.458,86.6754 542.339,86.6754 \n",
       "  544.221,86.6754 546.103,86.6754 547.984,86.6754 549.866,86.6754 551.748,86.6754 553.63,86.6754 555.511,86.6754 557.393,86.6754 559.275,86.6754 561.156,86.6754 \n",
       "  563.038,86.6754 564.92,86.6754 566.802,86.6754 568.683,86.6754 570.565,86.6754 572.447,86.6754 574.328,86.6754 576.21,86.6754 578.092,86.6754 579.974,86.6754 \n",
       "  581.855,86.6754 583.737,86.6754 585.619,86.6754 587.5,86.6754 589.382,86.6754 591.264,86.6754 593.146,86.6754 595.027,86.6754 596.909,86.6754 598.791,86.6754 \n",
       "  600.672,86.6754 602.554,86.6754 604.436,86.6754 606.318,86.6754 608.199,86.6754 610.081,86.6754 611.963,86.6754 613.844,86.6754 615.726,86.6754 617.608,86.6754 \n",
       "  619.49,86.6754 621.371,86.6754 623.253,86.6754 625.135,86.6754 627.016,86.6754 628.898,86.6754 630.78,86.6754 632.662,86.6754 634.543,86.6754 636.425,86.6754 \n",
       "  638.307,86.6754 640.188,86.6754 642.07,86.6754 643.952,86.6754 645.834,86.6754 647.715,86.6754 649.597,86.6754 651.479,86.6754 653.36,86.6754 655.242,86.6754 \n",
       "  657.124,86.6754 659.006,86.6754 660.887,86.6754 662.769,86.6754 664.651,86.6754 666.532,86.6754 668.414,86.6754 670.296,86.6754 672.178,86.6754 674.059,86.6754 \n",
       "  675.941,86.6754 677.823,86.6754 679.704,86.6754 681.586,86.6754 683.468,86.6754 685.35,86.6754 687.231,86.6754 689.113,86.6754 690.995,86.6754 692.876,86.6754 \n",
       "  694.758,86.6754 696.64,86.6754 698.522,86.6754 700.403,86.6754 702.285,86.6754 704.167,86.6754 706.048,86.6754 707.93,86.6754 709.812,86.6754 711.694,86.6754 \n",
       "  713.575,86.6754 715.457,86.6754 717.339,86.6754 719.22,86.6754 721.102,86.6754 722.984,86.6754 724.866,86.6754 726.747,86.6754 728.629,86.6754 730.511,86.6754 \n",
       "  732.392,86.6754 734.274,86.6754 736.156,86.6754 738.038,86.6754 739.919,86.6754 741.801,86.6754 743.683,86.6754 745.564,86.6754 747.446,86.6754 749.328,86.6754 \n",
       "  751.209,86.6754 753.091,86.6754 754.973,86.6754 756.855,86.6754 758.736,86.6754 760.618,86.6754 762.5,86.6754 764.381,86.6754 766.263,86.6754 768.145,86.6754 \n",
       "  770.027,86.6754 771.908,86.6754 773.79,86.6754 775.672,86.6754 777.553,86.6754 779.435,86.6754 781.317,86.6754 783.199,86.6754 785.08,86.6754 786.962,86.6754 \n",
       "  788.844,86.6754 790.725,86.6754 792.607,86.6754 794.489,86.6754 796.371,86.6754 798.252,86.6754 800.134,86.6754 802.016,86.6754 803.897,86.6754 805.779,86.6754 \n",
       "  807.661,86.6754 809.543,86.6754 811.424,86.6754 813.306,86.6754 815.188,86.6754 817.069,86.6754 818.951,86.6754 820.833,86.6754 822.715,86.6754 824.596,86.6754 \n",
       "  826.478,86.6754 828.36,86.6754 830.241,86.6754 832.123,86.6754 834.005,86.6754 835.887,86.6754 837.768,86.6754 839.65,86.6754 841.532,86.6754 843.413,86.6754 \n",
       "  845.295,86.6754 847.177,86.6754 849.059,86.6754 850.94,86.6754 852.822,86.6754 854.704,86.6754 856.585,86.6754 858.467,86.6754 860.349,86.6754 862.231,86.6754 \n",
       "  864.112,86.6754 865.994,86.6754 867.876,86.6754 869.757,86.6754 871.639,86.6754 873.521,86.6754 875.403,86.6754 877.284,86.6754 879.166,86.6754 881.048,86.6754 \n",
       "  882.929,86.6754 884.811,86.6754 886.693,86.6754 888.575,86.6754 890.456,86.6754 892.338,86.6754 894.22,86.6754 896.101,86.6754 897.983,86.6754 899.865,86.6754 \n",
       "  901.747,86.6754 903.628,86.6754 905.51,86.6754 907.392,86.6754 909.273,86.6754 911.155,86.6754 913.037,86.6754 914.919,86.6754 916.8,86.6754 918.682,86.6754 \n",
       "  920.564,86.6754 922.445,86.6754 924.327,86.6754 926.209,86.6754 928.091,86.6754 929.972,86.6754 931.854,86.6754 933.736,86.6754 935.617,86.6754 937.499,86.6754 \n",
       "  939.381,86.6754 941.263,86.6754 943.144,86.6754 945.026,86.6754 946.908,86.6754 948.789,86.6754 950.671,86.6754 952.553,86.6754 954.435,86.6754 956.316,86.6754 \n",
       "  958.198,86.6754 960.08,86.6754 961.961,86.6754 963.843,86.6754 965.725,86.6754 967.607,86.6754 969.488,86.6754 971.37,86.6754 973.252,86.6754 975.133,86.6754 \n",
       "  977.015,86.6754 978.897,86.6754 980.779,86.6754 982.66,86.6754 984.542,86.6754 986.424,86.6754 988.305,86.6754 990.187,86.6754 992.069,86.6754 993.951,86.6754 \n",
       "  995.832,86.6754 997.714,86.6754 999.596,86.6754 1001.48,86.6754 1003.36,86.6754 1005.24,86.6754 1007.12,86.6754 1009,86.6754 1010.89,86.6754 1012.77,86.6754 \n",
       "  1014.65,86.6754 1016.53,86.6754 1018.41,86.6754 1020.29,86.6754 1022.18,86.6754 1024.06,86.6754 1025.94,86.6754 1027.82,86.6754 1029.7,86.6754 1031.58,86.6754 \n",
       "  1033.47,86.6754 1035.35,86.6754 1037.23,86.6754 1039.11,86.6754 1040.99,86.6754 1042.88,86.6754 1044.76,86.6754 1046.64,86.6754 1048.52,86.6754 1050.4,86.6754 \n",
       "  1052.28,86.6754 1054.17,86.6754 1056.05,86.6754 1057.93,86.6754 1059.81,86.6754 1061.69,86.6754 1063.57,86.6754 1065.46,86.6754 1067.34,86.6754 1069.22,86.6754 \n",
       "  1071.1,86.6754 1072.98,86.6754 1074.86,86.6754 1076.75,86.6754 1078.63,86.6754 1080.51,86.6754 1082.39,86.6754 1084.27,86.6754 1086.15,86.6754 1088.04,86.6754 \n",
       "  1089.92,86.6754 1091.8,86.6754 1093.68,86.6754 1095.56,86.6754 1097.44,86.6754 1099.33,86.6754 1101.21,86.6754 1103.09,86.6754 1104.97,86.6754 1106.85,86.6754 \n",
       "  1108.74,86.6754 1110.62,86.6754 1112.5,86.6754 1114.38,86.6754 1116.26,86.6754 1118.14,86.6754 1120.03,86.6754 1121.91,86.6754 1123.79,86.6754 1125.67,86.6754 \n",
       "  1127.55,93.1822 1129.43,106.196 1131.32,119.209 1133.2,132.223 1135.08,145.237 1136.96,158.25 1138.84,171.264 1140.72,184.278 1142.61,197.291 1144.49,210.305 \n",
       "  1146.37,223.318 1148.25,236.332 1150.13,249.346 1152.01,262.359 1153.9,275.373 1155.78,288.387 1157.66,301.4 1159.54,314.414 1161.42,327.427 1163.3,340.441 \n",
       "  1165.19,353.455 1167.07,366.468 1168.95,379.482 1170.83,392.496 1172.71,405.509 1174.6,418.523 1176.48,431.536 1178.36,444.55 1180.24,457.564 1182.12,470.577 \n",
       "  1184,483.591 1185.89,496.605 1187.77,509.618 1189.65,522.632 1191.53,535.645 1193.41,548.659 1195.29,561.673 1197.18,574.686 1199.06,587.7 1200.94,600.713 \n",
       "  1202.82,613.727 1204.7,626.741 1206.58,639.754 1208.47,652.768 1210.35,665.782 1212.23,678.795 1214.11,691.809 1215.99,704.822 1217.87,717.836 1219.76,730.85 \n",
       "  1221.64,743.863 1223.52,756.877 1225.4,769.891 1227.28,782.904 1229.16,795.918 1231.05,808.931 1232.93,821.945 1234.81,834.959 1236.69,847.972 1238.57,860.986 \n",
       "  1240.46,874 1242.34,887.013 1244.22,900.027 1246.1,913.04 1247.98,926.054 1249.86,939.068 1251.75,952.081 1253.63,965.095 1255.51,978.109 1257.39,991.122 \n",
       "  1259.27,1004.14 1261.15,1017.15 1263.04,1030.16 1264.92,1043.18 1266.8,1056.19 1268.68,1069.2 1270.56,1082.22 1272.44,1095.23 1274.33,1108.24 1276.21,1121.26 \n",
       "  1278.09,1134.27 1279.97,1147.29 1281.85,1160.3 1283.73,1173.31 1285.62,1186.33 1287.5,1199.34 1289.38,1212.35 1291.26,1225.37 1293.14,1238.38 1295.02,1251.39 \n",
       "  1296.91,1264.41 1298.79,1277.42 1300.67,1290.44 1302.55,1303.45 1304.43,1316.46 1306.31,1329.48 1308.2,1342.49 1310.08,1355.5 1311.96,1368.52 1313.84,1381.53 \n",
       "  1315.72,1394.54 1317.61,1401.05 1319.49,1401.05 1321.37,1401.05 1323.25,1401.05 1325.13,1401.05 1327.01,1401.05 1328.9,1401.05 1330.78,1401.05 1332.66,1401.05 \n",
       "  1334.54,1401.05 1336.42,1401.05 1338.3,1401.05 1340.19,1401.05 1342.07,1401.05 1343.95,1401.05 1345.83,1401.05 1347.71,1401.05 1349.59,1401.05 1351.48,1401.05 \n",
       "  1353.36,1401.05 1355.24,1401.05 1357.12,1401.05 1359,1401.05 1360.88,1401.05 1362.77,1401.05 1364.65,1401.05 1366.53,1401.05 1368.41,1401.05 1370.29,1401.05 \n",
       "  1372.17,1401.05 1374.06,1401.05 1375.94,1401.05 1377.82,1401.05 1379.7,1401.05 1381.58,1401.05 1383.47,1401.05 1385.35,1401.05 1387.23,1401.05 1389.11,1401.05 \n",
       "  1390.99,1401.05 1392.87,1401.05 1394.76,1401.05 1396.64,1401.05 1398.52,1401.05 1400.4,1401.05 1402.28,1401.05 1404.16,1401.05 1406.05,1401.05 1407.93,1401.05 \n",
       "  1409.81,1401.05 1411.69,1401.05 1413.57,1401.05 1415.45,1401.05 1417.34,1401.05 1419.22,1401.05 1421.1,1401.05 1422.98,1401.05 1424.86,1401.05 1426.74,1401.05 \n",
       "  1428.63,1401.05 1430.51,1401.05 1432.39,1401.05 1434.27,1401.05 1436.15,1401.05 1438.03,1401.05 1439.92,1401.05 1441.8,1401.05 1443.68,1401.05 1445.56,1401.05 \n",
       "  1447.44,1401.05 1449.33,1401.05 1451.21,1401.05 1453.09,1401.05 1454.97,1401.05 1456.85,1401.05 1458.73,1401.05 1460.62,1401.05 1462.5,1401.05 1464.38,1401.05 \n",
       "  1466.26,1401.05 1468.14,1401.05 1470.02,1401.05 1471.91,1401.05 1473.79,1401.05 1475.67,1401.05 1477.55,1401.05 1479.43,1401.05 1481.31,1401.05 1483.2,1401.05 \n",
       "  1485.08,1401.05 1486.96,1401.05 1488.84,1401.05 1490.72,1401.05 1492.6,1401.05 1494.49,1401.05 1496.37,1401.05 1498.25,1401.05 1500.13,1401.05 1502.01,1401.05 \n",
       "  1503.89,1401.05 1505.78,1401.05 1507.66,1401.05 1509.54,1401.05 1511.42,1401.05 1513.3,1401.05 1515.19,1401.05 1517.07,1401.05 1518.95,1401.05 1520.83,1401.05 \n",
       "  1522.71,1401.05 1524.59,1401.05 1526.48,1401.05 1528.36,1401.05 1530.24,1401.05 1532.12,1401.05 1534,1401.05 1535.88,1401.05 1537.77,1401.05 1539.65,1401.05 \n",
       "  1541.53,1401.05 1543.41,1401.05 1545.29,1401.05 1547.17,1401.05 1549.06,1401.05 1550.94,1401.05 1552.82,1401.05 1554.7,1401.05 1556.58,1401.05 1558.46,1401.05 \n",
       "  1560.35,1401.05 1562.23,1401.05 1564.11,1401.05 1565.99,1401.05 1567.87,1401.05 1569.75,1401.05 1571.64,1401.05 1573.52,1401.05 1575.4,1401.05 1577.28,1401.05 \n",
       "  1579.16,1401.05 1581.05,1401.05 1582.93,1401.05 1584.81,1401.05 1586.69,1401.05 1588.57,1401.05 1590.45,1401.05 1592.34,1401.05 1594.22,1401.05 1596.1,1401.05 \n",
       "  1597.98,1401.05 1599.86,1401.05 1601.74,1401.05 1603.63,1401.05 1605.51,1401.05 1607.39,1401.05 1609.27,1401.05 1611.15,1401.05 1613.03,1401.05 1614.92,1401.05 \n",
       "  1616.8,1401.05 1618.68,1401.05 1620.56,1401.05 1622.44,1401.05 1624.32,1401.05 1626.21,1401.05 1628.09,1401.05 1629.97,1401.05 1631.85,1401.05 1633.73,1401.05 \n",
       "  1635.61,1401.05 1637.5,1401.05 1639.38,1401.05 1641.26,1401.05 1643.14,1401.05 1645.02,1401.05 1646.91,1401.05 1648.79,1401.05 1650.67,1401.05 1652.55,1401.05 \n",
       "  1654.43,1401.05 1656.31,1401.05 1658.2,1401.05 1660.08,1401.05 1661.96,1401.05 1663.84,1401.05 1665.72,1401.05 1667.6,1401.05 1669.49,1401.05 1671.37,1401.05 \n",
       "  1673.25,1401.05 1675.13,1401.05 1677.01,1401.05 1678.89,1401.05 1680.78,1401.05 1682.66,1401.05 1684.54,1401.05 1686.42,1401.05 1688.3,1401.05 1690.18,1401.05 \n",
       "  1692.07,1401.05 1693.95,1401.05 1695.83,1401.05 1697.71,1401.05 1699.59,1401.05 1701.47,1401.05 1703.36,1401.05 1705.24,1401.05 1707.12,1401.05 1709,1401.05 \n",
       "  1710.88,1401.05 1712.77,1401.05 1714.65,1401.05 1716.53,1401.05 1718.41,1401.05 1720.29,1401.05 1722.17,1401.05 1724.06,1401.05 1725.94,1401.05 1727.82,1401.05 \n",
       "  1729.7,1401.05 1731.58,1401.05 1733.46,1401.05 1735.35,1401.05 1737.23,1401.05 1739.11,1401.05 1740.99,1401.05 1742.87,1401.05 1744.75,1401.05 1746.64,1401.05 \n",
       "  1748.52,1401.05 1750.4,1401.05 1752.28,1401.05 1754.16,1401.05 1756.04,1401.05 1757.93,1401.05 1759.81,1401.05 1761.69,1401.05 1763.57,1401.05 1765.45,1401.05 \n",
       "  1767.33,1401.05 1769.22,1401.05 1771.1,1401.05 1772.98,1401.05 1774.86,1401.05 1776.74,1401.05 1778.63,1401.05 1780.51,1401.05 1782.39,1401.05 1784.27,1401.05 \n",
       "  1786.15,1401.05 1788.03,1401.05 1789.92,1401.05 1791.8,1401.05 1793.68,1401.05 1795.56,1401.05 1797.44,1401.05 1799.32,1401.05 1801.21,1401.05 1803.09,1401.05 \n",
       "  1804.97,1401.05 1806.85,1401.05 1808.73,1401.05 1810.61,1401.05 1812.5,1401.05 1814.38,1401.05 1816.26,1401.05 1818.14,1401.05 1820.02,1401.05 1821.9,1401.05 \n",
       "  1823.79,1401.05 1825.67,1401.05 1827.55,1401.05 1829.43,1401.05 1831.31,1401.05 1833.19,1401.05 1835.08,1401.05 1836.96,1401.05 1838.84,1401.05 1840.72,1401.05 \n",
       "  1842.6,1401.05 1844.49,1401.05 1846.37,1401.05 1848.25,1401.05 1850.13,1401.05 1852.01,1401.05 1853.89,1401.05 1855.78,1401.05 1857.66,1401.05 1859.54,1401.05 \n",
       "  1861.42,1401.05 1863.3,1401.05 1865.18,1401.05 1867.07,1401.05 1868.95,1401.05 1870.83,1401.05 1872.71,1401.05 1874.59,1401.05 1876.47,1401.05 1878.36,1401.05 \n",
       "  1880.24,1401.05 1882.12,1401.05 1884,1401.05 1885.88,1401.05 1887.76,1401.05 1889.65,1401.05 1891.53,1401.05 1893.41,1401.05 1895.29,1401.05 1897.17,1401.05 \n",
       "  1899.05,1401.05 1900.94,1401.05 1902.82,1401.05 1904.7,1401.05 1906.58,1401.05 1908.46,1401.05 1910.35,1401.05 1912.23,1401.05 1914.11,1401.05 1915.99,1401.05 \n",
       "  1917.87,1401.05 1919.75,1401.05 1921.64,1401.05 1923.52,1401.05 1925.4,1401.05 1927.28,1401.05 1929.16,1401.05 1931.04,1401.05 1932.93,1401.05 1934.81,1401.05 \n",
       "  1936.69,1401.05 1938.57,1401.05 1940.45,1401.05 1942.33,1401.05 1944.22,1401.05 1946.1,1401.05 1947.98,1401.05 1949.86,1401.05 1951.74,1401.05 1953.62,1401.05 \n",
       "  1955.51,1401.05 1957.39,1401.05 1959.27,1401.05 1961.15,1401.05 1963.03,1401.05 1964.91,1401.05 1966.8,1401.05 1968.68,1401.05 1970.56,1401.05 1972.44,1401.05 \n",
       "  1974.32,1401.05 1976.2,1401.05 1978.09,1401.05 1979.97,1401.05 1981.85,1401.05 1983.73,1401.05 1985.61,1401.05 1987.5,1401.05 1989.38,1401.05 1991.26,1401.05 \n",
       "  1993.14,1401.05 1995.02,1401.05 1996.9,1401.05 1998.79,1401.05 2000.67,1401.05 2002.55,1401.05 2004.43,1401.05 2006.31,1401.05 2008.19,1401.05 2010.08,1401.05 \n",
       "  2011.96,1401.05 2013.84,1401.05 2015.72,1401.05 2017.6,1401.05 2019.48,1401.05 2021.37,1401.05 2023.25,1401.05 2025.13,1401.05 2027.01,1401.05 2028.89,1401.05 \n",
       "  2030.77,1401.05 2032.66,1401.05 2034.54,1401.05 2036.42,1401.05 2038.3,1401.05 2040.18,1401.05 2042.06,1401.05 2043.95,1401.05 2045.83,1401.05 2047.71,1401.05 \n",
       "  2049.59,1401.05 2051.47,1401.05 2053.36,1401.05 2055.24,1401.05 2057.12,1401.05 2059,1401.05 2060.88,1401.05 2062.76,1401.05 2064.65,1401.05 2066.53,1401.05 \n",
       "  2068.41,1401.05 2070.29,1401.05 2072.17,1401.05 2074.05,1401.05 2075.94,1401.05 2077.82,1401.05 2079.7,1401.05 2081.58,1401.05 2083.46,1401.05 2085.34,1401.05 \n",
       "  2087.23,1401.05 2089.11,1401.05 2090.99,1401.05 2092.87,1401.05 2094.75,1401.05 2096.63,1401.05 2098.52,1401.05 2100.4,1401.05 2102.28,1401.05 2104.16,1401.05 \n",
       "  2106.04,1401.05 2107.92,1401.05 2109.81,1401.05 2111.69,1401.05 2113.57,1401.05 2115.45,1401.05 2117.33,1401.05 2119.22,1401.05 2121.1,1401.05 2122.98,1401.05 \n",
       "  2124.86,1401.05 2126.74,1401.05 2128.62,1401.05 2130.51,1401.05 2132.39,1401.05 2134.27,1401.05 2136.15,1401.05 2138.03,1401.05 2139.91,1401.05 2141.8,1401.05 \n",
       "  2143.68,1401.05 2145.56,1401.05 2147.44,1401.05 2149.32,1401.05 2151.2,1401.05 2153.09,1401.05 2154.97,1401.05 2156.85,1401.05 2158.73,1401.05 2160.61,1401.05 \n",
       "  \n",
       "  \"/>\n",
       "<polygon clip-path=\"url(#clip0301)\" points=\"\n",
       "1666.99,251.724 2145.01,251.724 2145.01,130.764 1666.99,130.764 \n",
       "  \" fill=\"#ffffff\" fill-rule=\"evenodd\" fill-opacity=\"1\"/>\n",
       "<polyline clip-path=\"url(#clip0301)\" style=\"stroke:#000000; stroke-width:4; stroke-opacity:1; fill:none\" points=\"\n",
       "  1666.99,251.724 2145.01,251.724 2145.01,130.764 1666.99,130.764 1666.99,251.724 \n",
       "  \"/>\n",
       "<polyline clip-path=\"url(#clip0301)\" style=\"stroke:#ff0000; stroke-width:4; stroke-opacity:1; fill:none\" points=\"\n",
       "  1690.99,191.244 1834.99,191.244 \n",
       "  \"/>\n",
       "<g clip-path=\"url(#clip0301)\">\n",
       "<text style=\"fill:#000000; fill-opacity:1; font-family:Arial,Helvetica Neue,Helvetica,sans-serif; font-size:48px; text-anchor:start;\" transform=\"rotate(0, 1858.99, 208.744)\" x=\"1858.99\" y=\"208.744\">Current (A)</text>\n",
       "</g>\n",
       "</svg>\n"
      ]
     },
     "execution_count": 13,
     "metadata": {},
     "output_type": "execute_result"
    }
   ],
   "source": [
    "plot(x,legend=false,xlabel=\"Position\",ylabel=\"Voltage (V)\")\n",
    "plt = twinx()\n",
    "plot!(plt,A,label=\"Current (A)\",color=:red)"
   ]
  },
  {
   "cell_type": "markdown",
   "metadata": {},
   "source": [
    "### Question 1 - Does conductivity play a role now?"
   ]
  },
  {
   "cell_type": "markdown",
   "metadata": {},
   "source": [
    "Yes, but only in the current calculation as shown, not in the solution of x."
   ]
  }
 ],
 "metadata": {
  "kernelspec": {
   "display_name": "Julia 1.1.0",
   "language": "julia",
   "name": "julia-1.1"
  },
  "language_info": {
   "file_extension": ".jl",
   "mimetype": "application/julia",
   "name": "julia",
   "version": "1.1.0"
  }
 },
 "nbformat": 4,
 "nbformat_minor": 2
}
