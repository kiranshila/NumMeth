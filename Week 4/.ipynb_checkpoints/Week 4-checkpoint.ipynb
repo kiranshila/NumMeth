{
 "cells": [
  {
   "cell_type": "code",
   "execution_count": 12,
   "metadata": {},
   "outputs": [],
   "source": [
    "using Plots\n",
    "using LinearAlgebra\n",
    "using BenchmarkTools\n",
    "using SparseArrays"
   ]
  },
  {
   "cell_type": "markdown",
   "metadata": {},
   "source": [
    "# Week 4 - Boundary Value Problems and the Finite Difference Method\n",
    "## Kiran Shila - U54532811\n",
    "\n",
    "### Part 1 - Finite Difference Laplace Equation\n",
    "\n",
    "So first we are going to write the function that calculates the \"A\" Matrix that describes the operator on the source vector b\n",
    "\n",
    "For this function, I am going to allow the user to input the \"dirichlet\" conditions for the top and bottom bounds in 1D"
   ]
  },
  {
   "cell_type": "code",
   "execution_count": 2,
   "metadata": {},
   "outputs": [
    {
     "data": {
      "text/plain": [
       "generate1DLaplaceCFD"
      ]
     },
     "execution_count": 2,
     "metadata": {},
     "output_type": "execute_result"
    }
   ],
   "source": [
    "\"\"\"\n",
    "    generate1DLaplaceCFD(length,lowerBound,upperBound)\n",
    "\n",
    "    This function generates the 1D centered finite-difference to solve the laplace equation.\n",
    "\"\"\"\n",
    "function generate1DLaplaceCFD(length::Int64)\n",
    "    mainDiagonal = fill(2,length)\n",
    "    sideDiagonals = fill(-1,length-1)\n",
    "    return SymTridiagonal(mainDiagonal,sideDiagonals)\n",
    "end"
   ]
  },
  {
   "cell_type": "code",
   "execution_count": 3,
   "metadata": {},
   "outputs": [
    {
     "data": {
      "text/plain": [
       "100×100 SymTridiagonal{Int64,Array{Int64,1}}:\n",
       "  2  -1   ⋅   ⋅   ⋅   ⋅   ⋅   ⋅   ⋅  …   ⋅   ⋅   ⋅   ⋅   ⋅   ⋅   ⋅   ⋅   ⋅\n",
       " -1   2  -1   ⋅   ⋅   ⋅   ⋅   ⋅   ⋅      ⋅   ⋅   ⋅   ⋅   ⋅   ⋅   ⋅   ⋅   ⋅\n",
       "  ⋅  -1   2  -1   ⋅   ⋅   ⋅   ⋅   ⋅      ⋅   ⋅   ⋅   ⋅   ⋅   ⋅   ⋅   ⋅   ⋅\n",
       "  ⋅   ⋅  -1   2  -1   ⋅   ⋅   ⋅   ⋅      ⋅   ⋅   ⋅   ⋅   ⋅   ⋅   ⋅   ⋅   ⋅\n",
       "  ⋅   ⋅   ⋅  -1   2  -1   ⋅   ⋅   ⋅      ⋅   ⋅   ⋅   ⋅   ⋅   ⋅   ⋅   ⋅   ⋅\n",
       "  ⋅   ⋅   ⋅   ⋅  -1   2  -1   ⋅   ⋅  …   ⋅   ⋅   ⋅   ⋅   ⋅   ⋅   ⋅   ⋅   ⋅\n",
       "  ⋅   ⋅   ⋅   ⋅   ⋅  -1   2  -1   ⋅      ⋅   ⋅   ⋅   ⋅   ⋅   ⋅   ⋅   ⋅   ⋅\n",
       "  ⋅   ⋅   ⋅   ⋅   ⋅   ⋅  -1   2  -1      ⋅   ⋅   ⋅   ⋅   ⋅   ⋅   ⋅   ⋅   ⋅\n",
       "  ⋅   ⋅   ⋅   ⋅   ⋅   ⋅   ⋅  -1   2      ⋅   ⋅   ⋅   ⋅   ⋅   ⋅   ⋅   ⋅   ⋅\n",
       "  ⋅   ⋅   ⋅   ⋅   ⋅   ⋅   ⋅   ⋅  -1      ⋅   ⋅   ⋅   ⋅   ⋅   ⋅   ⋅   ⋅   ⋅\n",
       "  ⋅   ⋅   ⋅   ⋅   ⋅   ⋅   ⋅   ⋅   ⋅  …   ⋅   ⋅   ⋅   ⋅   ⋅   ⋅   ⋅   ⋅   ⋅\n",
       "  ⋅   ⋅   ⋅   ⋅   ⋅   ⋅   ⋅   ⋅   ⋅      ⋅   ⋅   ⋅   ⋅   ⋅   ⋅   ⋅   ⋅   ⋅\n",
       "  ⋅   ⋅   ⋅   ⋅   ⋅   ⋅   ⋅   ⋅   ⋅      ⋅   ⋅   ⋅   ⋅   ⋅   ⋅   ⋅   ⋅   ⋅\n",
       "  ⋮                   ⋮              ⋱                   ⋮                \n",
       "  ⋅   ⋅   ⋅   ⋅   ⋅   ⋅   ⋅   ⋅   ⋅      ⋅   ⋅   ⋅   ⋅   ⋅   ⋅   ⋅   ⋅   ⋅\n",
       "  ⋅   ⋅   ⋅   ⋅   ⋅   ⋅   ⋅   ⋅   ⋅      ⋅   ⋅   ⋅   ⋅   ⋅   ⋅   ⋅   ⋅   ⋅\n",
       "  ⋅   ⋅   ⋅   ⋅   ⋅   ⋅   ⋅   ⋅   ⋅  …  -1   ⋅   ⋅   ⋅   ⋅   ⋅   ⋅   ⋅   ⋅\n",
       "  ⋅   ⋅   ⋅   ⋅   ⋅   ⋅   ⋅   ⋅   ⋅      2  -1   ⋅   ⋅   ⋅   ⋅   ⋅   ⋅   ⋅\n",
       "  ⋅   ⋅   ⋅   ⋅   ⋅   ⋅   ⋅   ⋅   ⋅     -1   2  -1   ⋅   ⋅   ⋅   ⋅   ⋅   ⋅\n",
       "  ⋅   ⋅   ⋅   ⋅   ⋅   ⋅   ⋅   ⋅   ⋅      ⋅  -1   2  -1   ⋅   ⋅   ⋅   ⋅   ⋅\n",
       "  ⋅   ⋅   ⋅   ⋅   ⋅   ⋅   ⋅   ⋅   ⋅      ⋅   ⋅  -1   2  -1   ⋅   ⋅   ⋅   ⋅\n",
       "  ⋅   ⋅   ⋅   ⋅   ⋅   ⋅   ⋅   ⋅   ⋅  …   ⋅   ⋅   ⋅  -1   2  -1   ⋅   ⋅   ⋅\n",
       "  ⋅   ⋅   ⋅   ⋅   ⋅   ⋅   ⋅   ⋅   ⋅      ⋅   ⋅   ⋅   ⋅  -1   2  -1   ⋅   ⋅\n",
       "  ⋅   ⋅   ⋅   ⋅   ⋅   ⋅   ⋅   ⋅   ⋅      ⋅   ⋅   ⋅   ⋅   ⋅  -1   2  -1   ⋅\n",
       "  ⋅   ⋅   ⋅   ⋅   ⋅   ⋅   ⋅   ⋅   ⋅      ⋅   ⋅   ⋅   ⋅   ⋅   ⋅  -1   2  -1\n",
       "  ⋅   ⋅   ⋅   ⋅   ⋅   ⋅   ⋅   ⋅   ⋅      ⋅   ⋅   ⋅   ⋅   ⋅   ⋅   ⋅  -1   2"
      ]
     },
     "execution_count": 3,
     "metadata": {},
     "output_type": "execute_result"
    }
   ],
   "source": [
    "A = generate1DLaplaceCFD(100)"
   ]
  },
  {
   "cell_type": "markdown",
   "metadata": {},
   "source": [
    "Now we generate the source vector $\\vec{B}$\n",
    "\n",
    "The first entry is the lower bound, 0V and the upper bound is 1V"
   ]
  },
  {
   "cell_type": "code",
   "execution_count": 4,
   "metadata": {},
   "outputs": [
    {
     "data": {
      "text/plain": [
       "100-element Array{Int64,1}:\n",
       " 0\n",
       " 0\n",
       " 0\n",
       " 0\n",
       " 0\n",
       " 0\n",
       " 0\n",
       " 0\n",
       " 0\n",
       " 0\n",
       " 0\n",
       " 0\n",
       " 0\n",
       " ⋮\n",
       " 0\n",
       " 0\n",
       " 0\n",
       " 0\n",
       " 0\n",
       " 0\n",
       " 0\n",
       " 0\n",
       " 0\n",
       " 0\n",
       " 0\n",
       " 1"
      ]
     },
     "execution_count": 4,
     "metadata": {},
     "output_type": "execute_result"
    }
   ],
   "source": [
    "b = [0;fill(0,98);1]"
   ]
  },
  {
   "cell_type": "markdown",
   "metadata": {},
   "source": [
    "And solve - I'm using LAPACK's solver, thats why the type of A is SymTridiagonal, there are special solvers for it."
   ]
  },
  {
   "cell_type": "code",
   "execution_count": 5,
   "metadata": {},
   "outputs": [
    {
     "data": {
      "text/plain": [
       "100-element Array{Float64,1}:\n",
       " 0.009900990099009774\n",
       " 0.01980198019801955 \n",
       " 0.029702970297029323\n",
       " 0.039603960396039105\n",
       " 0.049504950495048876\n",
       " 0.05940594059405864 \n",
       " 0.06930693069306841 \n",
       " 0.07920792079207818 \n",
       " 0.08910891089108795 \n",
       " 0.09900990099009774 \n",
       " 0.10891089108910751 \n",
       " 0.11881188118811728 \n",
       " 0.12871287128712705 \n",
       " ⋮                   \n",
       " 0.8811881188118825  \n",
       " 0.891089108910893   \n",
       " 0.9009900990099032  \n",
       " 0.9108910891089135  \n",
       " 0.9207920792079236  \n",
       " 0.9306930693069335  \n",
       " 0.9405940594059433  \n",
       " 0.9504950495049529  \n",
       " 0.9603960396039625  \n",
       " 0.9702970297029719  \n",
       " 0.9801980198019814  \n",
       " 0.9900990099009908  "
      ]
     },
     "execution_count": 5,
     "metadata": {},
     "output_type": "execute_result"
    }
   ],
   "source": [
    "x = A\\b"
   ]
  },
  {
   "cell_type": "code",
   "execution_count": 6,
   "metadata": {},
   "outputs": [
    {
     "data": {
      "image/svg+xml": [
       "<?xml version=\"1.0\" encoding=\"utf-8\"?>\n",
       "<svg xmlns=\"http://www.w3.org/2000/svg\" xmlns:xlink=\"http://www.w3.org/1999/xlink\" width=\"600\" height=\"400\" viewBox=\"0 0 2400 1600\">\n",
       "<defs>\n",
       "  <clipPath id=\"clip2100\">\n",
       "    <rect x=\"0\" y=\"0\" width=\"2000\" height=\"2000\"/>\n",
       "  </clipPath>\n",
       "</defs>\n",
       "<defs>\n",
       "  <clipPath id=\"clip2101\">\n",
       "    <rect x=\"0\" y=\"0\" width=\"2400\" height=\"1600\"/>\n",
       "  </clipPath>\n",
       "</defs>\n",
       "<polygon clip-path=\"url(#clip2101)\" points=\"\n",
       "0,1600 2400,1600 2400,0 0,0 \n",
       "  \" fill=\"#ffffff\" fill-rule=\"evenodd\" fill-opacity=\"1\"/>\n",
       "<defs>\n",
       "  <clipPath id=\"clip2102\">\n",
       "    <rect x=\"480\" y=\"0\" width=\"1681\" height=\"1600\"/>\n",
       "  </clipPath>\n",
       "</defs>\n",
       "<polygon clip-path=\"url(#clip2101)\" points=\"\n",
       "251.149,1440.48 2321.26,1440.48 2321.26,47.2441 251.149,47.2441 \n",
       "  \" fill=\"#ffffff\" fill-rule=\"evenodd\" fill-opacity=\"1\"/>\n",
       "<defs>\n",
       "  <clipPath id=\"clip2103\">\n",
       "    <rect x=\"251\" y=\"47\" width=\"2071\" height=\"1394\"/>\n",
       "  </clipPath>\n",
       "</defs>\n",
       "<polyline clip-path=\"url(#clip2103)\" style=\"stroke:#000000; stroke-width:2; stroke-opacity:0.1; fill:none\" points=\"\n",
       "  290.01,1440.48 290.01,47.2441 \n",
       "  \"/>\n",
       "<polyline clip-path=\"url(#clip2103)\" style=\"stroke:#000000; stroke-width:2; stroke-opacity:0.1; fill:none\" points=\"\n",
       "  783.175,1440.48 783.175,47.2441 \n",
       "  \"/>\n",
       "<polyline clip-path=\"url(#clip2103)\" style=\"stroke:#000000; stroke-width:2; stroke-opacity:0.1; fill:none\" points=\"\n",
       "  1276.34,1440.48 1276.34,47.2441 \n",
       "  \"/>\n",
       "<polyline clip-path=\"url(#clip2103)\" style=\"stroke:#000000; stroke-width:2; stroke-opacity:0.1; fill:none\" points=\"\n",
       "  1769.51,1440.48 1769.51,47.2441 \n",
       "  \"/>\n",
       "<polyline clip-path=\"url(#clip2103)\" style=\"stroke:#000000; stroke-width:2; stroke-opacity:0.1; fill:none\" points=\"\n",
       "  2262.67,1440.48 2262.67,47.2441 \n",
       "  \"/>\n",
       "<polyline clip-path=\"url(#clip2103)\" style=\"stroke:#000000; stroke-width:2; stroke-opacity:0.1; fill:none\" points=\"\n",
       "  251.149,1414.33 2321.26,1414.33 \n",
       "  \"/>\n",
       "<polyline clip-path=\"url(#clip2103)\" style=\"stroke:#000000; stroke-width:2; stroke-opacity:0.1; fill:none\" points=\"\n",
       "  251.149,1079.1 2321.26,1079.1 \n",
       "  \"/>\n",
       "<polyline clip-path=\"url(#clip2103)\" style=\"stroke:#000000; stroke-width:2; stroke-opacity:0.1; fill:none\" points=\"\n",
       "  251.149,743.863 2321.26,743.863 \n",
       "  \"/>\n",
       "<polyline clip-path=\"url(#clip2103)\" style=\"stroke:#000000; stroke-width:2; stroke-opacity:0.1; fill:none\" points=\"\n",
       "  251.149,408.631 2321.26,408.631 \n",
       "  \"/>\n",
       "<polyline clip-path=\"url(#clip2103)\" style=\"stroke:#000000; stroke-width:2; stroke-opacity:0.1; fill:none\" points=\"\n",
       "  251.149,73.3988 2321.26,73.3988 \n",
       "  \"/>\n",
       "<polyline clip-path=\"url(#clip2101)\" style=\"stroke:#000000; stroke-width:4; stroke-opacity:1; fill:none\" points=\"\n",
       "  251.149,1440.48 2321.26,1440.48 \n",
       "  \"/>\n",
       "<polyline clip-path=\"url(#clip2101)\" style=\"stroke:#000000; stroke-width:4; stroke-opacity:1; fill:none\" points=\"\n",
       "  251.149,1440.48 251.149,47.2441 \n",
       "  \"/>\n",
       "<polyline clip-path=\"url(#clip2101)\" style=\"stroke:#000000; stroke-width:4; stroke-opacity:1; fill:none\" points=\"\n",
       "  290.01,1440.48 290.01,1419.58 \n",
       "  \"/>\n",
       "<polyline clip-path=\"url(#clip2101)\" style=\"stroke:#000000; stroke-width:4; stroke-opacity:1; fill:none\" points=\"\n",
       "  783.175,1440.48 783.175,1419.58 \n",
       "  \"/>\n",
       "<polyline clip-path=\"url(#clip2101)\" style=\"stroke:#000000; stroke-width:4; stroke-opacity:1; fill:none\" points=\"\n",
       "  1276.34,1440.48 1276.34,1419.58 \n",
       "  \"/>\n",
       "<polyline clip-path=\"url(#clip2101)\" style=\"stroke:#000000; stroke-width:4; stroke-opacity:1; fill:none\" points=\"\n",
       "  1769.51,1440.48 1769.51,1419.58 \n",
       "  \"/>\n",
       "<polyline clip-path=\"url(#clip2101)\" style=\"stroke:#000000; stroke-width:4; stroke-opacity:1; fill:none\" points=\"\n",
       "  2262.67,1440.48 2262.67,1419.58 \n",
       "  \"/>\n",
       "<polyline clip-path=\"url(#clip2101)\" style=\"stroke:#000000; stroke-width:4; stroke-opacity:1; fill:none\" points=\"\n",
       "  251.149,1414.33 282.2,1414.33 \n",
       "  \"/>\n",
       "<polyline clip-path=\"url(#clip2101)\" style=\"stroke:#000000; stroke-width:4; stroke-opacity:1; fill:none\" points=\"\n",
       "  251.149,1079.1 282.2,1079.1 \n",
       "  \"/>\n",
       "<polyline clip-path=\"url(#clip2101)\" style=\"stroke:#000000; stroke-width:4; stroke-opacity:1; fill:none\" points=\"\n",
       "  251.149,743.863 282.2,743.863 \n",
       "  \"/>\n",
       "<polyline clip-path=\"url(#clip2101)\" style=\"stroke:#000000; stroke-width:4; stroke-opacity:1; fill:none\" points=\"\n",
       "  251.149,408.631 282.2,408.631 \n",
       "  \"/>\n",
       "<polyline clip-path=\"url(#clip2101)\" style=\"stroke:#000000; stroke-width:4; stroke-opacity:1; fill:none\" points=\"\n",
       "  251.149,73.3988 282.2,73.3988 \n",
       "  \"/>\n",
       "<g clip-path=\"url(#clip2101)\">\n",
       "<text style=\"fill:#000000; fill-opacity:1; font-family:Arial,Helvetica Neue,Helvetica,sans-serif; font-size:48px; text-anchor:middle;\" transform=\"rotate(0, 290.01, 1494.48)\" x=\"290.01\" y=\"1494.48\">0</text>\n",
       "</g>\n",
       "<g clip-path=\"url(#clip2101)\">\n",
       "<text style=\"fill:#000000; fill-opacity:1; font-family:Arial,Helvetica Neue,Helvetica,sans-serif; font-size:48px; text-anchor:middle;\" transform=\"rotate(0, 783.175, 1494.48)\" x=\"783.175\" y=\"1494.48\">25</text>\n",
       "</g>\n",
       "<g clip-path=\"url(#clip2101)\">\n",
       "<text style=\"fill:#000000; fill-opacity:1; font-family:Arial,Helvetica Neue,Helvetica,sans-serif; font-size:48px; text-anchor:middle;\" transform=\"rotate(0, 1276.34, 1494.48)\" x=\"1276.34\" y=\"1494.48\">50</text>\n",
       "</g>\n",
       "<g clip-path=\"url(#clip2101)\">\n",
       "<text style=\"fill:#000000; fill-opacity:1; font-family:Arial,Helvetica Neue,Helvetica,sans-serif; font-size:48px; text-anchor:middle;\" transform=\"rotate(0, 1769.51, 1494.48)\" x=\"1769.51\" y=\"1494.48\">75</text>\n",
       "</g>\n",
       "<g clip-path=\"url(#clip2101)\">\n",
       "<text style=\"fill:#000000; fill-opacity:1; font-family:Arial,Helvetica Neue,Helvetica,sans-serif; font-size:48px; text-anchor:middle;\" transform=\"rotate(0, 2262.67, 1494.48)\" x=\"2262.67\" y=\"1494.48\">100</text>\n",
       "</g>\n",
       "<g clip-path=\"url(#clip2101)\">\n",
       "<text style=\"fill:#000000; fill-opacity:1; font-family:Arial,Helvetica Neue,Helvetica,sans-serif; font-size:48px; text-anchor:end;\" transform=\"rotate(0, 227.149, 1431.83)\" x=\"227.149\" y=\"1431.83\">0.00</text>\n",
       "</g>\n",
       "<g clip-path=\"url(#clip2101)\">\n",
       "<text style=\"fill:#000000; fill-opacity:1; font-family:Arial,Helvetica Neue,Helvetica,sans-serif; font-size:48px; text-anchor:end;\" transform=\"rotate(0, 227.149, 1096.6)\" x=\"227.149\" y=\"1096.6\">0.25</text>\n",
       "</g>\n",
       "<g clip-path=\"url(#clip2101)\">\n",
       "<text style=\"fill:#000000; fill-opacity:1; font-family:Arial,Helvetica Neue,Helvetica,sans-serif; font-size:48px; text-anchor:end;\" transform=\"rotate(0, 227.149, 761.363)\" x=\"227.149\" y=\"761.363\">0.50</text>\n",
       "</g>\n",
       "<g clip-path=\"url(#clip2101)\">\n",
       "<text style=\"fill:#000000; fill-opacity:1; font-family:Arial,Helvetica Neue,Helvetica,sans-serif; font-size:48px; text-anchor:end;\" transform=\"rotate(0, 227.149, 426.131)\" x=\"227.149\" y=\"426.131\">0.75</text>\n",
       "</g>\n",
       "<g clip-path=\"url(#clip2101)\">\n",
       "<text style=\"fill:#000000; fill-opacity:1; font-family:Arial,Helvetica Neue,Helvetica,sans-serif; font-size:48px; text-anchor:end;\" transform=\"rotate(0, 227.149, 90.8988)\" x=\"227.149\" y=\"90.8988\">1.00</text>\n",
       "</g>\n",
       "<g clip-path=\"url(#clip2101)\">\n",
       "<text style=\"fill:#000000; fill-opacity:1; font-family:Arial,Helvetica Neue,Helvetica,sans-serif; font-size:66px; text-anchor:middle;\" transform=\"rotate(0, 1286.2, 1590.4)\" x=\"1286.2\" y=\"1590.4\">Position</text>\n",
       "</g>\n",
       "<g clip-path=\"url(#clip2101)\">\n",
       "<text style=\"fill:#000000; fill-opacity:1; font-family:Arial,Helvetica Neue,Helvetica,sans-serif; font-size:66px; text-anchor:middle;\" transform=\"rotate(-90, 57.6, 743.863)\" x=\"57.6\" y=\"743.863\">Voltage (V)</text>\n",
       "</g>\n",
       "<polyline clip-path=\"url(#clip2103)\" style=\"stroke:#009af9; stroke-width:4; stroke-opacity:1; fill:none\" points=\"\n",
       "  309.737,1401.05 329.463,1387.77 349.19,1374.5 368.916,1361.22 388.643,1347.95 408.37,1334.67 428.096,1321.39 447.823,1308.12 467.55,1294.84 487.276,1281.56 \n",
       "  507.003,1268.29 526.729,1255.01 546.456,1241.73 566.183,1228.46 585.909,1215.18 605.636,1201.9 625.362,1188.63 645.089,1175.35 664.816,1162.07 684.542,1148.8 \n",
       "  704.269,1135.52 723.996,1122.24 743.722,1108.97 763.449,1095.69 783.175,1082.41 802.902,1069.14 822.629,1055.86 842.355,1042.59 862.082,1029.31 881.808,1016.03 \n",
       "  901.535,1002.76 921.262,989.479 940.988,976.203 960.715,962.926 980.442,949.649 1000.17,936.373 1019.89,923.096 1039.62,909.82 1059.35,896.543 1079.07,883.267 \n",
       "  1098.8,869.99 1118.53,856.714 1138.25,843.437 1157.98,830.161 1177.71,816.884 1197.43,803.608 1217.16,790.331 1236.89,777.055 1256.61,763.778 1276.34,750.502 \n",
       "  1296.07,737.225 1315.79,723.949 1335.52,710.672 1355.25,697.396 1374.97,684.119 1394.7,670.842 1414.43,657.566 1434.15,644.289 1453.88,631.013 1473.61,617.736 \n",
       "  1493.33,604.46 1513.06,591.183 1532.79,577.907 1552.51,564.63 1572.24,551.354 1591.97,538.077 1611.69,524.801 1631.42,511.524 1651.15,498.248 1670.87,484.971 \n",
       "  1690.6,471.695 1710.33,458.418 1730.05,445.142 1749.78,431.865 1769.51,418.588 1789.23,405.312 1808.96,392.035 1828.69,378.759 1848.41,365.482 1868.14,352.206 \n",
       "  1887.87,338.929 1907.59,325.653 1927.32,312.376 1947.05,299.1 1966.77,285.823 1986.5,272.547 2006.23,259.27 2025.95,245.994 2045.68,232.717 2065.41,219.441 \n",
       "  2085.13,206.164 2104.86,192.888 2124.59,179.611 2144.31,166.335 2164.04,153.058 2183.77,139.781 2203.49,126.505 2223.22,113.228 2242.95,99.9519 2262.67,86.6754 \n",
       "  \n",
       "  \"/>\n",
       "</svg>\n"
      ]
     },
     "execution_count": 6,
     "metadata": {},
     "output_type": "execute_result"
    }
   ],
   "source": [
    "plot(x,legend=false,xlabel=\"Position\",ylabel=\"Voltage (V)\")"
   ]
  },
  {
   "cell_type": "markdown",
   "metadata": {},
   "source": [
    "Hey look, it's linear - as it should be.\n",
    "\n",
    "Lets compare the speed when we ramp up the number of points for the different implementations.\n",
    "\n",
    "First as the built-in tridiagonal type"
   ]
  },
  {
   "cell_type": "code",
   "execution_count": 17,
   "metadata": {
    "scrolled": true
   },
   "outputs": [
    {
     "data": {
      "text/plain": [
       "BenchmarkTools.Trial: \n",
       "  memory estimate:  2.67 KiB\n",
       "  allocs estimate:  5\n",
       "  --------------\n",
       "  minimum time:     1.726 μs (0.00% GC)\n",
       "  median time:      2.335 μs (0.00% GC)\n",
       "  mean time:        4.065 μs (34.45% GC)\n",
       "  maximum time:     9.390 ms (99.95% GC)\n",
       "  --------------\n",
       "  samples:          10000\n",
       "  evals/sample:     10"
      ]
     },
     "execution_count": 17,
     "metadata": {},
     "output_type": "execute_result"
    }
   ],
   "source": [
    "numPoints = 100\n",
    "A = generate1DLaplaceCFD(numPoints)\n",
    "b = [0;fill(0,numPoints-2);1]\n",
    "@benchmark x = A\\b"
   ]
  },
  {
   "cell_type": "markdown",
   "metadata": {},
   "source": [
    "Now as the generic \"sparse\" matrix"
   ]
  },
  {
   "cell_type": "code",
   "execution_count": 18,
   "metadata": {
    "scrolled": true
   },
   "outputs": [
    {
     "data": {
      "text/plain": [
       "BenchmarkTools.Trial: \n",
       "  memory estimate:  42.36 KiB\n",
       "  allocs estimate:  47\n",
       "  --------------\n",
       "  minimum time:     33.552 μs (0.00% GC)\n",
       "  median time:      38.082 μs (0.00% GC)\n",
       "  mean time:        64.203 μs (25.05% GC)\n",
       "  maximum time:     100.881 ms (98.31% GC)\n",
       "  --------------\n",
       "  samples:          10000\n",
       "  evals/sample:     1"
      ]
     },
     "execution_count": 18,
     "metadata": {},
     "output_type": "execute_result"
    }
   ],
   "source": [
    "numPoints = 100\n",
    "A = sparse(float(generate1DLaplaceCFD(numPoints))) # We need to cast to float as the sparse solver doesn't work for ints\n",
    "b = [0;fill(0,numPoints-2);1]\n",
    "@benchmark x = A\\b"
   ]
  },
  {
   "cell_type": "markdown",
   "metadata": {},
   "source": [
    "And finally as a dense matrix"
   ]
  },
  {
   "cell_type": "code",
   "execution_count": 19,
   "metadata": {},
   "outputs": [
    {
     "data": {
      "text/plain": [
       "BenchmarkTools.Trial: \n",
       "  memory estimate:  79.98 KiB\n",
       "  allocs estimate:  5\n",
       "  --------------\n",
       "  minimum time:     381.382 μs (0.00% GC)\n",
       "  median time:      403.070 μs (0.00% GC)\n",
       "  mean time:        449.684 μs (4.13% GC)\n",
       "  maximum time:     100.508 ms (99.58% GC)\n",
       "  --------------\n",
       "  samples:          10000\n",
       "  evals/sample:     1"
      ]
     },
     "execution_count": 19,
     "metadata": {},
     "output_type": "execute_result"
    }
   ],
   "source": [
    "numPoints = Int64(100)\n",
    "A = Array(generate1DLaplaceCFD(numPoints))\n",
    "b = [0;fill(0,numPoints-2);1]\n",
    "@benchmark x = A\\b"
   ]
  },
  {
   "cell_type": "markdown",
   "metadata": {},
   "source": [
    "So to compare the three\n",
    "\n",
    "<center>\n",
    "\n",
    "|   $\\space$             | SymTridiagonal | SparseCSC |   Dense | \n",
    "|------------------------|:----------------:|:-----------:|:---------:|\n",
    "| RAM Utilization (KiB)  |   2.67         |42.36      |79.98    |\n",
    "| Mean Solving Time (μs) |  4.065         | 64.203    |449.684  |\n",
    "    \n",
    "</center>"
   ]
  },
  {
   "cell_type": "markdown",
   "metadata": {},
   "source": [
    "Now for $10^6$ points"
   ]
  },
  {
   "cell_type": "code",
   "execution_count": 8,
   "metadata": {},
   "outputs": [
    {
     "data": {
      "text/plain": [
       "BenchmarkTools.Trial: \n",
       "  memory estimate:  22.89 MiB\n",
       "  allocs estimate:  8\n",
       "  --------------\n",
       "  minimum time:     22.055 ms (8.82% GC)\n",
       "  median time:      25.310 ms (6.34% GC)\n",
       "  mean time:        27.001 ms (8.91% GC)\n",
       "  maximum time:     118.953 ms (77.13% GC)\n",
       "  --------------\n",
       "  samples:          186\n",
       "  evals/sample:     1"
      ]
     },
     "execution_count": 8,
     "metadata": {},
     "output_type": "execute_result"
    }
   ],
   "source": [
    "numPoints = Int64(1e6)\n",
    "A = generate1DLaplaceCFD(numPoints)\n",
    "b = [0;fill(0,numPoints-2);1]\n",
    "@benchmark x = A\\b"
   ]
  },
  {
   "cell_type": "markdown",
   "metadata": {},
   "source": [
    "I'm not going to compare to the non-sparse version - it's going to crash my server"
   ]
  },
  {
   "cell_type": "markdown",
   "metadata": {},
   "source": [
    "### Question 1 - Why wasn't conductivity part of the equation"
   ]
  },
  {
   "cell_type": "markdown",
   "metadata": {},
   "source": [
    "Conductivitiy is linear and not dependent on voltage. Between two points of a given voltage, the voltage gradiant MUST be linear because conductivity is linear. Therefore, solving for the \"diffusion\" of voltage won't be dependent on the conductivity\n",
    "\n",
    "FIXME"
   ]
  },
  {
   "cell_type": "markdown",
   "metadata": {},
   "source": [
    "### Part 2 - Finite Difference Poisson Equation\n",
    "\n",
    "A is the same here, except we modify our source vector $\\vec{B}$"
   ]
  },
  {
   "cell_type": "code",
   "execution_count": 26,
   "metadata": {},
   "outputs": [
    {
     "data": {
      "text/plain": [
       "BenchmarkTools.Trial: \n",
       "  memory estimate:  3.55 KiB\n",
       "  allocs estimate:  6\n",
       "  --------------\n",
       "  minimum time:     2.771 μs (0.00% GC)\n",
       "  median time:      3.145 μs (0.00% GC)\n",
       "  mean time:        5.277 μs (31.20% GC)\n",
       "  maximum time:     10.414 ms (99.94% GC)\n",
       "  --------------\n",
       "  samples:          10000\n",
       "  evals/sample:     9"
      ]
     },
     "execution_count": 26,
     "metadata": {},
     "output_type": "execute_result"
    }
   ],
   "source": [
    "numPoints = 102\n",
    "A = generate1DLaplaceCFD(numPoints)\n",
    "# The domain is 1cm long\n",
    "# The middle 0.1cm has a 1 A/m^2 excitation\n",
    "b = zeros(Float64,numPoints)\n",
    "# Each tick is 1cm/numPoints-2 cm\n",
    "Δx = 1e-3/(numPoints-2)\n",
    "center = (numPoints)/2\n",
    "# Lower bounds is 0.05cm beneath the center index\n",
    "lowerBound = floor(Int64,center - 0.05e-3/Δx)\n",
    "upperBound = floor(Int64,center + 0.05e-3/Δx)\n",
    "@benchmark x = A\\Vector(b)"
   ]
  },
  {
   "cell_type": "code",
   "execution_count": 27,
   "metadata": {},
   "outputs": [
    {
     "data": {
      "image/svg+xml": [
       "<?xml version=\"1.0\" encoding=\"utf-8\"?>\n",
       "<svg xmlns=\"http://www.w3.org/2000/svg\" xmlns:xlink=\"http://www.w3.org/1999/xlink\" width=\"600\" height=\"400\" viewBox=\"0 0 2400 1600\">\n",
       "<defs>\n",
       "  <clipPath id=\"clip2700\">\n",
       "    <rect x=\"0\" y=\"0\" width=\"2000\" height=\"2000\"/>\n",
       "  </clipPath>\n",
       "</defs>\n",
       "<defs>\n",
       "  <clipPath id=\"clip2701\">\n",
       "    <rect x=\"0\" y=\"0\" width=\"2400\" height=\"1600\"/>\n",
       "  </clipPath>\n",
       "</defs>\n",
       "<polygon clip-path=\"url(#clip2701)\" points=\"\n",
       "0,1600 2400,1600 2400,0 0,0 \n",
       "  \" fill=\"#ffffff\" fill-rule=\"evenodd\" fill-opacity=\"1\"/>\n",
       "<defs>\n",
       "  <clipPath id=\"clip2702\">\n",
       "    <rect x=\"480\" y=\"0\" width=\"1681\" height=\"1600\"/>\n",
       "  </clipPath>\n",
       "</defs>\n",
       "<polygon clip-path=\"url(#clip2701)\" points=\"\n",
       "251.149,1440.48 2321.26,1440.48 2321.26,47.2441 251.149,47.2441 \n",
       "  \" fill=\"#ffffff\" fill-rule=\"evenodd\" fill-opacity=\"1\"/>\n",
       "<defs>\n",
       "  <clipPath id=\"clip2703\">\n",
       "    <rect x=\"251\" y=\"47\" width=\"2071\" height=\"1394\"/>\n",
       "  </clipPath>\n",
       "</defs>\n",
       "<polyline clip-path=\"url(#clip2703)\" style=\"stroke:#000000; stroke-width:2; stroke-opacity:0.1; fill:none\" points=\"\n",
       "  290.01,1440.48 290.01,47.2441 \n",
       "  \"/>\n",
       "<polyline clip-path=\"url(#clip2703)\" style=\"stroke:#000000; stroke-width:2; stroke-opacity:0.1; fill:none\" points=\"\n",
       "  783.175,1440.48 783.175,47.2441 \n",
       "  \"/>\n",
       "<polyline clip-path=\"url(#clip2703)\" style=\"stroke:#000000; stroke-width:2; stroke-opacity:0.1; fill:none\" points=\"\n",
       "  1276.34,1440.48 1276.34,47.2441 \n",
       "  \"/>\n",
       "<polyline clip-path=\"url(#clip2703)\" style=\"stroke:#000000; stroke-width:2; stroke-opacity:0.1; fill:none\" points=\"\n",
       "  1769.51,1440.48 1769.51,47.2441 \n",
       "  \"/>\n",
       "<polyline clip-path=\"url(#clip2703)\" style=\"stroke:#000000; stroke-width:2; stroke-opacity:0.1; fill:none\" points=\"\n",
       "  2262.67,1440.48 2262.67,47.2441 \n",
       "  \"/>\n",
       "<polyline clip-path=\"url(#clip2703)\" style=\"stroke:#000000; stroke-width:2; stroke-opacity:0.1; fill:none\" points=\"\n",
       "  251.149,1414.33 2321.26,1414.33 \n",
       "  \"/>\n",
       "<polyline clip-path=\"url(#clip2703)\" style=\"stroke:#000000; stroke-width:2; stroke-opacity:0.1; fill:none\" points=\"\n",
       "  251.149,1079.1 2321.26,1079.1 \n",
       "  \"/>\n",
       "<polyline clip-path=\"url(#clip2703)\" style=\"stroke:#000000; stroke-width:2; stroke-opacity:0.1; fill:none\" points=\"\n",
       "  251.149,743.863 2321.26,743.863 \n",
       "  \"/>\n",
       "<polyline clip-path=\"url(#clip2703)\" style=\"stroke:#000000; stroke-width:2; stroke-opacity:0.1; fill:none\" points=\"\n",
       "  251.149,408.631 2321.26,408.631 \n",
       "  \"/>\n",
       "<polyline clip-path=\"url(#clip2703)\" style=\"stroke:#000000; stroke-width:2; stroke-opacity:0.1; fill:none\" points=\"\n",
       "  251.149,73.3988 2321.26,73.3988 \n",
       "  \"/>\n",
       "<polyline clip-path=\"url(#clip2701)\" style=\"stroke:#000000; stroke-width:4; stroke-opacity:1; fill:none\" points=\"\n",
       "  251.149,1440.48 2321.26,1440.48 \n",
       "  \"/>\n",
       "<polyline clip-path=\"url(#clip2701)\" style=\"stroke:#000000; stroke-width:4; stroke-opacity:1; fill:none\" points=\"\n",
       "  251.149,1440.48 251.149,47.2441 \n",
       "  \"/>\n",
       "<polyline clip-path=\"url(#clip2701)\" style=\"stroke:#000000; stroke-width:4; stroke-opacity:1; fill:none\" points=\"\n",
       "  290.01,1440.48 290.01,1419.58 \n",
       "  \"/>\n",
       "<polyline clip-path=\"url(#clip2701)\" style=\"stroke:#000000; stroke-width:4; stroke-opacity:1; fill:none\" points=\"\n",
       "  783.175,1440.48 783.175,1419.58 \n",
       "  \"/>\n",
       "<polyline clip-path=\"url(#clip2701)\" style=\"stroke:#000000; stroke-width:4; stroke-opacity:1; fill:none\" points=\"\n",
       "  1276.34,1440.48 1276.34,1419.58 \n",
       "  \"/>\n",
       "<polyline clip-path=\"url(#clip2701)\" style=\"stroke:#000000; stroke-width:4; stroke-opacity:1; fill:none\" points=\"\n",
       "  1769.51,1440.48 1769.51,1419.58 \n",
       "  \"/>\n",
       "<polyline clip-path=\"url(#clip2701)\" style=\"stroke:#000000; stroke-width:4; stroke-opacity:1; fill:none\" points=\"\n",
       "  2262.67,1440.48 2262.67,1419.58 \n",
       "  \"/>\n",
       "<polyline clip-path=\"url(#clip2701)\" style=\"stroke:#000000; stroke-width:4; stroke-opacity:1; fill:none\" points=\"\n",
       "  251.149,1414.33 282.2,1414.33 \n",
       "  \"/>\n",
       "<polyline clip-path=\"url(#clip2701)\" style=\"stroke:#000000; stroke-width:4; stroke-opacity:1; fill:none\" points=\"\n",
       "  251.149,1079.1 282.2,1079.1 \n",
       "  \"/>\n",
       "<polyline clip-path=\"url(#clip2701)\" style=\"stroke:#000000; stroke-width:4; stroke-opacity:1; fill:none\" points=\"\n",
       "  251.149,743.863 282.2,743.863 \n",
       "  \"/>\n",
       "<polyline clip-path=\"url(#clip2701)\" style=\"stroke:#000000; stroke-width:4; stroke-opacity:1; fill:none\" points=\"\n",
       "  251.149,408.631 282.2,408.631 \n",
       "  \"/>\n",
       "<polyline clip-path=\"url(#clip2701)\" style=\"stroke:#000000; stroke-width:4; stroke-opacity:1; fill:none\" points=\"\n",
       "  251.149,73.3988 282.2,73.3988 \n",
       "  \"/>\n",
       "<g clip-path=\"url(#clip2701)\">\n",
       "<text style=\"fill:#000000; fill-opacity:1; font-family:Arial,Helvetica Neue,Helvetica,sans-serif; font-size:48px; text-anchor:middle;\" transform=\"rotate(0, 290.01, 1494.48)\" x=\"290.01\" y=\"1494.48\">0</text>\n",
       "</g>\n",
       "<g clip-path=\"url(#clip2701)\">\n",
       "<text style=\"fill:#000000; fill-opacity:1; font-family:Arial,Helvetica Neue,Helvetica,sans-serif; font-size:48px; text-anchor:middle;\" transform=\"rotate(0, 783.175, 1494.48)\" x=\"783.175\" y=\"1494.48\">25</text>\n",
       "</g>\n",
       "<g clip-path=\"url(#clip2701)\">\n",
       "<text style=\"fill:#000000; fill-opacity:1; font-family:Arial,Helvetica Neue,Helvetica,sans-serif; font-size:48px; text-anchor:middle;\" transform=\"rotate(0, 1276.34, 1494.48)\" x=\"1276.34\" y=\"1494.48\">50</text>\n",
       "</g>\n",
       "<g clip-path=\"url(#clip2701)\">\n",
       "<text style=\"fill:#000000; fill-opacity:1; font-family:Arial,Helvetica Neue,Helvetica,sans-serif; font-size:48px; text-anchor:middle;\" transform=\"rotate(0, 1769.51, 1494.48)\" x=\"1769.51\" y=\"1494.48\">75</text>\n",
       "</g>\n",
       "<g clip-path=\"url(#clip2701)\">\n",
       "<text style=\"fill:#000000; fill-opacity:1; font-family:Arial,Helvetica Neue,Helvetica,sans-serif; font-size:48px; text-anchor:middle;\" transform=\"rotate(0, 2262.67, 1494.48)\" x=\"2262.67\" y=\"1494.48\">100</text>\n",
       "</g>\n",
       "<g clip-path=\"url(#clip2701)\">\n",
       "<text style=\"fill:#000000; fill-opacity:1; font-family:Arial,Helvetica Neue,Helvetica,sans-serif; font-size:48px; text-anchor:end;\" transform=\"rotate(0, 227.149, 1431.83)\" x=\"227.149\" y=\"1431.83\">0.00</text>\n",
       "</g>\n",
       "<g clip-path=\"url(#clip2701)\">\n",
       "<text style=\"fill:#000000; fill-opacity:1; font-family:Arial,Helvetica Neue,Helvetica,sans-serif; font-size:48px; text-anchor:end;\" transform=\"rotate(0, 227.149, 1096.6)\" x=\"227.149\" y=\"1096.6\">0.25</text>\n",
       "</g>\n",
       "<g clip-path=\"url(#clip2701)\">\n",
       "<text style=\"fill:#000000; fill-opacity:1; font-family:Arial,Helvetica Neue,Helvetica,sans-serif; font-size:48px; text-anchor:end;\" transform=\"rotate(0, 227.149, 761.363)\" x=\"227.149\" y=\"761.363\">0.50</text>\n",
       "</g>\n",
       "<g clip-path=\"url(#clip2701)\">\n",
       "<text style=\"fill:#000000; fill-opacity:1; font-family:Arial,Helvetica Neue,Helvetica,sans-serif; font-size:48px; text-anchor:end;\" transform=\"rotate(0, 227.149, 426.131)\" x=\"227.149\" y=\"426.131\">0.75</text>\n",
       "</g>\n",
       "<g clip-path=\"url(#clip2701)\">\n",
       "<text style=\"fill:#000000; fill-opacity:1; font-family:Arial,Helvetica Neue,Helvetica,sans-serif; font-size:48px; text-anchor:end;\" transform=\"rotate(0, 227.149, 90.8988)\" x=\"227.149\" y=\"90.8988\">1.00</text>\n",
       "</g>\n",
       "<g clip-path=\"url(#clip2701)\">\n",
       "<text style=\"fill:#000000; fill-opacity:1; font-family:Arial,Helvetica Neue,Helvetica,sans-serif; font-size:66px; text-anchor:middle;\" transform=\"rotate(0, 1286.2, 1590.4)\" x=\"1286.2\" y=\"1590.4\">Position</text>\n",
       "</g>\n",
       "<g clip-path=\"url(#clip2701)\">\n",
       "<text style=\"fill:#000000; fill-opacity:1; font-family:Arial,Helvetica Neue,Helvetica,sans-serif; font-size:66px; text-anchor:middle;\" transform=\"rotate(-90, 57.6, 743.863)\" x=\"57.6\" y=\"743.863\">Voltage (V)</text>\n",
       "</g>\n",
       "<polyline clip-path=\"url(#clip2703)\" style=\"stroke:#009af9; stroke-width:4; stroke-opacity:1; fill:none\" points=\"\n",
       "  309.737,1401.05 329.463,1387.77 349.19,1374.5 368.916,1361.22 388.643,1347.95 408.37,1334.67 428.096,1321.39 447.823,1308.12 467.55,1294.84 487.276,1281.56 \n",
       "  507.003,1268.29 526.729,1255.01 546.456,1241.73 566.183,1228.46 585.909,1215.18 605.636,1201.9 625.362,1188.63 645.089,1175.35 664.816,1162.07 684.542,1148.8 \n",
       "  704.269,1135.52 723.996,1122.24 743.722,1108.97 763.449,1095.69 783.175,1082.41 802.902,1069.14 822.629,1055.86 842.355,1042.59 862.082,1029.31 881.808,1016.03 \n",
       "  901.535,1002.76 921.262,989.479 940.988,976.203 960.715,962.926 980.442,949.649 1000.17,936.373 1019.89,923.096 1039.62,909.82 1059.35,896.543 1079.07,883.267 \n",
       "  1098.8,869.99 1118.53,856.714 1138.25,843.437 1157.98,830.161 1177.71,816.884 1197.43,803.608 1217.16,790.331 1236.89,777.055 1256.61,763.778 1276.34,750.502 \n",
       "  1296.07,737.225 1315.79,723.949 1335.52,710.672 1355.25,697.396 1374.97,684.119 1394.7,670.842 1414.43,657.566 1434.15,644.289 1453.88,631.013 1473.61,617.736 \n",
       "  1493.33,604.46 1513.06,591.183 1532.79,577.907 1552.51,564.63 1572.24,551.354 1591.97,538.077 1611.69,524.801 1631.42,511.524 1651.15,498.248 1670.87,484.971 \n",
       "  1690.6,471.695 1710.33,458.418 1730.05,445.142 1749.78,431.865 1769.51,418.588 1789.23,405.312 1808.96,392.035 1828.69,378.759 1848.41,365.482 1868.14,352.206 \n",
       "  1887.87,338.929 1907.59,325.653 1927.32,312.376 1947.05,299.1 1966.77,285.823 1986.5,272.547 2006.23,259.27 2025.95,245.994 2045.68,232.717 2065.41,219.441 \n",
       "  2085.13,206.164 2104.86,192.888 2124.59,179.611 2144.31,166.335 2164.04,153.058 2183.77,139.781 2203.49,126.505 2223.22,113.228 2242.95,99.9519 2262.67,86.6754 \n",
       "  \n",
       "  \"/>\n",
       "</svg>\n"
      ]
     },
     "execution_count": 27,
     "metadata": {},
     "output_type": "execute_result"
    }
   ],
   "source": [
    "plot(x,legend=false,xlabel=\"Position\",ylabel=\"Voltage (V)\")"
   ]
  },
  {
   "cell_type": "code",
   "execution_count": null,
   "metadata": {},
   "outputs": [],
   "source": []
  }
 ],
 "metadata": {
  "kernelspec": {
   "display_name": "Julia 1.1.0",
   "language": "julia",
   "name": "julia-1.1"
  },
  "language_info": {
   "file_extension": ".jl",
   "mimetype": "application/julia",
   "name": "julia",
   "version": "1.1.0"
  }
 },
 "nbformat": 4,
 "nbformat_minor": 2
}
