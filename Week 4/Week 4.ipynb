{
 "cells": [
  {
   "cell_type": "code",
   "execution_count": 78,
   "metadata": {},
   "outputs": [
    {
     "name": "stderr",
     "output_type": "stream",
     "text": [
      "WARNING: using Statistics.middle in module Main conflicts with an existing identifier.\n"
     ]
    }
   ],
   "source": [
    "using Plots\n",
    "using LinearAlgebra\n",
    "using BenchmarkTools\n",
    "using SparseArrays\n",
    "using DataFrames\n",
    "using Statistics"
   ]
  },
  {
   "cell_type": "markdown",
   "metadata": {},
   "source": [
    "# Week 4 - Boundary Value Problems and the Finite Difference Method\n",
    "## Kiran Shila - U54532811\n",
    "\n",
    "### Part 1 - Finite Difference Laplace Equation\n",
    "\n",
    "So first we are going to write the function that calculates the \"A\" Matrix that describes the operator on the source vector b\n",
    "\n",
    "For this function, I am going to allow the user to input the \"dirichlet\" conditions for the top and bottom bounds in 1D"
   ]
  },
  {
   "cell_type": "code",
   "execution_count": 2,
   "metadata": {},
   "outputs": [
    {
     "data": {
      "text/plain": [
       "generate1DLaplaceCFD"
      ]
     },
     "execution_count": 2,
     "metadata": {},
     "output_type": "execute_result"
    }
   ],
   "source": [
    "\"\"\"\n",
    "    generate1DLaplaceCFD(length,lowerBound,upperBound)\n",
    "\n",
    "    This function generates the 1D centered finite-difference to solve the laplace equation.\n",
    "\"\"\"\n",
    "function generate1DLaplaceCFD(length::Int64)\n",
    "    mainDiagonal = fill(2,length)\n",
    "    sideDiagonals = fill(-1,length-1)\n",
    "    return SymTridiagonal(mainDiagonal,sideDiagonals)\n",
    "end"
   ]
  },
  {
   "cell_type": "code",
   "execution_count": 3,
   "metadata": {},
   "outputs": [
    {
     "data": {
      "text/plain": [
       "100×100 SymTridiagonal{Int64,Array{Int64,1}}:\n",
       "  2  -1   ⋅   ⋅   ⋅   ⋅   ⋅   ⋅   ⋅  …   ⋅   ⋅   ⋅   ⋅   ⋅   ⋅   ⋅   ⋅   ⋅\n",
       " -1   2  -1   ⋅   ⋅   ⋅   ⋅   ⋅   ⋅      ⋅   ⋅   ⋅   ⋅   ⋅   ⋅   ⋅   ⋅   ⋅\n",
       "  ⋅  -1   2  -1   ⋅   ⋅   ⋅   ⋅   ⋅      ⋅   ⋅   ⋅   ⋅   ⋅   ⋅   ⋅   ⋅   ⋅\n",
       "  ⋅   ⋅  -1   2  -1   ⋅   ⋅   ⋅   ⋅      ⋅   ⋅   ⋅   ⋅   ⋅   ⋅   ⋅   ⋅   ⋅\n",
       "  ⋅   ⋅   ⋅  -1   2  -1   ⋅   ⋅   ⋅      ⋅   ⋅   ⋅   ⋅   ⋅   ⋅   ⋅   ⋅   ⋅\n",
       "  ⋅   ⋅   ⋅   ⋅  -1   2  -1   ⋅   ⋅  …   ⋅   ⋅   ⋅   ⋅   ⋅   ⋅   ⋅   ⋅   ⋅\n",
       "  ⋅   ⋅   ⋅   ⋅   ⋅  -1   2  -1   ⋅      ⋅   ⋅   ⋅   ⋅   ⋅   ⋅   ⋅   ⋅   ⋅\n",
       "  ⋅   ⋅   ⋅   ⋅   ⋅   ⋅  -1   2  -1      ⋅   ⋅   ⋅   ⋅   ⋅   ⋅   ⋅   ⋅   ⋅\n",
       "  ⋅   ⋅   ⋅   ⋅   ⋅   ⋅   ⋅  -1   2      ⋅   ⋅   ⋅   ⋅   ⋅   ⋅   ⋅   ⋅   ⋅\n",
       "  ⋅   ⋅   ⋅   ⋅   ⋅   ⋅   ⋅   ⋅  -1      ⋅   ⋅   ⋅   ⋅   ⋅   ⋅   ⋅   ⋅   ⋅\n",
       "  ⋅   ⋅   ⋅   ⋅   ⋅   ⋅   ⋅   ⋅   ⋅  …   ⋅   ⋅   ⋅   ⋅   ⋅   ⋅   ⋅   ⋅   ⋅\n",
       "  ⋅   ⋅   ⋅   ⋅   ⋅   ⋅   ⋅   ⋅   ⋅      ⋅   ⋅   ⋅   ⋅   ⋅   ⋅   ⋅   ⋅   ⋅\n",
       "  ⋅   ⋅   ⋅   ⋅   ⋅   ⋅   ⋅   ⋅   ⋅      ⋅   ⋅   ⋅   ⋅   ⋅   ⋅   ⋅   ⋅   ⋅\n",
       "  ⋮                   ⋮              ⋱                   ⋮                \n",
       "  ⋅   ⋅   ⋅   ⋅   ⋅   ⋅   ⋅   ⋅   ⋅      ⋅   ⋅   ⋅   ⋅   ⋅   ⋅   ⋅   ⋅   ⋅\n",
       "  ⋅   ⋅   ⋅   ⋅   ⋅   ⋅   ⋅   ⋅   ⋅      ⋅   ⋅   ⋅   ⋅   ⋅   ⋅   ⋅   ⋅   ⋅\n",
       "  ⋅   ⋅   ⋅   ⋅   ⋅   ⋅   ⋅   ⋅   ⋅  …  -1   ⋅   ⋅   ⋅   ⋅   ⋅   ⋅   ⋅   ⋅\n",
       "  ⋅   ⋅   ⋅   ⋅   ⋅   ⋅   ⋅   ⋅   ⋅      2  -1   ⋅   ⋅   ⋅   ⋅   ⋅   ⋅   ⋅\n",
       "  ⋅   ⋅   ⋅   ⋅   ⋅   ⋅   ⋅   ⋅   ⋅     -1   2  -1   ⋅   ⋅   ⋅   ⋅   ⋅   ⋅\n",
       "  ⋅   ⋅   ⋅   ⋅   ⋅   ⋅   ⋅   ⋅   ⋅      ⋅  -1   2  -1   ⋅   ⋅   ⋅   ⋅   ⋅\n",
       "  ⋅   ⋅   ⋅   ⋅   ⋅   ⋅   ⋅   ⋅   ⋅      ⋅   ⋅  -1   2  -1   ⋅   ⋅   ⋅   ⋅\n",
       "  ⋅   ⋅   ⋅   ⋅   ⋅   ⋅   ⋅   ⋅   ⋅  …   ⋅   ⋅   ⋅  -1   2  -1   ⋅   ⋅   ⋅\n",
       "  ⋅   ⋅   ⋅   ⋅   ⋅   ⋅   ⋅   ⋅   ⋅      ⋅   ⋅   ⋅   ⋅  -1   2  -1   ⋅   ⋅\n",
       "  ⋅   ⋅   ⋅   ⋅   ⋅   ⋅   ⋅   ⋅   ⋅      ⋅   ⋅   ⋅   ⋅   ⋅  -1   2  -1   ⋅\n",
       "  ⋅   ⋅   ⋅   ⋅   ⋅   ⋅   ⋅   ⋅   ⋅      ⋅   ⋅   ⋅   ⋅   ⋅   ⋅  -1   2  -1\n",
       "  ⋅   ⋅   ⋅   ⋅   ⋅   ⋅   ⋅   ⋅   ⋅      ⋅   ⋅   ⋅   ⋅   ⋅   ⋅   ⋅  -1   2"
      ]
     },
     "execution_count": 3,
     "metadata": {},
     "output_type": "execute_result"
    }
   ],
   "source": [
    "A = generate1DLaplaceCFD(100)"
   ]
  },
  {
   "cell_type": "markdown",
   "metadata": {},
   "source": [
    "Now we generate the source vector $\\vec{B}$\n",
    "\n",
    "The first entry is the lower bound, 0V and the upper bound is 1V"
   ]
  },
  {
   "cell_type": "code",
   "execution_count": 4,
   "metadata": {},
   "outputs": [
    {
     "data": {
      "text/plain": [
       "100-element Array{Float64,1}:\n",
       " 1.0\n",
       " 0.0\n",
       " 0.0\n",
       " 0.0\n",
       " 0.0\n",
       " 0.0\n",
       " 0.0\n",
       " 0.0\n",
       " 0.0\n",
       " 0.0\n",
       " 0.0\n",
       " 0.0\n",
       " 0.0\n",
       " ⋮  \n",
       " 0.0\n",
       " 0.0\n",
       " 0.0\n",
       " 0.0\n",
       " 0.0\n",
       " 0.0\n",
       " 0.0\n",
       " 0.0\n",
       " 0.0\n",
       " 0.0\n",
       " 0.0\n",
       " 0.0"
      ]
     },
     "execution_count": 4,
     "metadata": {},
     "output_type": "execute_result"
    }
   ],
   "source": [
    "b = [1;zeros(98);0]"
   ]
  },
  {
   "cell_type": "markdown",
   "metadata": {},
   "source": [
    "And solve - I'm using LAPACK's solver, thats why the type of A is SymTridiagonal, there are special solvers for it."
   ]
  },
  {
   "cell_type": "code",
   "execution_count": 5,
   "metadata": {},
   "outputs": [
    {
     "data": {
      "text/plain": [
       "100-element Array{Float64,1}:\n",
       " 0.9900990099009893  \n",
       " 0.9801980198019786  \n",
       " 0.970297029702968   \n",
       " 0.9603960396039576  \n",
       " 0.950495049504947   \n",
       " 0.9405940594059363  \n",
       " 0.9306930693069255  \n",
       " 0.920792079207915   \n",
       " 0.9108910891089045  \n",
       " 0.900990099009894   \n",
       " 0.8910891089108834  \n",
       " 0.8811881188118728  \n",
       " 0.8712871287128622  \n",
       " ⋮                   \n",
       " 0.11881188118811689 \n",
       " 0.1089108910891072  \n",
       " 0.0990099009900975  \n",
       " 0.0891089108910878  \n",
       " 0.07920792079207808 \n",
       " 0.06930693069306836 \n",
       " 0.059405940594058605\n",
       " 0.04950495049504884 \n",
       " 0.039603960396039084\n",
       " 0.029702970297029313\n",
       " 0.019801980198019542\n",
       " 0.009900990099009771"
      ]
     },
     "execution_count": 5,
     "metadata": {},
     "output_type": "execute_result"
    }
   ],
   "source": [
    "x = A\\b"
   ]
  },
  {
   "cell_type": "code",
   "execution_count": 6,
   "metadata": {},
   "outputs": [
    {
     "data": {
      "image/svg+xml": [
       "<?xml version=\"1.0\" encoding=\"utf-8\"?>\n",
       "<svg xmlns=\"http://www.w3.org/2000/svg\" xmlns:xlink=\"http://www.w3.org/1999/xlink\" width=\"600\" height=\"400\" viewBox=\"0 0 2400 1600\">\n",
       "<defs>\n",
       "  <clipPath id=\"clip3100\">\n",
       "    <rect x=\"0\" y=\"0\" width=\"2000\" height=\"2000\"/>\n",
       "  </clipPath>\n",
       "</defs>\n",
       "<defs>\n",
       "  <clipPath id=\"clip3101\">\n",
       "    <rect x=\"0\" y=\"0\" width=\"2400\" height=\"1600\"/>\n",
       "  </clipPath>\n",
       "</defs>\n",
       "<polygon clip-path=\"url(#clip3101)\" points=\"\n",
       "0,1600 2400,1600 2400,0 0,0 \n",
       "  \" fill=\"#ffffff\" fill-rule=\"evenodd\" fill-opacity=\"1\"/>\n",
       "<defs>\n",
       "  <clipPath id=\"clip3102\">\n",
       "    <rect x=\"480\" y=\"0\" width=\"1681\" height=\"1600\"/>\n",
       "  </clipPath>\n",
       "</defs>\n",
       "<polygon clip-path=\"url(#clip3101)\" points=\"\n",
       "251.149,1440.48 2321.26,1440.48 2321.26,47.2441 251.149,47.2441 \n",
       "  \" fill=\"#ffffff\" fill-rule=\"evenodd\" fill-opacity=\"1\"/>\n",
       "<defs>\n",
       "  <clipPath id=\"clip3103\">\n",
       "    <rect x=\"251\" y=\"47\" width=\"2071\" height=\"1394\"/>\n",
       "  </clipPath>\n",
       "</defs>\n",
       "<polyline clip-path=\"url(#clip3103)\" style=\"stroke:#000000; stroke-width:2; stroke-opacity:0.1; fill:none\" points=\"\n",
       "  290.01,1440.48 290.01,47.2441 \n",
       "  \"/>\n",
       "<polyline clip-path=\"url(#clip3103)\" style=\"stroke:#000000; stroke-width:2; stroke-opacity:0.1; fill:none\" points=\"\n",
       "  783.175,1440.48 783.175,47.2441 \n",
       "  \"/>\n",
       "<polyline clip-path=\"url(#clip3103)\" style=\"stroke:#000000; stroke-width:2; stroke-opacity:0.1; fill:none\" points=\"\n",
       "  1276.34,1440.48 1276.34,47.2441 \n",
       "  \"/>\n",
       "<polyline clip-path=\"url(#clip3103)\" style=\"stroke:#000000; stroke-width:2; stroke-opacity:0.1; fill:none\" points=\"\n",
       "  1769.51,1440.48 1769.51,47.2441 \n",
       "  \"/>\n",
       "<polyline clip-path=\"url(#clip3103)\" style=\"stroke:#000000; stroke-width:2; stroke-opacity:0.1; fill:none\" points=\"\n",
       "  2262.67,1440.48 2262.67,47.2441 \n",
       "  \"/>\n",
       "<polyline clip-path=\"url(#clip3103)\" style=\"stroke:#000000; stroke-width:2; stroke-opacity:0.1; fill:none\" points=\"\n",
       "  251.149,1414.33 2321.26,1414.33 \n",
       "  \"/>\n",
       "<polyline clip-path=\"url(#clip3103)\" style=\"stroke:#000000; stroke-width:2; stroke-opacity:0.1; fill:none\" points=\"\n",
       "  251.149,1079.1 2321.26,1079.1 \n",
       "  \"/>\n",
       "<polyline clip-path=\"url(#clip3103)\" style=\"stroke:#000000; stroke-width:2; stroke-opacity:0.1; fill:none\" points=\"\n",
       "  251.149,743.863 2321.26,743.863 \n",
       "  \"/>\n",
       "<polyline clip-path=\"url(#clip3103)\" style=\"stroke:#000000; stroke-width:2; stroke-opacity:0.1; fill:none\" points=\"\n",
       "  251.149,408.631 2321.26,408.631 \n",
       "  \"/>\n",
       "<polyline clip-path=\"url(#clip3103)\" style=\"stroke:#000000; stroke-width:2; stroke-opacity:0.1; fill:none\" points=\"\n",
       "  251.149,73.3988 2321.26,73.3988 \n",
       "  \"/>\n",
       "<polyline clip-path=\"url(#clip3101)\" style=\"stroke:#000000; stroke-width:4; stroke-opacity:1; fill:none\" points=\"\n",
       "  251.149,1440.48 2321.26,1440.48 \n",
       "  \"/>\n",
       "<polyline clip-path=\"url(#clip3101)\" style=\"stroke:#000000; stroke-width:4; stroke-opacity:1; fill:none\" points=\"\n",
       "  251.149,1440.48 251.149,47.2441 \n",
       "  \"/>\n",
       "<polyline clip-path=\"url(#clip3101)\" style=\"stroke:#000000; stroke-width:4; stroke-opacity:1; fill:none\" points=\"\n",
       "  290.01,1440.48 290.01,1419.58 \n",
       "  \"/>\n",
       "<polyline clip-path=\"url(#clip3101)\" style=\"stroke:#000000; stroke-width:4; stroke-opacity:1; fill:none\" points=\"\n",
       "  783.175,1440.48 783.175,1419.58 \n",
       "  \"/>\n",
       "<polyline clip-path=\"url(#clip3101)\" style=\"stroke:#000000; stroke-width:4; stroke-opacity:1; fill:none\" points=\"\n",
       "  1276.34,1440.48 1276.34,1419.58 \n",
       "  \"/>\n",
       "<polyline clip-path=\"url(#clip3101)\" style=\"stroke:#000000; stroke-width:4; stroke-opacity:1; fill:none\" points=\"\n",
       "  1769.51,1440.48 1769.51,1419.58 \n",
       "  \"/>\n",
       "<polyline clip-path=\"url(#clip3101)\" style=\"stroke:#000000; stroke-width:4; stroke-opacity:1; fill:none\" points=\"\n",
       "  2262.67,1440.48 2262.67,1419.58 \n",
       "  \"/>\n",
       "<polyline clip-path=\"url(#clip3101)\" style=\"stroke:#000000; stroke-width:4; stroke-opacity:1; fill:none\" points=\"\n",
       "  251.149,1414.33 282.2,1414.33 \n",
       "  \"/>\n",
       "<polyline clip-path=\"url(#clip3101)\" style=\"stroke:#000000; stroke-width:4; stroke-opacity:1; fill:none\" points=\"\n",
       "  251.149,1079.1 282.2,1079.1 \n",
       "  \"/>\n",
       "<polyline clip-path=\"url(#clip3101)\" style=\"stroke:#000000; stroke-width:4; stroke-opacity:1; fill:none\" points=\"\n",
       "  251.149,743.863 282.2,743.863 \n",
       "  \"/>\n",
       "<polyline clip-path=\"url(#clip3101)\" style=\"stroke:#000000; stroke-width:4; stroke-opacity:1; fill:none\" points=\"\n",
       "  251.149,408.631 282.2,408.631 \n",
       "  \"/>\n",
       "<polyline clip-path=\"url(#clip3101)\" style=\"stroke:#000000; stroke-width:4; stroke-opacity:1; fill:none\" points=\"\n",
       "  251.149,73.3988 282.2,73.3988 \n",
       "  \"/>\n",
       "<g clip-path=\"url(#clip3101)\">\n",
       "<text style=\"fill:#000000; fill-opacity:1; font-family:Arial,Helvetica Neue,Helvetica,sans-serif; font-size:48px; text-anchor:middle;\" transform=\"rotate(0, 290.01, 1494.48)\" x=\"290.01\" y=\"1494.48\">0</text>\n",
       "</g>\n",
       "<g clip-path=\"url(#clip3101)\">\n",
       "<text style=\"fill:#000000; fill-opacity:1; font-family:Arial,Helvetica Neue,Helvetica,sans-serif; font-size:48px; text-anchor:middle;\" transform=\"rotate(0, 783.175, 1494.48)\" x=\"783.175\" y=\"1494.48\">25</text>\n",
       "</g>\n",
       "<g clip-path=\"url(#clip3101)\">\n",
       "<text style=\"fill:#000000; fill-opacity:1; font-family:Arial,Helvetica Neue,Helvetica,sans-serif; font-size:48px; text-anchor:middle;\" transform=\"rotate(0, 1276.34, 1494.48)\" x=\"1276.34\" y=\"1494.48\">50</text>\n",
       "</g>\n",
       "<g clip-path=\"url(#clip3101)\">\n",
       "<text style=\"fill:#000000; fill-opacity:1; font-family:Arial,Helvetica Neue,Helvetica,sans-serif; font-size:48px; text-anchor:middle;\" transform=\"rotate(0, 1769.51, 1494.48)\" x=\"1769.51\" y=\"1494.48\">75</text>\n",
       "</g>\n",
       "<g clip-path=\"url(#clip3101)\">\n",
       "<text style=\"fill:#000000; fill-opacity:1; font-family:Arial,Helvetica Neue,Helvetica,sans-serif; font-size:48px; text-anchor:middle;\" transform=\"rotate(0, 2262.67, 1494.48)\" x=\"2262.67\" y=\"1494.48\">100</text>\n",
       "</g>\n",
       "<g clip-path=\"url(#clip3101)\">\n",
       "<text style=\"fill:#000000; fill-opacity:1; font-family:Arial,Helvetica Neue,Helvetica,sans-serif; font-size:48px; text-anchor:end;\" transform=\"rotate(0, 227.149, 1431.83)\" x=\"227.149\" y=\"1431.83\">0.00</text>\n",
       "</g>\n",
       "<g clip-path=\"url(#clip3101)\">\n",
       "<text style=\"fill:#000000; fill-opacity:1; font-family:Arial,Helvetica Neue,Helvetica,sans-serif; font-size:48px; text-anchor:end;\" transform=\"rotate(0, 227.149, 1096.6)\" x=\"227.149\" y=\"1096.6\">0.25</text>\n",
       "</g>\n",
       "<g clip-path=\"url(#clip3101)\">\n",
       "<text style=\"fill:#000000; fill-opacity:1; font-family:Arial,Helvetica Neue,Helvetica,sans-serif; font-size:48px; text-anchor:end;\" transform=\"rotate(0, 227.149, 761.363)\" x=\"227.149\" y=\"761.363\">0.50</text>\n",
       "</g>\n",
       "<g clip-path=\"url(#clip3101)\">\n",
       "<text style=\"fill:#000000; fill-opacity:1; font-family:Arial,Helvetica Neue,Helvetica,sans-serif; font-size:48px; text-anchor:end;\" transform=\"rotate(0, 227.149, 426.131)\" x=\"227.149\" y=\"426.131\">0.75</text>\n",
       "</g>\n",
       "<g clip-path=\"url(#clip3101)\">\n",
       "<text style=\"fill:#000000; fill-opacity:1; font-family:Arial,Helvetica Neue,Helvetica,sans-serif; font-size:48px; text-anchor:end;\" transform=\"rotate(0, 227.149, 90.8988)\" x=\"227.149\" y=\"90.8988\">1.00</text>\n",
       "</g>\n",
       "<g clip-path=\"url(#clip3101)\">\n",
       "<text style=\"fill:#000000; fill-opacity:1; font-family:Arial,Helvetica Neue,Helvetica,sans-serif; font-size:66px; text-anchor:middle;\" transform=\"rotate(0, 1286.2, 1590.4)\" x=\"1286.2\" y=\"1590.4\">Position</text>\n",
       "</g>\n",
       "<g clip-path=\"url(#clip3101)\">\n",
       "<text style=\"fill:#000000; fill-opacity:1; font-family:Arial,Helvetica Neue,Helvetica,sans-serif; font-size:66px; text-anchor:middle;\" transform=\"rotate(-90, 57.6, 743.863)\" x=\"57.6\" y=\"743.863\">Voltage (V)</text>\n",
       "</g>\n",
       "<polyline clip-path=\"url(#clip3103)\" style=\"stroke:#009af9; stroke-width:4; stroke-opacity:1; fill:none\" points=\"\n",
       "  309.737,86.6754 329.463,99.9519 349.19,113.228 368.916,126.505 388.643,139.781 408.37,153.058 428.096,166.335 447.823,179.611 467.55,192.888 487.276,206.164 \n",
       "  507.003,219.441 526.729,232.717 546.456,245.994 566.183,259.27 585.909,272.547 605.636,285.823 625.362,299.1 645.089,312.376 664.816,325.653 684.542,338.929 \n",
       "  704.269,352.206 723.996,365.482 743.722,378.759 763.449,392.035 783.175,405.312 802.902,418.588 822.629,431.865 842.355,445.142 862.082,458.418 881.808,471.695 \n",
       "  901.535,484.971 921.262,498.248 940.988,511.524 960.715,524.801 980.442,538.077 1000.17,551.354 1019.89,564.63 1039.62,577.907 1059.35,591.183 1079.07,604.46 \n",
       "  1098.8,617.736 1118.53,631.013 1138.25,644.289 1157.98,657.566 1177.71,670.842 1197.43,684.119 1217.16,697.396 1236.89,710.672 1256.61,723.949 1276.34,737.225 \n",
       "  1296.07,750.502 1315.79,763.778 1335.52,777.055 1355.25,790.331 1374.97,803.608 1394.7,816.884 1414.43,830.161 1434.15,843.437 1453.88,856.714 1473.61,869.99 \n",
       "  1493.33,883.267 1513.06,896.543 1532.79,909.82 1552.51,923.096 1572.24,936.373 1591.97,949.649 1611.69,962.926 1631.42,976.203 1651.15,989.479 1670.87,1002.76 \n",
       "  1690.6,1016.03 1710.33,1029.31 1730.05,1042.59 1749.78,1055.86 1769.51,1069.14 1789.23,1082.41 1808.96,1095.69 1828.69,1108.97 1848.41,1122.24 1868.14,1135.52 \n",
       "  1887.87,1148.8 1907.59,1162.07 1927.32,1175.35 1947.05,1188.63 1966.77,1201.9 1986.5,1215.18 2006.23,1228.46 2025.95,1241.73 2045.68,1255.01 2065.41,1268.29 \n",
       "  2085.13,1281.56 2104.86,1294.84 2124.59,1308.12 2144.31,1321.39 2164.04,1334.67 2183.77,1347.95 2203.49,1361.22 2223.22,1374.5 2242.95,1387.77 2262.67,1401.05 \n",
       "  \n",
       "  \"/>\n",
       "</svg>\n"
      ]
     },
     "execution_count": 6,
     "metadata": {},
     "output_type": "execute_result"
    }
   ],
   "source": [
    "plot(x,legend=false,xlabel=\"Position\",ylabel=\"Voltage (V)\")"
   ]
  },
  {
   "cell_type": "markdown",
   "metadata": {},
   "source": [
    "Hey look, it's linear - as it should be.\n",
    "\n",
    "Lets compare the speed when we ramp up the number of points for the different implementations.\n",
    "\n",
    "First as the built-in tridiagonal type"
   ]
  },
  {
   "cell_type": "code",
   "execution_count": 107,
   "metadata": {
    "scrolled": true
   },
   "outputs": [
    {
     "data": {
      "text/plain": [
       "BenchmarkTools.Trial: \n",
       "  memory estimate:  2.67 KiB\n",
       "  allocs estimate:  5\n",
       "  --------------\n",
       "  minimum time:     1.760 μs (0.00% GC)\n",
       "  median time:      2.369 μs (0.00% GC)\n",
       "  mean time:        2.852 μs (10.54% GC)\n",
       "  maximum time:     322.773 μs (98.78% GC)\n",
       "  --------------\n",
       "  samples:          10000\n",
       "  evals/sample:     10"
      ]
     },
     "execution_count": 107,
     "metadata": {},
     "output_type": "execute_result"
    }
   ],
   "source": [
    "numPoints = 100\n",
    "A = generate1DLaplaceCFD(numPoints)\n",
    "b = [0;fill(0,numPoints-2);1]\n",
    "time1 = @benchmark A\\b"
   ]
  },
  {
   "cell_type": "markdown",
   "metadata": {},
   "source": [
    "Now as the generic \"sparse\" matrix"
   ]
  },
  {
   "cell_type": "code",
   "execution_count": 110,
   "metadata": {
    "scrolled": true
   },
   "outputs": [
    {
     "data": {
      "text/plain": [
       "BenchmarkTools.Trial: \n",
       "  memory estimate:  42.36 KiB\n",
       "  allocs estimate:  47\n",
       "  --------------\n",
       "  minimum time:     34.914 μs (0.00% GC)\n",
       "  median time:      38.156 μs (0.00% GC)\n",
       "  mean time:        62.848 μs (28.86% GC)\n",
       "  maximum time:     116.360 ms (98.41% GC)\n",
       "  --------------\n",
       "  samples:          10000\n",
       "  evals/sample:     1"
      ]
     },
     "execution_count": 110,
     "metadata": {},
     "output_type": "execute_result"
    }
   ],
   "source": [
    "numPoints = 100\n",
    "A = sparse(float(generate1DLaplaceCFD(numPoints))) # We need to cast to float as the sparse solver doesn't work for ints\n",
    "b = [0;fill(0,numPoints-2);1.]\n",
    "time2 = @benchmark A\\b"
   ]
  },
  {
   "cell_type": "markdown",
   "metadata": {},
   "source": [
    "And finally as a dense matrix"
   ]
  },
  {
   "cell_type": "code",
   "execution_count": 111,
   "metadata": {},
   "outputs": [
    {
     "data": {
      "text/plain": [
       "BenchmarkTools.Trial: \n",
       "  memory estimate:  79.98 KiB\n",
       "  allocs estimate:  5\n",
       "  --------------\n",
       "  minimum time:     368.877 μs (0.00% GC)\n",
       "  median time:      373.331 μs (0.00% GC)\n",
       "  mean time:        407.691 μs (2.16% GC)\n",
       "  maximum time:     3.510 ms (82.34% GC)\n",
       "  --------------\n",
       "  samples:          10000\n",
       "  evals/sample:     1"
      ]
     },
     "execution_count": 111,
     "metadata": {},
     "output_type": "execute_result"
    }
   ],
   "source": [
    "numPoints = Int64(100)\n",
    "A = Array(generate1DLaplaceCFD(numPoints))\n",
    "b = [0;fill(0,numPoints-2);1]\n",
    "trial3 = @benchmark A\\b"
   ]
  },
  {
   "cell_type": "markdown",
   "metadata": {},
   "source": [
    "So to compare the three"
   ]
  },
  {
   "cell_type": "markdown",
   "metadata": {},
   "source": [
    "<center>\n",
    "\n",
    "|   $\\space$             | SymTridiagonal | SparseCSC |   Dense | \n",
    "|------------------------|:----------------:|:-----------:|:---------:|\n",
    "| RAM Utilization (KiB)  |   2.67         |42.36      |79.98    |\n",
    "| Mean Solving Time (μs) |  4.065         | 64.203    |449.684  |\n",
    "    \n",
    "</center>"
   ]
  },
  {
   "cell_type": "markdown",
   "metadata": {},
   "source": [
    "Now for $10^6$ points"
   ]
  },
  {
   "cell_type": "code",
   "execution_count": 10,
   "metadata": {},
   "outputs": [
    {
     "data": {
      "text/plain": [
       "BenchmarkTools.Trial: \n",
       "  memory estimate:  22.89 MiB\n",
       "  allocs estimate:  8\n",
       "  --------------\n",
       "  minimum time:     22.228 ms (8.84% GC)\n",
       "  median time:      25.565 ms (7.53% GC)\n",
       "  mean time:        26.070 ms (10.54% GC)\n",
       "  maximum time:     129.685 ms (79.01% GC)\n",
       "  --------------\n",
       "  samples:          192\n",
       "  evals/sample:     1"
      ]
     },
     "execution_count": 10,
     "metadata": {},
     "output_type": "execute_result"
    }
   ],
   "source": [
    "numPoints = Int64(1e6)\n",
    "A = generate1DLaplaceCFD(numPoints)\n",
    "b = [0;fill(0,numPoints-2);1]\n",
    "@benchmark A\\b"
   ]
  },
  {
   "cell_type": "markdown",
   "metadata": {},
   "source": [
    "I'm not going to compare to the non-sparse version - it's going to crash my server"
   ]
  },
  {
   "cell_type": "markdown",
   "metadata": {},
   "source": [
    "### Question 1 - Why wasn't conductivity part of the equation"
   ]
  },
  {
   "cell_type": "markdown",
   "metadata": {},
   "source": [
    "Conductivitiy is linear and not dependent on voltage. Between two points of a given voltage, the voltage gradiant MUST be linear because conductivity is linear. Therefore, solving for the \"diffusion\" of voltage won't be dependent on the conductivity\n",
    "\n",
    "FIXME"
   ]
  },
  {
   "cell_type": "markdown",
   "metadata": {},
   "source": [
    "### Part 2 - Finite Difference Poisson Equation\n",
    "\n",
    "$\\textbf{A}$ is the same here, except we modify our source vector $\\vec{B}$"
   ]
  },
  {
   "cell_type": "code",
   "execution_count": 163,
   "metadata": {},
   "outputs": [
    {
     "data": {
      "text/plain": [
       "1000-element Array{Float64,1}:\n",
       " 0.9990009990009983   \n",
       " 0.9980019980019965   \n",
       " 0.9970029970029949   \n",
       " 0.9960039960039933   \n",
       " 0.9950049950049916   \n",
       " 0.9940059940059899   \n",
       " 0.993006993006988    \n",
       " 0.9920079920079863   \n",
       " 0.9910089910089847   \n",
       " 0.990009990009983    \n",
       " 0.9890109890109813   \n",
       " 0.9880119880119794   \n",
       " 0.9870129870129777   \n",
       " ⋮                    \n",
       " 0.011988011988009533 \n",
       " 0.010989010989008736 \n",
       " 0.009990009990007943 \n",
       " 0.008991008991007148 \n",
       " 0.007992007992006353 \n",
       " 0.0069930069930055575\n",
       " 0.005994005994004764 \n",
       " 0.004995004995003969 \n",
       " 0.0039960039960031755\n",
       " 0.002997002997002381 \n",
       " 0.0019980019980015873\n",
       " 0.0009990009990007937"
      ]
     },
     "execution_count": 163,
     "metadata": {},
     "output_type": "execute_result"
    }
   ],
   "source": [
    "numPoints = 1000\n",
    "A = generate1DLaplaceCFD(numPoints)\n",
    "b = zeros(Float64,numPoints)\n",
    "b[1] = 1\n",
    "x = A\\b"
   ]
  },
  {
   "cell_type": "code",
   "execution_count": 164,
   "metadata": {
    "scrolled": false
   },
   "outputs": [
    {
     "data": {
      "image/svg+xml": [
       "<?xml version=\"1.0\" encoding=\"utf-8\"?>\n",
       "<svg xmlns=\"http://www.w3.org/2000/svg\" xmlns:xlink=\"http://www.w3.org/1999/xlink\" width=\"600\" height=\"400\" viewBox=\"0 0 2400 1600\">\n",
       "<defs>\n",
       "  <clipPath id=\"clip9900\">\n",
       "    <rect x=\"0\" y=\"0\" width=\"2000\" height=\"2000\"/>\n",
       "  </clipPath>\n",
       "</defs>\n",
       "<defs>\n",
       "  <clipPath id=\"clip9901\">\n",
       "    <rect x=\"0\" y=\"0\" width=\"2400\" height=\"1600\"/>\n",
       "  </clipPath>\n",
       "</defs>\n",
       "<polygon clip-path=\"url(#clip9901)\" points=\"\n",
       "0,1600 2400,1600 2400,0 0,0 \n",
       "  \" fill=\"#ffffff\" fill-rule=\"evenodd\" fill-opacity=\"1\"/>\n",
       "<defs>\n",
       "  <clipPath id=\"clip9902\">\n",
       "    <rect x=\"480\" y=\"0\" width=\"1681\" height=\"1600\"/>\n",
       "  </clipPath>\n",
       "</defs>\n",
       "<polygon clip-path=\"url(#clip9901)\" points=\"\n",
       "251.149,1440.48 2321.26,1440.48 2321.26,47.2441 251.149,47.2441 \n",
       "  \" fill=\"#ffffff\" fill-rule=\"evenodd\" fill-opacity=\"1\"/>\n",
       "<defs>\n",
       "  <clipPath id=\"clip9903\">\n",
       "    <rect x=\"251\" y=\"47\" width=\"2071\" height=\"1394\"/>\n",
       "  </clipPath>\n",
       "</defs>\n",
       "<polyline clip-path=\"url(#clip9903)\" style=\"stroke:#000000; stroke-width:2; stroke-opacity:0.1; fill:none\" points=\"\n",
       "  307.782,1440.48 307.782,47.2441 \n",
       "  \"/>\n",
       "<polyline clip-path=\"url(#clip9903)\" style=\"stroke:#000000; stroke-width:2; stroke-opacity:0.1; fill:none\" points=\"\n",
       "  796.504,1440.48 796.504,47.2441 \n",
       "  \"/>\n",
       "<polyline clip-path=\"url(#clip9903)\" style=\"stroke:#000000; stroke-width:2; stroke-opacity:0.1; fill:none\" points=\"\n",
       "  1285.23,1440.48 1285.23,47.2441 \n",
       "  \"/>\n",
       "<polyline clip-path=\"url(#clip9903)\" style=\"stroke:#000000; stroke-width:2; stroke-opacity:0.1; fill:none\" points=\"\n",
       "  1773.95,1440.48 1773.95,47.2441 \n",
       "  \"/>\n",
       "<polyline clip-path=\"url(#clip9903)\" style=\"stroke:#000000; stroke-width:2; stroke-opacity:0.1; fill:none\" points=\"\n",
       "  2262.67,1440.48 2262.67,47.2441 \n",
       "  \"/>\n",
       "<polyline clip-path=\"url(#clip9903)\" style=\"stroke:#000000; stroke-width:2; stroke-opacity:0.1; fill:none\" points=\"\n",
       "  251.149,1401.05 2321.26,1401.05 \n",
       "  \"/>\n",
       "<polyline clip-path=\"url(#clip9903)\" style=\"stroke:#000000; stroke-width:2; stroke-opacity:0.1; fill:none\" points=\"\n",
       "  251.149,1072.46 2321.26,1072.46 \n",
       "  \"/>\n",
       "<polyline clip-path=\"url(#clip9903)\" style=\"stroke:#000000; stroke-width:2; stroke-opacity:0.1; fill:none\" points=\"\n",
       "  251.149,743.863 2321.26,743.863 \n",
       "  \"/>\n",
       "<polyline clip-path=\"url(#clip9903)\" style=\"stroke:#000000; stroke-width:2; stroke-opacity:0.1; fill:none\" points=\"\n",
       "  251.149,415.269 2321.26,415.269 \n",
       "  \"/>\n",
       "<polyline clip-path=\"url(#clip9903)\" style=\"stroke:#000000; stroke-width:2; stroke-opacity:0.1; fill:none\" points=\"\n",
       "  251.149,86.6754 2321.26,86.6754 \n",
       "  \"/>\n",
       "<polyline clip-path=\"url(#clip9901)\" style=\"stroke:#000000; stroke-width:4; stroke-opacity:1; fill:none\" points=\"\n",
       "  251.149,1440.48 2321.26,1440.48 \n",
       "  \"/>\n",
       "<polyline clip-path=\"url(#clip9901)\" style=\"stroke:#000000; stroke-width:4; stroke-opacity:1; fill:none\" points=\"\n",
       "  251.149,1440.48 251.149,47.2441 \n",
       "  \"/>\n",
       "<polyline clip-path=\"url(#clip9901)\" style=\"stroke:#000000; stroke-width:4; stroke-opacity:1; fill:none\" points=\"\n",
       "  307.782,1440.48 307.782,1419.58 \n",
       "  \"/>\n",
       "<polyline clip-path=\"url(#clip9901)\" style=\"stroke:#000000; stroke-width:4; stroke-opacity:1; fill:none\" points=\"\n",
       "  796.504,1440.48 796.504,1419.58 \n",
       "  \"/>\n",
       "<polyline clip-path=\"url(#clip9901)\" style=\"stroke:#000000; stroke-width:4; stroke-opacity:1; fill:none\" points=\"\n",
       "  1285.23,1440.48 1285.23,1419.58 \n",
       "  \"/>\n",
       "<polyline clip-path=\"url(#clip9901)\" style=\"stroke:#000000; stroke-width:4; stroke-opacity:1; fill:none\" points=\"\n",
       "  1773.95,1440.48 1773.95,1419.58 \n",
       "  \"/>\n",
       "<polyline clip-path=\"url(#clip9901)\" style=\"stroke:#000000; stroke-width:4; stroke-opacity:1; fill:none\" points=\"\n",
       "  2262.67,1440.48 2262.67,1419.58 \n",
       "  \"/>\n",
       "<polyline clip-path=\"url(#clip9901)\" style=\"stroke:#000000; stroke-width:4; stroke-opacity:1; fill:none\" points=\"\n",
       "  251.149,1401.05 282.2,1401.05 \n",
       "  \"/>\n",
       "<polyline clip-path=\"url(#clip9901)\" style=\"stroke:#000000; stroke-width:4; stroke-opacity:1; fill:none\" points=\"\n",
       "  251.149,1072.46 282.2,1072.46 \n",
       "  \"/>\n",
       "<polyline clip-path=\"url(#clip9901)\" style=\"stroke:#000000; stroke-width:4; stroke-opacity:1; fill:none\" points=\"\n",
       "  251.149,743.863 282.2,743.863 \n",
       "  \"/>\n",
       "<polyline clip-path=\"url(#clip9901)\" style=\"stroke:#000000; stroke-width:4; stroke-opacity:1; fill:none\" points=\"\n",
       "  251.149,415.269 282.2,415.269 \n",
       "  \"/>\n",
       "<polyline clip-path=\"url(#clip9901)\" style=\"stroke:#000000; stroke-width:4; stroke-opacity:1; fill:none\" points=\"\n",
       "  251.149,86.6754 282.2,86.6754 \n",
       "  \"/>\n",
       "<g clip-path=\"url(#clip9901)\">\n",
       "<text style=\"fill:#000000; fill-opacity:1; font-family:Arial,Helvetica Neue,Helvetica,sans-serif; font-size:48px; text-anchor:middle;\" transform=\"rotate(0, 307.782, 1494.48)\" x=\"307.782\" y=\"1494.48\">0</text>\n",
       "</g>\n",
       "<g clip-path=\"url(#clip9901)\">\n",
       "<text style=\"fill:#000000; fill-opacity:1; font-family:Arial,Helvetica Neue,Helvetica,sans-serif; font-size:48px; text-anchor:middle;\" transform=\"rotate(0, 796.504, 1494.48)\" x=\"796.504\" y=\"1494.48\">250</text>\n",
       "</g>\n",
       "<g clip-path=\"url(#clip9901)\">\n",
       "<text style=\"fill:#000000; fill-opacity:1; font-family:Arial,Helvetica Neue,Helvetica,sans-serif; font-size:48px; text-anchor:middle;\" transform=\"rotate(0, 1285.23, 1494.48)\" x=\"1285.23\" y=\"1494.48\">500</text>\n",
       "</g>\n",
       "<g clip-path=\"url(#clip9901)\">\n",
       "<text style=\"fill:#000000; fill-opacity:1; font-family:Arial,Helvetica Neue,Helvetica,sans-serif; font-size:48px; text-anchor:middle;\" transform=\"rotate(0, 1773.95, 1494.48)\" x=\"1773.95\" y=\"1494.48\">750</text>\n",
       "</g>\n",
       "<g clip-path=\"url(#clip9901)\">\n",
       "<text style=\"fill:#000000; fill-opacity:1; font-family:Arial,Helvetica Neue,Helvetica,sans-serif; font-size:48px; text-anchor:middle;\" transform=\"rotate(0, 2262.67, 1494.48)\" x=\"2262.67\" y=\"1494.48\">1000</text>\n",
       "</g>\n",
       "<g clip-path=\"url(#clip9901)\">\n",
       "<text style=\"fill:#000000; fill-opacity:1; font-family:Arial,Helvetica Neue,Helvetica,sans-serif; font-size:48px; text-anchor:end;\" transform=\"rotate(0, 227.149, 1418.55)\" x=\"227.149\" y=\"1418.55\">0.00</text>\n",
       "</g>\n",
       "<g clip-path=\"url(#clip9901)\">\n",
       "<text style=\"fill:#000000; fill-opacity:1; font-family:Arial,Helvetica Neue,Helvetica,sans-serif; font-size:48px; text-anchor:end;\" transform=\"rotate(0, 227.149, 1089.96)\" x=\"227.149\" y=\"1089.96\">0.25</text>\n",
       "</g>\n",
       "<g clip-path=\"url(#clip9901)\">\n",
       "<text style=\"fill:#000000; fill-opacity:1; font-family:Arial,Helvetica Neue,Helvetica,sans-serif; font-size:48px; text-anchor:end;\" transform=\"rotate(0, 227.149, 761.363)\" x=\"227.149\" y=\"761.363\">0.50</text>\n",
       "</g>\n",
       "<g clip-path=\"url(#clip9901)\">\n",
       "<text style=\"fill:#000000; fill-opacity:1; font-family:Arial,Helvetica Neue,Helvetica,sans-serif; font-size:48px; text-anchor:end;\" transform=\"rotate(0, 227.149, 432.769)\" x=\"227.149\" y=\"432.769\">0.75</text>\n",
       "</g>\n",
       "<g clip-path=\"url(#clip9901)\">\n",
       "<text style=\"fill:#000000; fill-opacity:1; font-family:Arial,Helvetica Neue,Helvetica,sans-serif; font-size:48px; text-anchor:end;\" transform=\"rotate(0, 227.149, 104.175)\" x=\"227.149\" y=\"104.175\">1.00</text>\n",
       "</g>\n",
       "<g clip-path=\"url(#clip9901)\">\n",
       "<text style=\"fill:#000000; fill-opacity:1; font-family:Arial,Helvetica Neue,Helvetica,sans-serif; font-size:66px; text-anchor:middle;\" transform=\"rotate(0, 1286.2, 1590.4)\" x=\"1286.2\" y=\"1590.4\">Position</text>\n",
       "</g>\n",
       "<g clip-path=\"url(#clip9901)\">\n",
       "<text style=\"fill:#000000; fill-opacity:1; font-family:Arial,Helvetica Neue,Helvetica,sans-serif; font-size:66px; text-anchor:middle;\" transform=\"rotate(-90, 57.6, 743.863)\" x=\"57.6\" y=\"743.863\">Voltage (V)</text>\n",
       "</g>\n",
       "<polyline clip-path=\"url(#clip9903)\" style=\"stroke:#009af9; stroke-width:4; stroke-opacity:1; fill:none\" points=\"\n",
       "  309.737,87.9884 311.691,89.3015 313.646,90.6146 315.601,91.9276 317.556,93.2407 319.511,94.5538 321.466,95.8668 323.421,97.1799 325.376,98.4929 327.331,99.806 \n",
       "  329.285,101.119 331.24,102.432 333.195,103.745 335.15,105.058 337.105,106.371 339.06,107.684 341.015,108.997 342.97,110.311 344.925,111.624 346.879,112.937 \n",
       "  348.834,114.25 350.789,115.563 352.744,116.876 354.699,118.189 356.654,119.502 358.609,120.815 360.564,122.128 362.519,123.441 364.473,124.754 366.428,126.067 \n",
       "  368.383,127.38 370.338,128.693 372.293,130.006 374.248,131.32 376.203,132.633 378.158,133.946 380.113,135.259 382.067,136.572 384.022,137.885 385.977,139.198 \n",
       "  387.932,140.511 389.887,141.824 391.842,143.137 393.797,144.45 395.752,145.763 397.707,147.076 399.662,148.389 401.616,149.702 403.571,151.015 405.526,152.329 \n",
       "  407.481,153.642 409.436,154.955 411.391,156.268 413.346,157.581 415.301,158.894 417.256,160.207 419.21,161.52 421.165,162.833 423.12,164.146 425.075,165.459 \n",
       "  427.03,166.772 428.985,168.085 430.94,169.398 432.895,170.711 434.85,172.024 436.804,173.338 438.759,174.651 440.714,175.964 442.669,177.277 444.624,178.59 \n",
       "  446.579,179.903 448.534,181.216 450.489,182.529 452.444,183.842 454.398,185.155 456.353,186.468 458.308,187.781 460.263,189.094 462.218,190.407 464.173,191.72 \n",
       "  466.128,193.033 468.083,194.347 470.038,195.66 471.992,196.973 473.947,198.286 475.902,199.599 477.857,200.912 479.812,202.225 481.767,203.538 483.722,204.851 \n",
       "  485.677,206.164 487.632,207.477 489.586,208.79 491.541,210.103 493.496,211.416 495.451,212.729 497.406,214.042 499.361,215.356 501.316,216.669 503.271,217.982 \n",
       "  505.226,219.295 507.18,220.608 509.135,221.921 511.09,223.234 513.045,224.547 515,225.86 516.955,227.173 518.91,228.486 520.865,229.799 522.82,231.112 \n",
       "  524.774,232.425 526.729,233.738 528.684,235.051 530.639,236.365 532.594,237.678 534.549,238.991 536.504,240.304 538.459,241.617 540.414,242.93 542.368,244.243 \n",
       "  544.323,245.556 546.278,246.869 548.233,248.182 550.188,249.495 552.143,250.808 554.098,252.121 556.053,253.434 558.008,254.747 559.962,256.06 561.917,257.374 \n",
       "  563.872,258.687 565.827,260 567.782,261.313 569.737,262.626 571.692,263.939 573.647,265.252 575.602,266.565 577.557,267.878 579.511,269.191 581.466,270.504 \n",
       "  583.421,271.817 585.376,273.13 587.331,274.443 589.286,275.756 591.241,277.069 593.196,278.383 595.151,279.696 597.105,281.009 599.06,282.322 601.015,283.635 \n",
       "  602.97,284.948 604.925,286.261 606.88,287.574 608.835,288.887 610.79,290.2 612.745,291.513 614.699,292.826 616.654,294.139 618.609,295.452 620.564,296.765 \n",
       "  622.519,298.078 624.474,299.392 626.429,300.705 628.384,302.018 630.339,303.331 632.293,304.644 634.248,305.957 636.203,307.27 638.158,308.583 640.113,309.896 \n",
       "  642.068,311.209 644.023,312.522 645.978,313.835 647.933,315.148 649.887,316.461 651.842,317.774 653.797,319.088 655.752,320.401 657.707,321.714 659.662,323.027 \n",
       "  661.617,324.34 663.572,325.653 665.527,326.966 667.481,328.279 669.436,329.592 671.391,330.905 673.346,332.218 675.301,333.531 677.256,334.844 679.211,336.157 \n",
       "  681.166,337.47 683.121,338.783 685.075,340.097 687.03,341.41 688.985,342.723 690.94,344.036 692.895,345.349 694.85,346.662 696.805,347.975 698.76,349.288 \n",
       "  700.715,350.601 702.669,351.914 704.624,353.227 706.579,354.54 708.534,355.853 710.489,357.166 712.444,358.479 714.399,359.792 716.354,361.106 718.309,362.419 \n",
       "  720.263,363.732 722.218,365.045 724.173,366.358 726.128,367.671 728.083,368.984 730.038,370.297 731.993,371.61 733.948,372.923 735.903,374.236 737.857,375.549 \n",
       "  739.812,376.862 741.767,378.175 743.722,379.488 745.677,380.801 747.632,382.115 749.587,383.428 751.542,384.741 753.497,386.054 755.452,387.367 757.406,388.68 \n",
       "  759.361,389.993 761.316,391.306 763.271,392.619 765.226,393.932 767.181,395.245 769.136,396.558 771.091,397.871 773.046,399.184 775,400.497 776.955,401.81 \n",
       "  778.91,403.124 780.865,404.437 782.82,405.75 784.775,407.063 786.73,408.376 788.685,409.689 790.64,411.002 792.594,412.315 794.549,413.628 796.504,414.941 \n",
       "  798.459,416.254 800.414,417.567 802.369,418.88 804.324,420.193 806.279,421.506 808.234,422.819 810.188,424.133 812.143,425.446 814.098,426.759 816.053,428.072 \n",
       "  818.008,429.385 819.963,430.698 821.918,432.011 823.873,433.324 825.828,434.637 827.782,435.95 829.737,437.263 831.692,438.576 833.647,439.889 835.602,441.202 \n",
       "  837.557,442.515 839.512,443.828 841.467,445.142 843.422,446.455 845.376,447.768 847.331,449.081 849.286,450.394 851.241,451.707 853.196,453.02 855.151,454.333 \n",
       "  857.106,455.646 859.061,456.959 861.016,458.272 862.97,459.585 864.925,460.898 866.88,462.211 868.835,463.524 870.79,464.837 872.745,466.151 874.7,467.464 \n",
       "  876.655,468.777 878.61,470.09 880.564,471.403 882.519,472.716 884.474,474.029 886.429,475.342 888.384,476.655 890.339,477.968 892.294,479.281 894.249,480.594 \n",
       "  896.204,481.907 898.158,483.22 900.113,484.533 902.068,485.846 904.023,487.16 905.978,488.473 907.933,489.786 909.888,491.099 911.843,492.412 913.798,493.725 \n",
       "  915.752,495.038 917.707,496.351 919.662,497.664 921.617,498.977 923.572,500.29 925.527,501.603 927.482,502.916 929.437,504.229 931.392,505.542 933.347,506.855 \n",
       "  935.301,508.169 937.256,509.482 939.211,510.795 941.166,512.108 943.121,513.421 945.076,514.734 947.031,516.047 948.986,517.36 950.941,518.673 952.895,519.986 \n",
       "  954.85,521.299 956.805,522.612 958.76,523.925 960.715,525.238 962.67,526.551 964.625,527.865 966.58,529.178 968.535,530.491 970.489,531.804 972.444,533.117 \n",
       "  974.399,534.43 976.354,535.743 978.309,537.056 980.264,538.369 982.219,539.682 984.174,540.995 986.129,542.308 988.083,543.621 990.038,544.934 991.993,546.247 \n",
       "  993.948,547.56 995.903,548.874 997.858,550.187 999.813,551.5 1001.77,552.813 1003.72,554.126 1005.68,555.439 1007.63,556.752 1009.59,558.065 1011.54,559.378 \n",
       "  1013.5,560.691 1015.45,562.004 1017.41,563.317 1019.36,564.63 1021.32,565.943 1023.27,567.256 1025.23,568.569 1027.18,569.883 1029.14,571.196 1031.09,572.509 \n",
       "  1033.05,573.822 1035,575.135 1036.96,576.448 1038.91,577.761 1040.87,579.074 1042.82,580.387 1044.78,581.7 1046.73,583.013 1048.69,584.326 1050.64,585.639 \n",
       "  1052.59,586.952 1054.55,588.265 1056.5,589.578 1058.46,590.892 1060.41,592.205 1062.37,593.518 1064.32,594.831 1066.28,596.144 1068.23,597.457 1070.19,598.77 \n",
       "  1072.14,600.083 1074.1,601.396 1076.05,602.709 1078.01,604.022 1079.96,605.335 1081.92,606.648 1083.87,607.961 1085.83,609.274 1087.78,610.587 1089.74,611.901 \n",
       "  1091.69,613.214 1093.65,614.527 1095.6,615.84 1097.56,617.153 1099.51,618.466 1101.47,619.779 1103.42,621.092 1105.38,622.405 1107.33,623.718 1109.29,625.031 \n",
       "  1111.24,626.344 1113.2,627.657 1115.15,628.97 1117.11,630.283 1119.06,631.596 1121.02,632.91 1122.97,634.223 1124.93,635.536 1126.88,636.849 1128.84,638.162 \n",
       "  1130.79,639.475 1132.75,640.788 1134.7,642.101 1136.66,643.414 1138.61,644.727 1140.56,646.04 1142.52,647.353 1144.47,648.666 1146.43,649.979 1148.38,651.292 \n",
       "  1150.34,652.605 1152.29,653.919 1154.25,655.232 1156.2,656.545 1158.16,657.858 1160.11,659.171 1162.07,660.484 1164.02,661.797 1165.98,663.11 1167.93,664.423 \n",
       "  1169.89,665.736 1171.84,667.049 1173.8,668.362 1175.75,669.675 1177.71,670.988 1179.66,672.301 1181.62,673.614 1183.57,674.928 1185.53,676.241 1187.48,677.554 \n",
       "  1189.44,678.867 1191.39,680.18 1193.35,681.493 1195.3,682.806 1197.26,684.119 1199.21,685.432 1201.17,686.745 1203.12,688.058 1205.08,689.371 1207.03,690.684 \n",
       "  1208.99,691.997 1210.94,693.31 1212.9,694.623 1214.85,695.937 1216.81,697.25 1218.76,698.563 1220.72,699.876 1222.67,701.189 1224.63,702.502 1226.58,703.815 \n",
       "  1228.53,705.128 1230.49,706.441 1232.44,707.754 1234.4,709.067 1236.35,710.38 1238.31,711.693 1240.26,713.006 1242.22,714.319 1244.17,715.632 1246.13,716.946 \n",
       "  1248.08,718.259 1250.04,719.572 1251.99,720.885 1253.95,722.198 1255.9,723.511 1257.86,724.824 1259.81,726.137 1261.77,727.45 1263.72,728.763 1265.68,730.076 \n",
       "  1267.63,731.389 1269.59,732.702 1271.54,734.015 1273.5,735.328 1275.45,736.642 1277.41,737.955 1279.36,739.268 1281.32,740.581 1283.27,741.894 1285.23,743.207 \n",
       "  1287.18,744.52 1289.14,745.833 1291.09,747.146 1293.05,748.459 1295,749.772 1296.96,751.085 1298.91,752.398 1300.87,753.711 1302.82,755.024 1304.78,756.337 \n",
       "  1306.73,757.651 1308.69,758.964 1310.64,760.277 1312.6,761.59 1314.55,762.903 1316.5,764.216 1318.46,765.529 1320.41,766.842 1322.37,768.155 1324.32,769.468 \n",
       "  1326.28,770.781 1328.23,772.094 1330.19,773.407 1332.14,774.72 1334.1,776.033 1336.05,777.346 1338.01,778.66 1339.96,779.973 1341.92,781.286 1343.87,782.599 \n",
       "  1345.83,783.912 1347.78,785.225 1349.74,786.538 1351.69,787.851 1353.65,789.164 1355.6,790.477 1357.56,791.79 1359.51,793.103 1361.47,794.416 1363.42,795.729 \n",
       "  1365.38,797.042 1367.33,798.355 1369.29,799.669 1371.24,800.982 1373.2,802.295 1375.15,803.608 1377.11,804.921 1379.06,806.234 1381.02,807.547 1382.97,808.86 \n",
       "  1384.93,810.173 1386.88,811.486 1388.84,812.799 1390.79,814.112 1392.75,815.425 1394.7,816.738 1396.66,818.051 1398.61,819.364 1400.57,820.678 1402.52,821.991 \n",
       "  1404.48,823.304 1406.43,824.617 1408.38,825.93 1410.34,827.243 1412.29,828.556 1414.25,829.869 1416.2,831.182 1418.16,832.495 1420.11,833.808 1422.07,835.121 \n",
       "  1424.02,836.434 1425.98,837.747 1427.93,839.06 1429.89,840.373 1431.84,841.687 1433.8,843 1435.75,844.313 1437.71,845.626 1439.66,846.939 1441.62,848.252 \n",
       "  1443.57,849.565 1445.53,850.878 1447.48,852.191 1449.44,853.504 1451.39,854.817 1453.35,856.13 1455.3,857.443 1457.26,858.756 1459.21,860.069 1461.17,861.382 \n",
       "  1463.12,862.696 1465.08,864.009 1467.03,865.322 1468.99,866.635 1470.94,867.948 1472.9,869.261 1474.85,870.574 1476.81,871.887 1478.76,873.2 1480.72,874.513 \n",
       "  1482.67,875.826 1484.63,877.139 1486.58,878.452 1488.54,879.765 1490.49,881.078 1492.45,882.391 1494.4,883.705 1496.35,885.018 1498.31,886.331 1500.26,887.644 \n",
       "  1502.22,888.957 1504.17,890.27 1506.13,891.583 1508.08,892.896 1510.04,894.209 1511.99,895.522 1513.95,896.835 1515.9,898.148 1517.86,899.461 1519.81,900.774 \n",
       "  1521.77,902.087 1523.72,903.4 1525.68,904.714 1527.63,906.027 1529.59,907.34 1531.54,908.653 1533.5,909.966 1535.45,911.279 1537.41,912.592 1539.36,913.905 \n",
       "  1541.32,915.218 1543.27,916.531 1545.23,917.844 1547.18,919.157 1549.14,920.47 1551.09,921.783 1553.05,923.096 1555,924.409 1556.96,925.723 1558.91,927.036 \n",
       "  1560.87,928.349 1562.82,929.662 1564.78,930.975 1566.73,932.288 1568.69,933.601 1570.64,934.914 1572.6,936.227 1574.55,937.54 1576.51,938.853 1578.46,940.166 \n",
       "  1580.42,941.479 1582.37,942.792 1584.32,944.105 1586.28,945.419 1588.23,946.732 1590.19,948.045 1592.14,949.358 1594.1,950.671 1596.05,951.984 1598.01,953.297 \n",
       "  1599.96,954.61 1601.92,955.923 1603.87,957.236 1605.83,958.549 1607.78,959.862 1609.74,961.175 1611.69,962.488 1613.65,963.801 1615.6,965.114 1617.56,966.428 \n",
       "  1619.51,967.741 1621.47,969.054 1623.42,970.367 1625.38,971.68 1627.33,972.993 1629.29,974.306 1631.24,975.619 1633.2,976.932 1635.15,978.245 1637.11,979.558 \n",
       "  1639.06,980.871 1641.02,982.184 1642.97,983.497 1644.93,984.81 1646.88,986.123 1648.84,987.437 1650.79,988.75 1652.75,990.063 1654.7,991.376 1656.66,992.689 \n",
       "  1658.61,994.002 1660.57,995.315 1662.52,996.628 1664.48,997.941 1666.43,999.254 1668.39,1000.57 1670.34,1001.88 1672.29,1003.19 1674.25,1004.51 1676.2,1005.82 \n",
       "  1678.16,1007.13 1680.11,1008.45 1682.07,1009.76 1684.02,1011.07 1685.98,1012.38 1687.93,1013.7 1689.89,1015.01 1691.84,1016.32 1693.8,1017.64 1695.75,1018.95 \n",
       "  1697.71,1020.26 1699.66,1021.58 1701.62,1022.89 1703.57,1024.2 1705.53,1025.52 1707.48,1026.83 1709.44,1028.14 1711.39,1029.45 1713.35,1030.77 1715.3,1032.08 \n",
       "  1717.26,1033.39 1719.21,1034.71 1721.17,1036.02 1723.12,1037.33 1725.08,1038.65 1727.03,1039.96 1728.99,1041.27 1730.94,1042.59 1732.9,1043.9 1734.85,1045.21 \n",
       "  1736.81,1046.52 1738.76,1047.84 1740.72,1049.15 1742.67,1050.46 1744.63,1051.78 1746.58,1053.09 1748.54,1054.4 1750.49,1055.72 1752.45,1057.03 1754.4,1058.34 \n",
       "  1756.36,1059.65 1758.31,1060.97 1760.27,1062.28 1762.22,1063.59 1764.17,1064.91 1766.13,1066.22 1768.08,1067.53 1770.04,1068.85 1771.99,1070.16 1773.95,1071.47 \n",
       "  1775.9,1072.79 1777.86,1074.1 1779.81,1075.41 1781.77,1076.72 1783.72,1078.04 1785.68,1079.35 1787.63,1080.66 1789.59,1081.98 1791.54,1083.29 1793.5,1084.6 \n",
       "  1795.45,1085.92 1797.41,1087.23 1799.36,1088.54 1801.32,1089.86 1803.27,1091.17 1805.23,1092.48 1807.18,1093.79 1809.14,1095.11 1811.09,1096.42 1813.05,1097.73 \n",
       "  1815,1099.05 1816.96,1100.36 1818.91,1101.67 1820.87,1102.99 1822.82,1104.3 1824.78,1105.61 1826.73,1106.93 1828.69,1108.24 1830.64,1109.55 1832.6,1110.86 \n",
       "  1834.55,1112.18 1836.51,1113.49 1838.46,1114.8 1840.42,1116.12 1842.37,1117.43 1844.33,1118.74 1846.28,1120.06 1848.24,1121.37 1850.19,1122.68 1852.14,1124 \n",
       "  1854.1,1125.31 1856.05,1126.62 1858.01,1127.93 1859.96,1129.25 1861.92,1130.56 1863.87,1131.87 1865.83,1133.19 1867.78,1134.5 1869.74,1135.81 1871.69,1137.13 \n",
       "  1873.65,1138.44 1875.6,1139.75 1877.56,1141.06 1879.51,1142.38 1881.47,1143.69 1883.42,1145 1885.38,1146.32 1887.33,1147.63 1889.29,1148.94 1891.24,1150.26 \n",
       "  1893.2,1151.57 1895.15,1152.88 1897.11,1154.2 1899.06,1155.51 1901.02,1156.82 1902.97,1158.13 1904.93,1159.45 1906.88,1160.76 1908.84,1162.07 1910.79,1163.39 \n",
       "  1912.75,1164.7 1914.7,1166.01 1916.66,1167.33 1918.61,1168.64 1920.57,1169.95 1922.52,1171.27 1924.48,1172.58 1926.43,1173.89 1928.39,1175.2 1930.34,1176.52 \n",
       "  1932.3,1177.83 1934.25,1179.14 1936.21,1180.46 1938.16,1181.77 1940.11,1183.08 1942.07,1184.4 1944.02,1185.71 1945.98,1187.02 1947.93,1188.34 1949.89,1189.65 \n",
       "  1951.84,1190.96 1953.8,1192.27 1955.75,1193.59 1957.71,1194.9 1959.66,1196.21 1961.62,1197.53 1963.57,1198.84 1965.53,1200.15 1967.48,1201.47 1969.44,1202.78 \n",
       "  1971.39,1204.09 1973.35,1205.4 1975.3,1206.72 1977.26,1208.03 1979.21,1209.34 1981.17,1210.66 1983.12,1211.97 1985.08,1213.28 1987.03,1214.6 1988.99,1215.91 \n",
       "  1990.94,1217.22 1992.9,1218.54 1994.85,1219.85 1996.81,1221.16 1998.76,1222.47 2000.72,1223.79 2002.67,1225.1 2004.63,1226.41 2006.58,1227.73 2008.54,1229.04 \n",
       "  2010.49,1230.35 2012.45,1231.67 2014.4,1232.98 2016.36,1234.29 2018.31,1235.61 2020.27,1236.92 2022.22,1238.23 2024.18,1239.54 2026.13,1240.86 2028.08,1242.17 \n",
       "  2030.04,1243.48 2031.99,1244.8 2033.95,1246.11 2035.9,1247.42 2037.86,1248.74 2039.81,1250.05 2041.77,1251.36 2043.72,1252.68 2045.68,1253.99 2047.63,1255.3 \n",
       "  2049.59,1256.61 2051.54,1257.93 2053.5,1259.24 2055.45,1260.55 2057.41,1261.87 2059.36,1263.18 2061.32,1264.49 2063.27,1265.81 2065.23,1267.12 2067.18,1268.43 \n",
       "  2069.14,1269.75 2071.09,1271.06 2073.05,1272.37 2075,1273.68 2076.96,1275 2078.91,1276.31 2080.87,1277.62 2082.82,1278.94 2084.78,1280.25 2086.73,1281.56 \n",
       "  2088.69,1282.88 2090.64,1284.19 2092.6,1285.5 2094.55,1286.81 2096.51,1288.13 2098.46,1289.44 2100.42,1290.75 2102.37,1292.07 2104.33,1293.38 2106.28,1294.69 \n",
       "  2108.24,1296.01 2110.19,1297.32 2112.15,1298.63 2114.1,1299.95 2116.06,1301.26 2118.01,1302.57 2119.96,1303.88 2121.92,1305.2 2123.87,1306.51 2125.83,1307.82 \n",
       "  2127.78,1309.14 2129.74,1310.45 2131.69,1311.76 2133.65,1313.08 2135.6,1314.39 2137.56,1315.7 2139.51,1317.02 2141.47,1318.33 2143.42,1319.64 2145.38,1320.95 \n",
       "  2147.33,1322.27 2149.29,1323.58 2151.24,1324.89 2153.2,1326.21 2155.15,1327.52 2157.11,1328.83 2159.06,1330.15 2161.02,1331.46 2162.97,1332.77 2164.93,1334.09 \n",
       "  2166.88,1335.4 2168.84,1336.71 2170.79,1338.02 2172.75,1339.34 2174.7,1340.65 2176.66,1341.96 2178.61,1343.28 2180.57,1344.59 2182.52,1345.9 2184.48,1347.22 \n",
       "  2186.43,1348.53 2188.39,1349.84 2190.34,1351.15 2192.3,1352.47 2194.25,1353.78 2196.21,1355.09 2198.16,1356.41 2200.12,1357.72 2202.07,1359.03 2204.03,1360.35 \n",
       "  2205.98,1361.66 2207.93,1362.97 2209.89,1364.29 2211.84,1365.6 2213.8,1366.91 2215.75,1368.22 2217.71,1369.54 2219.66,1370.85 2221.62,1372.16 2223.57,1373.48 \n",
       "  2225.53,1374.79 2227.48,1376.1 2229.44,1377.42 2231.39,1378.73 2233.35,1380.04 2235.3,1381.36 2237.26,1382.67 2239.21,1383.98 2241.17,1385.29 2243.12,1386.61 \n",
       "  2245.08,1387.92 2247.03,1389.23 2248.99,1390.55 2250.94,1391.86 2252.9,1393.17 2254.85,1394.49 2256.81,1395.8 2258.76,1397.11 2260.72,1398.43 2262.67,1399.74 \n",
       "  \n",
       "  \"/>\n",
       "<polyline clip-path=\"url(#clip9903)\" style=\"stroke:#e26f46; stroke-width:4; stroke-opacity:1; fill:none\" points=\"\n",
       "  309.737,86.6754 311.691,1401.05 313.646,1401.05 315.601,1401.05 317.556,1401.05 319.511,1401.05 321.466,1401.05 323.421,1401.05 325.376,1401.05 327.331,1401.05 \n",
       "  329.285,1401.05 331.24,1401.05 333.195,1401.05 335.15,1401.05 337.105,1401.05 339.06,1401.05 341.015,1401.05 342.97,1401.05 344.925,1401.05 346.879,1401.05 \n",
       "  348.834,1401.05 350.789,1401.05 352.744,1401.05 354.699,1401.05 356.654,1401.05 358.609,1401.05 360.564,1401.05 362.519,1401.05 364.473,1401.05 366.428,1401.05 \n",
       "  368.383,1401.05 370.338,1401.05 372.293,1401.05 374.248,1401.05 376.203,1401.05 378.158,1401.05 380.113,1401.05 382.067,1401.05 384.022,1401.05 385.977,1401.05 \n",
       "  387.932,1401.05 389.887,1401.05 391.842,1401.05 393.797,1401.05 395.752,1401.05 397.707,1401.05 399.662,1401.05 401.616,1401.05 403.571,1401.05 405.526,1401.05 \n",
       "  407.481,1401.05 409.436,1401.05 411.391,1401.05 413.346,1401.05 415.301,1401.05 417.256,1401.05 419.21,1401.05 421.165,1401.05 423.12,1401.05 425.075,1401.05 \n",
       "  427.03,1401.05 428.985,1401.05 430.94,1401.05 432.895,1401.05 434.85,1401.05 436.804,1401.05 438.759,1401.05 440.714,1401.05 442.669,1401.05 444.624,1401.05 \n",
       "  446.579,1401.05 448.534,1401.05 450.489,1401.05 452.444,1401.05 454.398,1401.05 456.353,1401.05 458.308,1401.05 460.263,1401.05 462.218,1401.05 464.173,1401.05 \n",
       "  466.128,1401.05 468.083,1401.05 470.038,1401.05 471.992,1401.05 473.947,1401.05 475.902,1401.05 477.857,1401.05 479.812,1401.05 481.767,1401.05 483.722,1401.05 \n",
       "  485.677,1401.05 487.632,1401.05 489.586,1401.05 491.541,1401.05 493.496,1401.05 495.451,1401.05 497.406,1401.05 499.361,1401.05 501.316,1401.05 503.271,1401.05 \n",
       "  505.226,1401.05 507.18,1401.05 509.135,1401.05 511.09,1401.05 513.045,1401.05 515,1401.05 516.955,1401.05 518.91,1401.05 520.865,1401.05 522.82,1401.05 \n",
       "  524.774,1401.05 526.729,1401.05 528.684,1401.05 530.639,1401.05 532.594,1401.05 534.549,1401.05 536.504,1401.05 538.459,1401.05 540.414,1401.05 542.368,1401.05 \n",
       "  544.323,1401.05 546.278,1401.05 548.233,1401.05 550.188,1401.05 552.143,1401.05 554.098,1401.05 556.053,1401.05 558.008,1401.05 559.962,1401.05 561.917,1401.05 \n",
       "  563.872,1401.05 565.827,1401.05 567.782,1401.05 569.737,1401.05 571.692,1401.05 573.647,1401.05 575.602,1401.05 577.557,1401.05 579.511,1401.05 581.466,1401.05 \n",
       "  583.421,1401.05 585.376,1401.05 587.331,1401.05 589.286,1401.05 591.241,1401.05 593.196,1401.05 595.151,1401.05 597.105,1401.05 599.06,1401.05 601.015,1401.05 \n",
       "  602.97,1401.05 604.925,1401.05 606.88,1401.05 608.835,1401.05 610.79,1401.05 612.745,1401.05 614.699,1401.05 616.654,1401.05 618.609,1401.05 620.564,1401.05 \n",
       "  622.519,1401.05 624.474,1401.05 626.429,1401.05 628.384,1401.05 630.339,1401.05 632.293,1401.05 634.248,1401.05 636.203,1401.05 638.158,1401.05 640.113,1401.05 \n",
       "  642.068,1401.05 644.023,1401.05 645.978,1401.05 647.933,1401.05 649.887,1401.05 651.842,1401.05 653.797,1401.05 655.752,1401.05 657.707,1401.05 659.662,1401.05 \n",
       "  661.617,1401.05 663.572,1401.05 665.527,1401.05 667.481,1401.05 669.436,1401.05 671.391,1401.05 673.346,1401.05 675.301,1401.05 677.256,1401.05 679.211,1401.05 \n",
       "  681.166,1401.05 683.121,1401.05 685.075,1401.05 687.03,1401.05 688.985,1401.05 690.94,1401.05 692.895,1401.05 694.85,1401.05 696.805,1401.05 698.76,1401.05 \n",
       "  700.715,1401.05 702.669,1401.05 704.624,1401.05 706.579,1401.05 708.534,1401.05 710.489,1401.05 712.444,1401.05 714.399,1401.05 716.354,1401.05 718.309,1401.05 \n",
       "  720.263,1401.05 722.218,1401.05 724.173,1401.05 726.128,1401.05 728.083,1401.05 730.038,1401.05 731.993,1401.05 733.948,1401.05 735.903,1401.05 737.857,1401.05 \n",
       "  739.812,1401.05 741.767,1401.05 743.722,1401.05 745.677,1401.05 747.632,1401.05 749.587,1401.05 751.542,1401.05 753.497,1401.05 755.452,1401.05 757.406,1401.05 \n",
       "  759.361,1401.05 761.316,1401.05 763.271,1401.05 765.226,1401.05 767.181,1401.05 769.136,1401.05 771.091,1401.05 773.046,1401.05 775,1401.05 776.955,1401.05 \n",
       "  778.91,1401.05 780.865,1401.05 782.82,1401.05 784.775,1401.05 786.73,1401.05 788.685,1401.05 790.64,1401.05 792.594,1401.05 794.549,1401.05 796.504,1401.05 \n",
       "  798.459,1401.05 800.414,1401.05 802.369,1401.05 804.324,1401.05 806.279,1401.05 808.234,1401.05 810.188,1401.05 812.143,1401.05 814.098,1401.05 816.053,1401.05 \n",
       "  818.008,1401.05 819.963,1401.05 821.918,1401.05 823.873,1401.05 825.828,1401.05 827.782,1401.05 829.737,1401.05 831.692,1401.05 833.647,1401.05 835.602,1401.05 \n",
       "  837.557,1401.05 839.512,1401.05 841.467,1401.05 843.422,1401.05 845.376,1401.05 847.331,1401.05 849.286,1401.05 851.241,1401.05 853.196,1401.05 855.151,1401.05 \n",
       "  857.106,1401.05 859.061,1401.05 861.016,1401.05 862.97,1401.05 864.925,1401.05 866.88,1401.05 868.835,1401.05 870.79,1401.05 872.745,1401.05 874.7,1401.05 \n",
       "  876.655,1401.05 878.61,1401.05 880.564,1401.05 882.519,1401.05 884.474,1401.05 886.429,1401.05 888.384,1401.05 890.339,1401.05 892.294,1401.05 894.249,1401.05 \n",
       "  896.204,1401.05 898.158,1401.05 900.113,1401.05 902.068,1401.05 904.023,1401.05 905.978,1401.05 907.933,1401.05 909.888,1401.05 911.843,1401.05 913.798,1401.05 \n",
       "  915.752,1401.05 917.707,1401.05 919.662,1401.05 921.617,1401.05 923.572,1401.05 925.527,1401.05 927.482,1401.05 929.437,1401.05 931.392,1401.05 933.347,1401.05 \n",
       "  935.301,1401.05 937.256,1401.05 939.211,1401.05 941.166,1401.05 943.121,1401.05 945.076,1401.05 947.031,1401.05 948.986,1401.05 950.941,1401.05 952.895,1401.05 \n",
       "  954.85,1401.05 956.805,1401.05 958.76,1401.05 960.715,1401.05 962.67,1401.05 964.625,1401.05 966.58,1401.05 968.535,1401.05 970.489,1401.05 972.444,1401.05 \n",
       "  974.399,1401.05 976.354,1401.05 978.309,1401.05 980.264,1401.05 982.219,1401.05 984.174,1401.05 986.129,1401.05 988.083,1401.05 990.038,1401.05 991.993,1401.05 \n",
       "  993.948,1401.05 995.903,1401.05 997.858,1401.05 999.813,1401.05 1001.77,1401.05 1003.72,1401.05 1005.68,1401.05 1007.63,1401.05 1009.59,1401.05 1011.54,1401.05 \n",
       "  1013.5,1401.05 1015.45,1401.05 1017.41,1401.05 1019.36,1401.05 1021.32,1401.05 1023.27,1401.05 1025.23,1401.05 1027.18,1401.05 1029.14,1401.05 1031.09,1401.05 \n",
       "  1033.05,1401.05 1035,1401.05 1036.96,1401.05 1038.91,1401.05 1040.87,1401.05 1042.82,1401.05 1044.78,1401.05 1046.73,1401.05 1048.69,1401.05 1050.64,1401.05 \n",
       "  1052.59,1401.05 1054.55,1401.05 1056.5,1401.05 1058.46,1401.05 1060.41,1401.05 1062.37,1401.05 1064.32,1401.05 1066.28,1401.05 1068.23,1401.05 1070.19,1401.05 \n",
       "  1072.14,1401.05 1074.1,1401.05 1076.05,1401.05 1078.01,1401.05 1079.96,1401.05 1081.92,1401.05 1083.87,1401.05 1085.83,1401.05 1087.78,1401.05 1089.74,1401.05 \n",
       "  1091.69,1401.05 1093.65,1401.05 1095.6,1401.05 1097.56,1401.05 1099.51,1401.05 1101.47,1401.05 1103.42,1401.05 1105.38,1401.05 1107.33,1401.05 1109.29,1401.05 \n",
       "  1111.24,1401.05 1113.2,1401.05 1115.15,1401.05 1117.11,1401.05 1119.06,1401.05 1121.02,1401.05 1122.97,1401.05 1124.93,1401.05 1126.88,1401.05 1128.84,1401.05 \n",
       "  1130.79,1401.05 1132.75,1401.05 1134.7,1401.05 1136.66,1401.05 1138.61,1401.05 1140.56,1401.05 1142.52,1401.05 1144.47,1401.05 1146.43,1401.05 1148.38,1401.05 \n",
       "  1150.34,1401.05 1152.29,1401.05 1154.25,1401.05 1156.2,1401.05 1158.16,1401.05 1160.11,1401.05 1162.07,1401.05 1164.02,1401.05 1165.98,1401.05 1167.93,1401.05 \n",
       "  1169.89,1401.05 1171.84,1401.05 1173.8,1401.05 1175.75,1401.05 1177.71,1401.05 1179.66,1401.05 1181.62,1401.05 1183.57,1401.05 1185.53,1401.05 1187.48,1401.05 \n",
       "  1189.44,1401.05 1191.39,1401.05 1193.35,1401.05 1195.3,1401.05 1197.26,1401.05 1199.21,1401.05 1201.17,1401.05 1203.12,1401.05 1205.08,1401.05 1207.03,1401.05 \n",
       "  1208.99,1401.05 1210.94,1401.05 1212.9,1401.05 1214.85,1401.05 1216.81,1401.05 1218.76,1401.05 1220.72,1401.05 1222.67,1401.05 1224.63,1401.05 1226.58,1401.05 \n",
       "  1228.53,1401.05 1230.49,1401.05 1232.44,1401.05 1234.4,1401.05 1236.35,1401.05 1238.31,1401.05 1240.26,1401.05 1242.22,1401.05 1244.17,1401.05 1246.13,1401.05 \n",
       "  1248.08,1401.05 1250.04,1401.05 1251.99,1401.05 1253.95,1401.05 1255.9,1401.05 1257.86,1401.05 1259.81,1401.05 1261.77,1401.05 1263.72,1401.05 1265.68,1401.05 \n",
       "  1267.63,1401.05 1269.59,1401.05 1271.54,1401.05 1273.5,1401.05 1275.45,1401.05 1277.41,1401.05 1279.36,1401.05 1281.32,1401.05 1283.27,1401.05 1285.23,1401.05 \n",
       "  1287.18,1401.05 1289.14,1401.05 1291.09,1401.05 1293.05,1401.05 1295,1401.05 1296.96,1401.05 1298.91,1401.05 1300.87,1401.05 1302.82,1401.05 1304.78,1401.05 \n",
       "  1306.73,1401.05 1308.69,1401.05 1310.64,1401.05 1312.6,1401.05 1314.55,1401.05 1316.5,1401.05 1318.46,1401.05 1320.41,1401.05 1322.37,1401.05 1324.32,1401.05 \n",
       "  1326.28,1401.05 1328.23,1401.05 1330.19,1401.05 1332.14,1401.05 1334.1,1401.05 1336.05,1401.05 1338.01,1401.05 1339.96,1401.05 1341.92,1401.05 1343.87,1401.05 \n",
       "  1345.83,1401.05 1347.78,1401.05 1349.74,1401.05 1351.69,1401.05 1353.65,1401.05 1355.6,1401.05 1357.56,1401.05 1359.51,1401.05 1361.47,1401.05 1363.42,1401.05 \n",
       "  1365.38,1401.05 1367.33,1401.05 1369.29,1401.05 1371.24,1401.05 1373.2,1401.05 1375.15,1401.05 1377.11,1401.05 1379.06,1401.05 1381.02,1401.05 1382.97,1401.05 \n",
       "  1384.93,1401.05 1386.88,1401.05 1388.84,1401.05 1390.79,1401.05 1392.75,1401.05 1394.7,1401.05 1396.66,1401.05 1398.61,1401.05 1400.57,1401.05 1402.52,1401.05 \n",
       "  1404.48,1401.05 1406.43,1401.05 1408.38,1401.05 1410.34,1401.05 1412.29,1401.05 1414.25,1401.05 1416.2,1401.05 1418.16,1401.05 1420.11,1401.05 1422.07,1401.05 \n",
       "  1424.02,1401.05 1425.98,1401.05 1427.93,1401.05 1429.89,1401.05 1431.84,1401.05 1433.8,1401.05 1435.75,1401.05 1437.71,1401.05 1439.66,1401.05 1441.62,1401.05 \n",
       "  1443.57,1401.05 1445.53,1401.05 1447.48,1401.05 1449.44,1401.05 1451.39,1401.05 1453.35,1401.05 1455.3,1401.05 1457.26,1401.05 1459.21,1401.05 1461.17,1401.05 \n",
       "  1463.12,1401.05 1465.08,1401.05 1467.03,1401.05 1468.99,1401.05 1470.94,1401.05 1472.9,1401.05 1474.85,1401.05 1476.81,1401.05 1478.76,1401.05 1480.72,1401.05 \n",
       "  1482.67,1401.05 1484.63,1401.05 1486.58,1401.05 1488.54,1401.05 1490.49,1401.05 1492.45,1401.05 1494.4,1401.05 1496.35,1401.05 1498.31,1401.05 1500.26,1401.05 \n",
       "  1502.22,1401.05 1504.17,1401.05 1506.13,1401.05 1508.08,1401.05 1510.04,1401.05 1511.99,1401.05 1513.95,1401.05 1515.9,1401.05 1517.86,1401.05 1519.81,1401.05 \n",
       "  1521.77,1401.05 1523.72,1401.05 1525.68,1401.05 1527.63,1401.05 1529.59,1401.05 1531.54,1401.05 1533.5,1401.05 1535.45,1401.05 1537.41,1401.05 1539.36,1401.05 \n",
       "  1541.32,1401.05 1543.27,1401.05 1545.23,1401.05 1547.18,1401.05 1549.14,1401.05 1551.09,1401.05 1553.05,1401.05 1555,1401.05 1556.96,1401.05 1558.91,1401.05 \n",
       "  1560.87,1401.05 1562.82,1401.05 1564.78,1401.05 1566.73,1401.05 1568.69,1401.05 1570.64,1401.05 1572.6,1401.05 1574.55,1401.05 1576.51,1401.05 1578.46,1401.05 \n",
       "  1580.42,1401.05 1582.37,1401.05 1584.32,1401.05 1586.28,1401.05 1588.23,1401.05 1590.19,1401.05 1592.14,1401.05 1594.1,1401.05 1596.05,1401.05 1598.01,1401.05 \n",
       "  1599.96,1401.05 1601.92,1401.05 1603.87,1401.05 1605.83,1401.05 1607.78,1401.05 1609.74,1401.05 1611.69,1401.05 1613.65,1401.05 1615.6,1401.05 1617.56,1401.05 \n",
       "  1619.51,1401.05 1621.47,1401.05 1623.42,1401.05 1625.38,1401.05 1627.33,1401.05 1629.29,1401.05 1631.24,1401.05 1633.2,1401.05 1635.15,1401.05 1637.11,1401.05 \n",
       "  1639.06,1401.05 1641.02,1401.05 1642.97,1401.05 1644.93,1401.05 1646.88,1401.05 1648.84,1401.05 1650.79,1401.05 1652.75,1401.05 1654.7,1401.05 1656.66,1401.05 \n",
       "  1658.61,1401.05 1660.57,1401.05 1662.52,1401.05 1664.48,1401.05 1666.43,1401.05 1668.39,1401.05 1670.34,1401.05 1672.29,1401.05 1674.25,1401.05 1676.2,1401.05 \n",
       "  1678.16,1401.05 1680.11,1401.05 1682.07,1401.05 1684.02,1401.05 1685.98,1401.05 1687.93,1401.05 1689.89,1401.05 1691.84,1401.05 1693.8,1401.05 1695.75,1401.05 \n",
       "  1697.71,1401.05 1699.66,1401.05 1701.62,1401.05 1703.57,1401.05 1705.53,1401.05 1707.48,1401.05 1709.44,1401.05 1711.39,1401.05 1713.35,1401.05 1715.3,1401.05 \n",
       "  1717.26,1401.05 1719.21,1401.05 1721.17,1401.05 1723.12,1401.05 1725.08,1401.05 1727.03,1401.05 1728.99,1401.05 1730.94,1401.05 1732.9,1401.05 1734.85,1401.05 \n",
       "  1736.81,1401.05 1738.76,1401.05 1740.72,1401.05 1742.67,1401.05 1744.63,1401.05 1746.58,1401.05 1748.54,1401.05 1750.49,1401.05 1752.45,1401.05 1754.4,1401.05 \n",
       "  1756.36,1401.05 1758.31,1401.05 1760.27,1401.05 1762.22,1401.05 1764.17,1401.05 1766.13,1401.05 1768.08,1401.05 1770.04,1401.05 1771.99,1401.05 1773.95,1401.05 \n",
       "  1775.9,1401.05 1777.86,1401.05 1779.81,1401.05 1781.77,1401.05 1783.72,1401.05 1785.68,1401.05 1787.63,1401.05 1789.59,1401.05 1791.54,1401.05 1793.5,1401.05 \n",
       "  1795.45,1401.05 1797.41,1401.05 1799.36,1401.05 1801.32,1401.05 1803.27,1401.05 1805.23,1401.05 1807.18,1401.05 1809.14,1401.05 1811.09,1401.05 1813.05,1401.05 \n",
       "  1815,1401.05 1816.96,1401.05 1818.91,1401.05 1820.87,1401.05 1822.82,1401.05 1824.78,1401.05 1826.73,1401.05 1828.69,1401.05 1830.64,1401.05 1832.6,1401.05 \n",
       "  1834.55,1401.05 1836.51,1401.05 1838.46,1401.05 1840.42,1401.05 1842.37,1401.05 1844.33,1401.05 1846.28,1401.05 1848.24,1401.05 1850.19,1401.05 1852.14,1401.05 \n",
       "  1854.1,1401.05 1856.05,1401.05 1858.01,1401.05 1859.96,1401.05 1861.92,1401.05 1863.87,1401.05 1865.83,1401.05 1867.78,1401.05 1869.74,1401.05 1871.69,1401.05 \n",
       "  1873.65,1401.05 1875.6,1401.05 1877.56,1401.05 1879.51,1401.05 1881.47,1401.05 1883.42,1401.05 1885.38,1401.05 1887.33,1401.05 1889.29,1401.05 1891.24,1401.05 \n",
       "  1893.2,1401.05 1895.15,1401.05 1897.11,1401.05 1899.06,1401.05 1901.02,1401.05 1902.97,1401.05 1904.93,1401.05 1906.88,1401.05 1908.84,1401.05 1910.79,1401.05 \n",
       "  1912.75,1401.05 1914.7,1401.05 1916.66,1401.05 1918.61,1401.05 1920.57,1401.05 1922.52,1401.05 1924.48,1401.05 1926.43,1401.05 1928.39,1401.05 1930.34,1401.05 \n",
       "  1932.3,1401.05 1934.25,1401.05 1936.21,1401.05 1938.16,1401.05 1940.11,1401.05 1942.07,1401.05 1944.02,1401.05 1945.98,1401.05 1947.93,1401.05 1949.89,1401.05 \n",
       "  1951.84,1401.05 1953.8,1401.05 1955.75,1401.05 1957.71,1401.05 1959.66,1401.05 1961.62,1401.05 1963.57,1401.05 1965.53,1401.05 1967.48,1401.05 1969.44,1401.05 \n",
       "  1971.39,1401.05 1973.35,1401.05 1975.3,1401.05 1977.26,1401.05 1979.21,1401.05 1981.17,1401.05 1983.12,1401.05 1985.08,1401.05 1987.03,1401.05 1988.99,1401.05 \n",
       "  1990.94,1401.05 1992.9,1401.05 1994.85,1401.05 1996.81,1401.05 1998.76,1401.05 2000.72,1401.05 2002.67,1401.05 2004.63,1401.05 2006.58,1401.05 2008.54,1401.05 \n",
       "  2010.49,1401.05 2012.45,1401.05 2014.4,1401.05 2016.36,1401.05 2018.31,1401.05 2020.27,1401.05 2022.22,1401.05 2024.18,1401.05 2026.13,1401.05 2028.08,1401.05 \n",
       "  2030.04,1401.05 2031.99,1401.05 2033.95,1401.05 2035.9,1401.05 2037.86,1401.05 2039.81,1401.05 2041.77,1401.05 2043.72,1401.05 2045.68,1401.05 2047.63,1401.05 \n",
       "  2049.59,1401.05 2051.54,1401.05 2053.5,1401.05 2055.45,1401.05 2057.41,1401.05 2059.36,1401.05 2061.32,1401.05 2063.27,1401.05 2065.23,1401.05 2067.18,1401.05 \n",
       "  2069.14,1401.05 2071.09,1401.05 2073.05,1401.05 2075,1401.05 2076.96,1401.05 2078.91,1401.05 2080.87,1401.05 2082.82,1401.05 2084.78,1401.05 2086.73,1401.05 \n",
       "  2088.69,1401.05 2090.64,1401.05 2092.6,1401.05 2094.55,1401.05 2096.51,1401.05 2098.46,1401.05 2100.42,1401.05 2102.37,1401.05 2104.33,1401.05 2106.28,1401.05 \n",
       "  2108.24,1401.05 2110.19,1401.05 2112.15,1401.05 2114.1,1401.05 2116.06,1401.05 2118.01,1401.05 2119.96,1401.05 2121.92,1401.05 2123.87,1401.05 2125.83,1401.05 \n",
       "  2127.78,1401.05 2129.74,1401.05 2131.69,1401.05 2133.65,1401.05 2135.6,1401.05 2137.56,1401.05 2139.51,1401.05 2141.47,1401.05 2143.42,1401.05 2145.38,1401.05 \n",
       "  2147.33,1401.05 2149.29,1401.05 2151.24,1401.05 2153.2,1401.05 2155.15,1401.05 2157.11,1401.05 2159.06,1401.05 2161.02,1401.05 2162.97,1401.05 2164.93,1401.05 \n",
       "  2166.88,1401.05 2168.84,1401.05 2170.79,1401.05 2172.75,1401.05 2174.7,1401.05 2176.66,1401.05 2178.61,1401.05 2180.57,1401.05 2182.52,1401.05 2184.48,1401.05 \n",
       "  2186.43,1401.05 2188.39,1401.05 2190.34,1401.05 2192.3,1401.05 2194.25,1401.05 2196.21,1401.05 2198.16,1401.05 2200.12,1401.05 2202.07,1401.05 2204.03,1401.05 \n",
       "  2205.98,1401.05 2207.93,1401.05 2209.89,1401.05 2211.84,1401.05 2213.8,1401.05 2215.75,1401.05 2217.71,1401.05 2219.66,1401.05 2221.62,1401.05 2223.57,1401.05 \n",
       "  2225.53,1401.05 2227.48,1401.05 2229.44,1401.05 2231.39,1401.05 2233.35,1401.05 2235.3,1401.05 2237.26,1401.05 2239.21,1401.05 2241.17,1401.05 2243.12,1401.05 \n",
       "  2245.08,1401.05 2247.03,1401.05 2248.99,1401.05 2250.94,1401.05 2252.9,1401.05 2254.85,1401.05 2256.81,1401.05 2258.76,1401.05 2260.72,1401.05 2262.67,1401.05 \n",
       "  \n",
       "  \"/>\n",
       "</svg>\n"
      ]
     },
     "execution_count": 164,
     "metadata": {},
     "output_type": "execute_result"
    }
   ],
   "source": [
    "plot(x,legend=false,xlabel=\"Position\",ylabel=\"Voltage (V)\")\n",
    "plot!(b,legend=false)"
   ]
  },
  {
   "cell_type": "code",
   "execution_count": null,
   "metadata": {},
   "outputs": [],
   "source": []
  }
 ],
 "metadata": {
  "kernelspec": {
   "display_name": "Julia 1.1.0",
   "language": "julia",
   "name": "julia-1.1"
  },
  "language_info": {
   "file_extension": ".jl",
   "mimetype": "application/julia",
   "name": "julia",
   "version": "1.1.0"
  }
 },
 "nbformat": 4,
 "nbformat_minor": 2
}
