{
 "cells": [
  {
   "cell_type": "markdown",
   "metadata": {},
   "source": [
    "# Numerical Methods - Week 3\n",
    "## Kiran Shila - U54532811\n",
    "\n",
    "In this notebook, I will demonstrate the deliverables for the week 3 assignment."
   ]
  },
  {
   "cell_type": "markdown",
   "metadata": {},
   "source": [
    "## Gaussian Elimination\n",
    "The first part of this assignment was to write gaussian elimination code that utilizes partial pivoting"
   ]
  },
  {
   "cell_type": "code",
   "execution_count": 19,
   "metadata": {},
   "outputs": [],
   "source": [
    "using BenchmarkTools\n",
    "using LinearAlgebra"
   ]
  },
  {
   "cell_type": "code",
   "execution_count": 2,
   "metadata": {},
   "outputs": [
    {
     "data": {
      "text/plain": [
       "gauss_elim (generic function with 1 method)"
      ]
     },
     "execution_count": 2,
     "metadata": {},
     "output_type": "execute_result"
    }
   ],
   "source": [
    "function gauss_elim(A::Matrix,b::Vector)\n",
    "    # Create augmented matrix\n",
    "    # make sure its a float otherwise we get float errors\n",
    "    n = size(b)[1]\n",
    "    A_Aug = float([A b])\n",
    "    # For every column except the last one because pivots\n",
    "    for k = 1:n-1\n",
    "        # Find the largest pivot in this column, referenced to the pivot\n",
    "        location = findmax(broadcast(abs,A_Aug[k:end,k]))[2] + k - 1\n",
    "        maxVal = A_Aug[location,k]\n",
    "        # Check to see if current pivot is the max,\n",
    "        # if it isn't - swap\n",
    "        if A_Aug[k,k] != maxVal\n",
    "            for j in k:n+1\n",
    "                A_Aug[location,j], A_Aug[k,j] = A_Aug[k,j], A_Aug[location,j]\n",
    "            end\n",
    "        end\n",
    "        # Now perform gaussian elimination\n",
    "        # For every row under the pivot\n",
    "        for i = k+1:n\n",
    "            # Normalize to the pivot and subtract from pivot row\n",
    "            if A_Aug[i,k] != 0 # Ensures that we need to perform elimination\n",
    "                scale = A_Aug[k,k] / A_Aug[i,k]\n",
    "                for j in k:n+1 # Start at this column to the end including augmentation\n",
    "                    A_Aug[i,j] = A_Aug[i,j] * scale\n",
    "                    A_Aug[i,j] = A_Aug[i,j] - A_Aug[k,j]\n",
    "                    if abs(A_Aug[i,j]) < eps()\n",
    "                        A_Aug[i,j] = 0 # For stability against epsilon\n",
    "                    end\n",
    "                end\n",
    "            end\n",
    "        end\n",
    "    end\n",
    "    # Now back substitute to get to x\n",
    "    x = zeros(Float64,n) # Create zeros for solution vector\n",
    "    x[n] = A_Aug[end,end] / A_Aug[n,n] # Set the starting x\n",
    "    # For every row, working backwards starting with the second from the bottom\n",
    "    for i in n-1:-1:1\n",
    "        x[i] = (A_Aug[i,end] - sum( [x[j] * A_Aug[i,j] for j in i+1:n] )) / A_Aug[i,i]\n",
    "    end\n",
    "    # Return solution vector x and U\n",
    "    return x, A_Aug[:,1:end-1]\n",
    "end"
   ]
  },
  {
   "cell_type": "markdown",
   "metadata": {},
   "source": [
    "Now to test against the examples from the assignment:\n",
    "\\begin{equation*}\n",
    "\\mathbf{A} =  \\begin{vmatrix}\n",
    "1 & 2 & 1\\\\\n",
    "3 & 8 & 1\\\\\n",
    "0 & 4 & 1\n",
    "\\end{vmatrix}\n",
    "\\end{equation*}\n",
    "\n",
    "\\begin{equation*}\n",
    "\\mathbf{b} =  \\begin{vmatrix}\n",
    "2 \\\\ 12 \\\\ 2\n",
    "\\end{vmatrix}\n",
    "\\end{equation*}"
   ]
  },
  {
   "cell_type": "code",
   "execution_count": 3,
   "metadata": {},
   "outputs": [
    {
     "data": {
      "text/plain": [
       "3-element Array{Float64,1}:\n",
       "  2.0\n",
       "  1.0\n",
       " -2.0"
      ]
     },
     "execution_count": 3,
     "metadata": {},
     "output_type": "execute_result"
    }
   ],
   "source": [
    "A = [1 2 1; 3 8 1; 0 4 1]\n",
    "b = [2;12;2]\n",
    "x,U = gauss_elim(A,b)\n",
    "x"
   ]
  },
  {
   "cell_type": "markdown",
   "metadata": {},
   "source": [
    "This matches what was expected from the assignment. Just to compare to the built-in solver:"
   ]
  },
  {
   "cell_type": "code",
   "execution_count": 4,
   "metadata": {},
   "outputs": [
    {
     "data": {
      "text/plain": [
       "3-element Array{Float64,1}:\n",
       "  2.0\n",
       "  1.0\n",
       " -2.0"
      ]
     },
     "execution_count": 4,
     "metadata": {},
     "output_type": "execute_result"
    }
   ],
   "source": [
    "A\\b"
   ]
  },
  {
   "cell_type": "markdown",
   "metadata": {},
   "source": [
    "And checking the upper triangular that we used to perform back-substitution"
   ]
  },
  {
   "cell_type": "code",
   "execution_count": 5,
   "metadata": {},
   "outputs": [
    {
     "data": {
      "text/plain": [
       "3×3 Array{Float64,2}:\n",
       " 3.0  8.0   1.0\n",
       " 0.0  4.0   1.0\n",
       " 0.0  0.0  -5.0"
      ]
     },
     "execution_count": 5,
     "metadata": {},
     "output_type": "execute_result"
    }
   ],
   "source": [
    "U"
   ]
  },
  {
   "cell_type": "markdown",
   "metadata": {},
   "source": [
    "Trying out the other example:\n",
    "\\begin{equation*}\n",
    "\\mathbf{A} =  \\begin{vmatrix}\n",
    "2 & 6 & 10\\\\\n",
    "1 & 3 & 3\\\\\n",
    "3 & 14 & 28\n",
    "\\end{vmatrix}\n",
    "\\end{equation*}\n",
    "\n",
    "\\begin{equation*}\n",
    "\\mathbf{b} =  \\begin{vmatrix}\n",
    "0 \\\\ 2 \\\\ -8\n",
    "\\end{vmatrix}\n",
    "\\end{equation*}"
   ]
  },
  {
   "cell_type": "code",
   "execution_count": 6,
   "metadata": {},
   "outputs": [
    {
     "data": {
      "text/plain": [
       "3-element Array{Float64,1}:\n",
       "  2.0\n",
       "  1.0\n",
       " -1.0"
      ]
     },
     "execution_count": 6,
     "metadata": {},
     "output_type": "execute_result"
    }
   ],
   "source": [
    "A = [2 6 10;1 3 3;3 14 28]\n",
    "b = [0;2;-8]\n",
    "x,U = gauss_elim(A,b)\n",
    "x"
   ]
  },
  {
   "cell_type": "code",
   "execution_count": 7,
   "metadata": {},
   "outputs": [
    {
     "data": {
      "text/plain": [
       "3×3 Array{Float64,2}:\n",
       " 3.0  14.0   28.0\n",
       " 0.0  -5.0  -19.0\n",
       " 0.0   0.0    6.0"
      ]
     },
     "execution_count": 7,
     "metadata": {},
     "output_type": "execute_result"
    }
   ],
   "source": [
    "U"
   ]
  },
  {
   "cell_type": "code",
   "execution_count": 8,
   "metadata": {},
   "outputs": [
    {
     "data": {
      "text/plain": [
       "3-element Array{Float64,1}:\n",
       "  2.0000000000000013\n",
       "  0.9999999999999992\n",
       " -0.9999999999999998"
      ]
     },
     "execution_count": 8,
     "metadata": {},
     "output_type": "execute_result"
    }
   ],
   "source": [
    "A\\b"
   ]
  },
  {
   "cell_type": "markdown",
   "metadata": {},
   "source": [
    "Interestingly enough, our solver was more stable than the built-in. Lets compare time, though"
   ]
  },
  {
   "cell_type": "code",
   "execution_count": 9,
   "metadata": {},
   "outputs": [
    {
     "data": {
      "text/plain": [
       "BenchmarkTools.Trial: \n",
       "  memory estimate:  1.78 KiB\n",
       "  allocs estimate:  39\n",
       "  --------------\n",
       "  minimum time:     1.960 μs (0.00% GC)\n",
       "  median time:      2.043 μs (0.00% GC)\n",
       "  mean time:        2.925 μs (26.68% GC)\n",
       "  maximum time:     5.525 ms (99.92% GC)\n",
       "  --------------\n",
       "  samples:          10000\n",
       "  evals/sample:     9"
      ]
     },
     "execution_count": 9,
     "metadata": {},
     "output_type": "execute_result"
    }
   ],
   "source": [
    "@benchmark gauss_elim(A,b)"
   ]
  },
  {
   "cell_type": "code",
   "execution_count": 10,
   "metadata": {},
   "outputs": [
    {
     "data": {
      "text/plain": [
       "BenchmarkTools.Trial: \n",
       "  memory estimate:  720 bytes\n",
       "  allocs estimate:  7\n",
       "  --------------\n",
       "  minimum time:     633.391 ns (0.00% GC)\n",
       "  median time:      664.991 ns (0.00% GC)\n",
       "  mean time:        776.964 ns (11.00% GC)\n",
       "  maximum time:     290.033 μs (99.74% GC)\n",
       "  --------------\n",
       "  samples:          10000\n",
       "  evals/sample:     169"
      ]
     },
     "execution_count": 10,
     "metadata": {},
     "output_type": "execute_result"
    }
   ],
   "source": [
    "@benchmark A\\b"
   ]
  },
  {
   "cell_type": "markdown",
   "metadata": {},
   "source": [
    "Our code sucks. It is about 4 time slower than the built-in solver and uses 3 times more RAM.\n",
    "\n",
    "The last part was to compare with computing the inverse. Given\n",
    "\n",
    "Trying out the other example:\n",
    "\\begin{equation*}\n",
    "\\mathbf{A} =  \\begin{vmatrix}\n",
    "1 & 2 & 1\\\\\n",
    "3 & 8 & 1\\\\\n",
    "0 & 4 & 1\n",
    "\\end{vmatrix}\n",
    "\\end{equation*}\n",
    "\n",
    "\\begin{equation*}\n",
    "\\mathbf{b} =  \\begin{vmatrix}\n",
    "2 \\\\ 12 \\\\ 2\n",
    "\\end{vmatrix}\n",
    "\\end{equation*}"
   ]
  },
  {
   "cell_type": "markdown",
   "metadata": {},
   "source": [
    "First lets make sure the sovler works."
   ]
  },
  {
   "cell_type": "code",
   "execution_count": 15,
   "metadata": {},
   "outputs": [
    {
     "data": {
      "text/plain": [
       "true"
      ]
     },
     "execution_count": 15,
     "metadata": {},
     "output_type": "execute_result"
    }
   ],
   "source": [
    "A = [1 2 1;3 8 1;0 4 1]\n",
    "b = [2;12;2]\n",
    "x, U = gauss_elim(A,b)\n",
    "x - (A\\b) == zeros(length(b)) # Is our result correct?"
   ]
  },
  {
   "cell_type": "markdown",
   "metadata": {},
   "source": [
    "Now compare performace with built-ins and inverse"
   ]
  },
  {
   "cell_type": "code",
   "execution_count": 16,
   "metadata": {},
   "outputs": [
    {
     "data": {
      "text/plain": [
       "BenchmarkTools.Trial: \n",
       "  memory estimate:  1.78 KiB\n",
       "  allocs estimate:  39\n",
       "  --------------\n",
       "  minimum time:     1.952 μs (0.00% GC)\n",
       "  median time:      2.047 μs (0.00% GC)\n",
       "  mean time:        2.778 μs (23.25% GC)\n",
       "  maximum time:     5.095 ms (99.91% GC)\n",
       "  --------------\n",
       "  samples:          10000\n",
       "  evals/sample:     10"
      ]
     },
     "execution_count": 16,
     "metadata": {},
     "output_type": "execute_result"
    }
   ],
   "source": [
    "@benchmark gauss_elim(A,b)"
   ]
  },
  {
   "cell_type": "code",
   "execution_count": 17,
   "metadata": {},
   "outputs": [
    {
     "data": {
      "text/plain": [
       "BenchmarkTools.Trial: \n",
       "  memory estimate:  416 bytes\n",
       "  allocs estimate:  4\n",
       "  --------------\n",
       "  minimum time:     337.301 ns (0.00% GC)\n",
       "  median time:      356.493 ns (0.00% GC)\n",
       "  mean time:        443.913 ns (15.14% GC)\n",
       "  maximum time:     345.616 μs (99.83% GC)\n",
       "  --------------\n",
       "  samples:          10000\n",
       "  evals/sample:     219"
      ]
     },
     "execution_count": 17,
     "metadata": {},
     "output_type": "execute_result"
    }
   ],
   "source": [
    "@benchmark A\\b"
   ]
  },
  {
   "cell_type": "code",
   "execution_count": 18,
   "metadata": {},
   "outputs": [
    {
     "data": {
      "text/plain": [
       "BenchmarkTools.Trial: \n",
       "  memory estimate:  2.36 KiB\n",
       "  allocs estimate:  8\n",
       "  --------------\n",
       "  minimum time:     873.315 ns (0.00% GC)\n",
       "  median time:      922.778 ns (0.00% GC)\n",
       "  mean time:        1.209 μs (20.48% GC)\n",
       "  maximum time:     1.047 ms (99.87% GC)\n",
       "  --------------\n",
       "  samples:          10000\n",
       "  evals/sample:     54"
      ]
     },
     "execution_count": 18,
     "metadata": {},
     "output_type": "execute_result"
    }
   ],
   "source": [
    "@benchmark A^-1*b"
   ]
  },
  {
   "cell_type": "markdown",
   "metadata": {},
   "source": [
    "So the `backslash` operator was still the best, but our code had better memory efficiency than the inverse. The inverse was still faster."
   ]
  },
  {
   "cell_type": "markdown",
   "metadata": {},
   "source": [
    "## QR Decomposition\n",
    "Just testing built-ins. Julia doesn't natively have magic() so I am just going to use randoms."
   ]
  },
  {
   "cell_type": "code",
   "execution_count": 23,
   "metadata": {},
   "outputs": [
    {
     "data": {
      "text/plain": [
       "LinearAlgebra.QRCompactWY{Float64,Array{Float64,2}}\n",
       "Q factor:\n",
       "3×3 LinearAlgebra.QRCompactWYQ{Float64,Array{Float64,2}}:\n",
       " -0.23512    0.884326   0.403343\n",
       " -0.634972   0.174432  -0.752585\n",
       " -0.735887  -0.433059   0.52051 \n",
       "R factor:\n",
       "3×3 Array{Float64,2}:\n",
       " -1.03476  -0.798556  -0.91775 \n",
       "  0.0       0.627488   0.59903 \n",
       "  0.0       0.0        0.307118"
      ]
     },
     "execution_count": 23,
     "metadata": {},
     "output_type": "execute_result"
    }
   ],
   "source": [
    "N = 3\n",
    "A = rand(N,N)\n",
    "Q,R = qr(A)"
   ]
  },
  {
   "cell_type": "code",
   "execution_count": 28,
   "metadata": {},
   "outputs": [
    {
     "data": {
      "text/plain": [
       "true"
      ]
     },
     "execution_count": 28,
     "metadata": {},
     "output_type": "execute_result"
    }
   ],
   "source": [
    "isapprox(Q*R,A) # Using approx for stability reasons"
   ]
  },
  {
   "cell_type": "markdown",
   "metadata": {},
   "source": [
    "Hey look its a normal decomposition"
   ]
  },
  {
   "cell_type": "markdown",
   "metadata": {},
   "source": [
    "## Eigenvalues\n",
    "Just testing built-ins. Julia doesn't natively have magic() so I am just going to use randoms."
   ]
  },
  {
   "cell_type": "code",
   "execution_count": 32,
   "metadata": {},
   "outputs": [
    {
     "data": {
      "text/plain": [
       "Eigen{Float64,Float64,Array{Float64,2},Array{Float64,1}}\n",
       "eigenvalues:\n",
       "3-element Array{Float64,1}:\n",
       "  1.5901676244663618 \n",
       " -0.2019847913538348 \n",
       "  0.32939006548892424\n",
       "eigenvectors:\n",
       "3×3 Array{Float64,2}:\n",
       " 0.318139   0.763281   0.357744\n",
       " 0.71043   -0.467275  -0.921159\n",
       " 0.627755  -0.446157   0.153251"
      ]
     },
     "execution_count": 32,
     "metadata": {},
     "output_type": "execute_result"
    }
   ],
   "source": [
    "N = 3\n",
    "A = rand(N,N)\n",
    "eigen(A)"
   ]
  },
  {
   "cell_type": "markdown",
   "metadata": {},
   "source": [
    "Neat."
   ]
  }
 ],
 "metadata": {
  "kernelspec": {
   "display_name": "Julia 1.0.0",
   "language": "julia",
   "name": "julia-1.0"
  },
  "language_info": {
   "file_extension": ".jl",
   "mimetype": "application/julia",
   "name": "julia",
   "version": "1.0.0"
  }
 },
 "nbformat": 4,
 "nbformat_minor": 2
}
