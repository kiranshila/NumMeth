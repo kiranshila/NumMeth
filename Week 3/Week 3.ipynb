{
 "cells": [
  {
   "cell_type": "markdown",
   "metadata": {},
   "source": [
    "# Numerical Methods - Week 3\n",
    "## Kiran Shila - U54532811\n",
    "\n",
    "In this notebook, I will demonstrate the deliverables for the week 3 assignment."
   ]
  },
  {
   "cell_type": "markdown",
   "metadata": {},
   "source": [
    "## Gaussian Elimination\n",
    "The first part of this assignment was to write gaussian elimination code that utilizes partial pivoting"
   ]
  },
  {
   "cell_type": "code",
   "execution_count": 1,
   "metadata": {},
   "outputs": [],
   "source": [
    "using BenchmarkTools\n",
    "using LinearAlgebra"
   ]
  },
  {
   "cell_type": "code",
   "execution_count": 2,
   "metadata": {},
   "outputs": [
    {
     "data": {
      "text/plain": [
       "gauss_elim (generic function with 1 method)"
      ]
     },
     "execution_count": 2,
     "metadata": {},
     "output_type": "execute_result"
    }
   ],
   "source": [
    "function gauss_elim(A::Matrix,b::Vector)\n",
    "    # Create augmented matrix\n",
    "    # make sure its a float otherwise we get float errors\n",
    "    n = size(b)[1]\n",
    "    A_Aug = float([A b])\n",
    "    # For every column except the last one because pivots\n",
    "    for k = 1:n-1\n",
    "        # Find the largest pivot in this column, referenced to the pivot\n",
    "        location = findmax(broadcast(abs,A_Aug[k:end,k]))[2] + k - 1\n",
    "        maxVal = A_Aug[location,k]\n",
    "        # Check to see if current pivot is the max,\n",
    "        # if it isn't - swap\n",
    "        if A_Aug[k,k] != maxVal\n",
    "            for j in k:n+1\n",
    "                A_Aug[location,j], A_Aug[k,j] = A_Aug[k,j], A_Aug[location,j]\n",
    "            end\n",
    "        end\n",
    "        # Now perform gaussian elimination\n",
    "        # For every row under the pivot\n",
    "        for i = k+1:n\n",
    "            # Normalize to the pivot and subtract from pivot row\n",
    "            if A_Aug[i,k] != 0 # Ensures that we need to perform elimination\n",
    "                scale =  A_Aug[i,k] / A_Aug[k,k]\n",
    "                for j in k:size(A_Aug)[2]\n",
    "                    A_Aug[i,j] = A_Aug[i,j] - scale * A_Aug[k,j]\n",
    "                end\n",
    "            end\n",
    "        end\n",
    "    end\n",
    "    # Now back substitute to get to x\n",
    "    x = zeros(Float64,n) # Create zeros for solution vector\n",
    "    x[n] = A_Aug[end,end] / A_Aug[n,n] # Set the starting x\n",
    "    # For every row, working backwards starting with the second from the bottom\n",
    "    for i in n-1:-1:1\n",
    "        x[i] = (A_Aug[i,end] - sum( [x[j] * A_Aug[i,j] for j in i+1:n] )) / A_Aug[i,i]\n",
    "    end\n",
    "    # Return solution vector x and U\n",
    "    return x, A_Aug[:,1:end-1]\n",
    "end"
   ]
  },
  {
   "cell_type": "markdown",
   "metadata": {},
   "source": [
    "Now to test against the examples from the assignment:\n",
    "\\begin{equation*}\n",
    "\\mathbf{A} =  \\begin{vmatrix}\n",
    "1 & 2 & 1\\\\\n",
    "3 & 8 & 1\\\\\n",
    "0 & 4 & 1\n",
    "\\end{vmatrix}\n",
    "\\end{equation*}\n",
    "\n",
    "\\begin{equation*}\n",
    "\\mathbf{b} =  \\begin{vmatrix}\n",
    "2 \\\\ 12 \\\\ 2\n",
    "\\end{vmatrix}\n",
    "\\end{equation*}"
   ]
  },
  {
   "cell_type": "code",
   "execution_count": 3,
   "metadata": {},
   "outputs": [
    {
     "data": {
      "text/plain": [
       "3-element Array{Float64,1}:\n",
       "  2.0\n",
       "  1.0\n",
       " -2.0"
      ]
     },
     "execution_count": 3,
     "metadata": {},
     "output_type": "execute_result"
    }
   ],
   "source": [
    "A = [1 2 1; 3 8 1; 0 4 1]\n",
    "b = [2;12;2]\n",
    "x,U = gauss_elim(A,b)\n",
    "x"
   ]
  },
  {
   "cell_type": "markdown",
   "metadata": {},
   "source": [
    "This matches what was expected from the assignment. Just to compare to the built-in solver:"
   ]
  },
  {
   "cell_type": "code",
   "execution_count": 4,
   "metadata": {},
   "outputs": [
    {
     "data": {
      "text/plain": [
       "3-element Array{Float64,1}:\n",
       "  2.0\n",
       "  1.0\n",
       " -2.0"
      ]
     },
     "execution_count": 4,
     "metadata": {},
     "output_type": "execute_result"
    }
   ],
   "source": [
    "A\\b"
   ]
  },
  {
   "cell_type": "markdown",
   "metadata": {},
   "source": [
    "And checking the upper triangular that we used to perform back-substitution"
   ]
  },
  {
   "cell_type": "code",
   "execution_count": 5,
   "metadata": {},
   "outputs": [
    {
     "data": {
      "text/plain": [
       "3×3 Array{Float64,2}:\n",
       " 3.0  8.0  1.0     \n",
       " 0.0  4.0  1.0     \n",
       " 0.0  0.0  0.833333"
      ]
     },
     "execution_count": 5,
     "metadata": {},
     "output_type": "execute_result"
    }
   ],
   "source": [
    "U"
   ]
  },
  {
   "cell_type": "markdown",
   "metadata": {},
   "source": [
    "Trying out the other example:\n",
    "\\begin{equation*}\n",
    "\\mathbf{A} =  \\begin{vmatrix}\n",
    "2 & 6 & 10\\\\\n",
    "1 & 3 & 3\\\\\n",
    "3 & 14 & 28\n",
    "\\end{vmatrix}\n",
    "\\end{equation*}\n",
    "\n",
    "\\begin{equation*}\n",
    "\\mathbf{b} =  \\begin{vmatrix}\n",
    "0 \\\\ 2 \\\\ -8\n",
    "\\end{vmatrix}\n",
    "\\end{equation*}"
   ]
  },
  {
   "cell_type": "code",
   "execution_count": 6,
   "metadata": {},
   "outputs": [
    {
     "data": {
      "text/plain": [
       "3-element Array{Float64,1}:\n",
       "  2.0000000000000013\n",
       "  0.9999999999999992\n",
       " -0.9999999999999998"
      ]
     },
     "execution_count": 6,
     "metadata": {},
     "output_type": "execute_result"
    }
   ],
   "source": [
    "A = [2 6 10;1 3 3;3 14 28]\n",
    "b = [0;2;-8]\n",
    "x,U = gauss_elim(A,b)\n",
    "x"
   ]
  },
  {
   "cell_type": "code",
   "execution_count": 7,
   "metadata": {},
   "outputs": [
    {
     "data": {
      "text/plain": [
       "3×3 Array{Float64,2}:\n",
       " 3.0  14.0      28.0    \n",
       " 0.0  -3.33333  -8.66667\n",
       " 0.0   0.0      -2.0    "
      ]
     },
     "execution_count": 7,
     "metadata": {},
     "output_type": "execute_result"
    }
   ],
   "source": [
    "U"
   ]
  },
  {
   "cell_type": "code",
   "execution_count": 8,
   "metadata": {},
   "outputs": [
    {
     "data": {
      "text/plain": [
       "3-element Array{Float64,1}:\n",
       "  2.0000000000000013\n",
       "  0.9999999999999992\n",
       " -0.9999999999999998"
      ]
     },
     "execution_count": 8,
     "metadata": {},
     "output_type": "execute_result"
    }
   ],
   "source": [
    "A\\b"
   ]
  },
  {
   "cell_type": "markdown",
   "metadata": {},
   "source": [
    "Interestingly enough, our solver was just as unstable as the built-in. Lets compare time, though"
   ]
  },
  {
   "cell_type": "code",
   "execution_count": 9,
   "metadata": {},
   "outputs": [
    {
     "data": {
      "text/plain": [
       "BenchmarkTools.Trial: \n",
       "  memory estimate:  1.78 KiB\n",
       "  allocs estimate:  39\n",
       "  --------------\n",
       "  minimum time:     1.959 μs (0.00% GC)\n",
       "  median time:      2.038 μs (0.00% GC)\n",
       "  mean time:        2.822 μs (23.85% GC)\n",
       "  maximum time:     5.456 ms (99.92% GC)\n",
       "  --------------\n",
       "  samples:          10000\n",
       "  evals/sample:     10"
      ]
     },
     "execution_count": 9,
     "metadata": {},
     "output_type": "execute_result"
    }
   ],
   "source": [
    "@benchmark gauss_elim(A,b)"
   ]
  },
  {
   "cell_type": "code",
   "execution_count": 10,
   "metadata": {},
   "outputs": [
    {
     "data": {
      "text/plain": [
       "BenchmarkTools.Trial: \n",
       "  memory estimate:  720 bytes\n",
       "  allocs estimate:  7\n",
       "  --------------\n",
       "  minimum time:     653.646 ns (0.00% GC)\n",
       "  median time:      714.885 ns (0.00% GC)\n",
       "  mean time:        909.416 ns (13.00% GC)\n",
       "  maximum time:     587.648 μs (99.78% GC)\n",
       "  --------------\n",
       "  samples:          10000\n",
       "  evals/sample:     161"
      ]
     },
     "execution_count": 10,
     "metadata": {},
     "output_type": "execute_result"
    }
   ],
   "source": [
    "@benchmark A\\b"
   ]
  },
  {
   "cell_type": "markdown",
   "metadata": {},
   "source": [
    "Our code sucks. It is about 4 time slower than the built-in solver and uses 3 times more RAM.\n",
    "\n",
    "The last part was to compare with computing the inverse. Given\n",
    "\n",
    "Trying out the other example:\n",
    "\\begin{equation*}\n",
    "\\mathbf{A} =  \\begin{vmatrix}\n",
    "1 & 2 & 1\\\\\n",
    "3 & 8 & 1\\\\\n",
    "0 & 4 & 1\n",
    "\\end{vmatrix}\n",
    "\\end{equation*}\n",
    "\n",
    "\\begin{equation*}\n",
    "\\mathbf{b} =  \\begin{vmatrix}\n",
    "2 \\\\ 12 \\\\ 2\n",
    "\\end{vmatrix}\n",
    "\\end{equation*}"
   ]
  },
  {
   "cell_type": "markdown",
   "metadata": {},
   "source": [
    "First lets make sure the sovler works."
   ]
  },
  {
   "cell_type": "code",
   "execution_count": 11,
   "metadata": {},
   "outputs": [
    {
     "data": {
      "text/plain": [
       "true"
      ]
     },
     "execution_count": 11,
     "metadata": {},
     "output_type": "execute_result"
    }
   ],
   "source": [
    "A = [1 2 1;3 8 1;0 4 1]\n",
    "b = [2;12;2]\n",
    "x, U = gauss_elim(A,b)\n",
    "x - (A\\b) == zeros(length(b)) # Is our result correct?"
   ]
  },
  {
   "cell_type": "markdown",
   "metadata": {},
   "source": [
    "Now compare performace with built-ins and inverse"
   ]
  },
  {
   "cell_type": "code",
   "execution_count": 12,
   "metadata": {},
   "outputs": [
    {
     "data": {
      "text/plain": [
       "BenchmarkTools.Trial: \n",
       "  memory estimate:  1.78 KiB\n",
       "  allocs estimate:  39\n",
       "  --------------\n",
       "  minimum time:     1.979 μs (0.00% GC)\n",
       "  median time:      2.190 μs (0.00% GC)\n",
       "  mean time:        3.754 μs (35.68% GC)\n",
       "  maximum time:     9.226 ms (99.94% GC)\n",
       "  --------------\n",
       "  samples:          10000\n",
       "  evals/sample:     9"
      ]
     },
     "execution_count": 12,
     "metadata": {},
     "output_type": "execute_result"
    }
   ],
   "source": [
    "@benchmark gauss_elim(A,b)"
   ]
  },
  {
   "cell_type": "code",
   "execution_count": 13,
   "metadata": {},
   "outputs": [
    {
     "data": {
      "text/plain": [
       "BenchmarkTools.Trial: \n",
       "  memory estimate:  416 bytes\n",
       "  allocs estimate:  4\n",
       "  --------------\n",
       "  minimum time:     338.491 ns (0.00% GC)\n",
       "  median time:      355.933 ns (0.00% GC)\n",
       "  mean time:        434.930 ns (13.15% GC)\n",
       "  maximum time:     249.649 μs (99.80% GC)\n",
       "  --------------\n",
       "  samples:          10000\n",
       "  evals/sample:     218"
      ]
     },
     "execution_count": 13,
     "metadata": {},
     "output_type": "execute_result"
    }
   ],
   "source": [
    "@benchmark A\\b"
   ]
  },
  {
   "cell_type": "code",
   "execution_count": 14,
   "metadata": {},
   "outputs": [
    {
     "data": {
      "text/plain": [
       "BenchmarkTools.Trial: \n",
       "  memory estimate:  2.36 KiB\n",
       "  allocs estimate:  8\n",
       "  --------------\n",
       "  minimum time:     913.250 ns (0.00% GC)\n",
       "  median time:      986.222 ns (0.00% GC)\n",
       "  mean time:        1.408 μs (22.05% GC)\n",
       "  maximum time:     1.405 ms (99.89% GC)\n",
       "  --------------\n",
       "  samples:          10000\n",
       "  evals/sample:     36"
      ]
     },
     "execution_count": 14,
     "metadata": {},
     "output_type": "execute_result"
    }
   ],
   "source": [
    "@benchmark A^-1*b"
   ]
  },
  {
   "cell_type": "markdown",
   "metadata": {},
   "source": [
    "So the `backslash` operator was still the best, but our code had better memory efficiency than the inverse. The inverse was still faster."
   ]
  },
  {
   "cell_type": "markdown",
   "metadata": {},
   "source": [
    "## LU Decomposition\n",
    "Modified the gaussian elimination code to support LU decomposition"
   ]
  },
  {
   "cell_type": "code",
   "execution_count": 15,
   "metadata": {},
   "outputs": [
    {
     "data": {
      "text/plain": [
       "my_lu (generic function with 1 method)"
      ]
     },
     "execution_count": 15,
     "metadata": {},
     "output_type": "execute_result"
    }
   ],
   "source": [
    "function my_lu(A::Matrix)\n",
    "    # Create copy\n",
    "    # make sure its a float otherwise we get float errors\n",
    "    n = size(A)[1]\n",
    "    A_Copy = float(A)\n",
    "    L = float(one(A))\n",
    "    P = one(A)\n",
    "    # For every column except the last one because pivots\n",
    "    for k = 1:n-1\n",
    "        # Find the largest pivot in this column\n",
    "        location = findmax(broadcast(abs,A_Copy[k:end,k]))[2] + k - 1\n",
    "        maxVal = A_Copy[location,k]\n",
    "        # Check to see if current pivot is the max,\n",
    "        # if it isn't - swap\n",
    "        if A_Copy[k,k] != maxVal\n",
    "            for j in k:size(A_Copy)[2]\n",
    "                temp = A_Copy[location,j]\n",
    "                A_Copy[location,j] = A_Copy[k,j]\n",
    "                A_Copy[k,j] = temp\n",
    "            end\n",
    "            # And swap in P\n",
    "            P[location,:] , P[k,:] = P[k,:] , P[location,:]\n",
    "            # And swap columns in L\n",
    "            L[:,location] , L[:,k] = L[:,k] , L[:,location]\n",
    "        end\n",
    "\n",
    "        # Now perform gaussian elimination\n",
    "        # For every row under the pivot\n",
    "        for i = k+1:n\n",
    "            # Normalize to the pivot and subtract from pivot row\n",
    "            if A_Copy[i,k] != 0 # Ensures that we need to perform elimination\n",
    "                scale =  A_Copy[i,k] / A_Copy[k,k]\n",
    "                thisL = float(one(A))\n",
    "                thisL[i,k] = scale\n",
    "                L = L * thisL\n",
    "                for j in k:size(A_Copy)[2]\n",
    "                    A_Copy[i,j] = A_Copy[i,j] - scale * A_Copy[k,j]\n",
    "                end\n",
    "            end\n",
    "        end\n",
    "    end\n",
    "    # Return solution vector L and U\n",
    "    return P*L,A_Copy,P\n",
    "end"
   ]
  },
  {
   "cell_type": "markdown",
   "metadata": {},
   "source": [
    "And now test"
   ]
  },
  {
   "cell_type": "code",
   "execution_count": 16,
   "metadata": {},
   "outputs": [
    {
     "data": {
      "text/plain": [
       "3×3 Array{Float64,2}:\n",
       " 1.0       0.0  0.0\n",
       " 0.666667  1.0  0.0\n",
       " 0.333333  0.5  1.0"
      ]
     },
     "metadata": {},
     "output_type": "display_data"
    },
    {
     "data": {
      "text/plain": [
       "3×3 Array{Float64,2}:\n",
       " 3.0  14.0      28.0    \n",
       " 0.0  -3.33333  -8.66667\n",
       " 0.0   0.0      -2.0    "
      ]
     },
     "metadata": {},
     "output_type": "display_data"
    },
    {
     "data": {
      "text/plain": [
       "3×3 Array{Int64,2}:\n",
       " 0  0  1\n",
       " 1  0  0\n",
       " 0  1  0"
      ]
     },
     "metadata": {},
     "output_type": "display_data"
    }
   ],
   "source": [
    "A = [2 6 10;1 3 3;3 14 28]\n",
    "L,U,P = my_lu(A)\n",
    "display(L)\n",
    "display(U)\n",
    "display(P)"
   ]
  },
  {
   "cell_type": "code",
   "execution_count": 17,
   "metadata": {},
   "outputs": [
    {
     "data": {
      "text/plain": [
       "true"
      ]
     },
     "execution_count": 17,
     "metadata": {},
     "output_type": "execute_result"
    }
   ],
   "source": [
    "isapprox(L*U,P*A)"
   ]
  },
  {
   "cell_type": "code",
   "execution_count": 18,
   "metadata": {},
   "outputs": [
    {
     "data": {
      "text/plain": [
       "true"
      ]
     },
     "execution_count": 18,
     "metadata": {},
     "output_type": "execute_result"
    }
   ],
   "source": [
    "_L,_U = lu(A)\n",
    "isapprox(_L,L) & isapprox(_U,U) # Both need to be true"
   ]
  },
  {
   "cell_type": "markdown",
   "metadata": {},
   "source": [
    "## QR Decomposition\n",
    "Just testing built-ins. Julia doesn't natively have magic() so I am just going to use randoms."
   ]
  },
  {
   "cell_type": "code",
   "execution_count": 19,
   "metadata": {},
   "outputs": [
    {
     "data": {
      "text/plain": [
       "LinearAlgebra.QRCompactWY{Float64,Array{Float64,2}}\n",
       "Q factor:\n",
       "3×3 LinearAlgebra.QRCompactWYQ{Float64,Array{Float64,2}}:\n",
       " -0.341519   0.617561   0.708508\n",
       " -0.709807   0.32465   -0.625121\n",
       " -0.616067  -0.716395   0.327475\n",
       "R factor:\n",
       "3×3 Array{Float64,2}:\n",
       " -1.13797  -0.980976  -1.14548 \n",
       "  0.0       0.834652  -0.125268\n",
       "  0.0       0.0        0.604019"
      ]
     },
     "execution_count": 19,
     "metadata": {},
     "output_type": "execute_result"
    }
   ],
   "source": [
    "N = 3\n",
    "A = rand(N,N)\n",
    "Q,R = qr(A)"
   ]
  },
  {
   "cell_type": "code",
   "execution_count": 20,
   "metadata": {},
   "outputs": [
    {
     "data": {
      "text/plain": [
       "true"
      ]
     },
     "execution_count": 20,
     "metadata": {},
     "output_type": "execute_result"
    }
   ],
   "source": [
    "isapprox(Q*R,A) # Using approx for stability reasons"
   ]
  },
  {
   "cell_type": "markdown",
   "metadata": {},
   "source": [
    "Hey look its a normal decomposition"
   ]
  },
  {
   "cell_type": "markdown",
   "metadata": {},
   "source": [
    "## Eigenvalues\n",
    "Just testing built-ins. Julia doesn't natively have magic() so I am just going to use randoms."
   ]
  },
  {
   "cell_type": "code",
   "execution_count": 21,
   "metadata": {},
   "outputs": [
    {
     "data": {
      "text/plain": [
       "Eigen{Float64,Float64,Array{Float64,2},Array{Float64,1}}\n",
       "eigenvalues:\n",
       "3-element Array{Float64,1}:\n",
       " 1.608184016825046  \n",
       " 0.18042200078145032\n",
       " 0.4184987119764079 \n",
       "eigenvectors:\n",
       "3×3 Array{Float64,2}:\n",
       " 0.478262   0.379229  -0.154369\n",
       " 0.312082  -0.717756  -0.168049\n",
       " 0.820896   0.583962   0.973617"
      ]
     },
     "execution_count": 21,
     "metadata": {},
     "output_type": "execute_result"
    }
   ],
   "source": [
    "N = 3\n",
    "A = rand(N,N)\n",
    "eigen(A)"
   ]
  },
  {
   "cell_type": "markdown",
   "metadata": {},
   "source": [
    "Neat."
   ]
  }
 ],
 "metadata": {
  "kernelspec": {
   "display_name": "Julia 1.0.0",
   "language": "julia",
   "name": "julia-1.0"
  },
  "language_info": {
   "file_extension": ".jl",
   "mimetype": "application/julia",
   "name": "julia",
   "version": "1.0.0"
  }
 },
 "nbformat": 4,
 "nbformat_minor": 2
}
